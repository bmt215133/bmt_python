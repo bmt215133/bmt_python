{
  "nbformat": 4,
  "nbformat_minor": 0,
  "metadata": {
    "colab": {
      "name": "21513_8주차수업.ipynb",
      "provenance": [],
      "mount_file_id": "1ZdLa3xiG9vCxN5Ff2c5WjKbahEhyCHXm",
      "authorship_tag": "ABX9TyOGytBXIRy3FygZBr8QJpNH",
      "include_colab_link": true
    },
    "kernelspec": {
      "name": "python3",
      "display_name": "Python 3"
    },
    "language_info": {
      "name": "python"
    }
  },
  "cells": [
    {
      "cell_type": "markdown",
      "metadata": {
        "id": "view-in-github",
        "colab_type": "text"
      },
      "source": [
        "<a href=\"https://colab.research.google.com/github/bmt215133/bmt_python/blob/main/21513_8%EC%A3%BC%EC%B0%A8%EC%88%98%EC%97%85.ipynb\" target=\"_parent\"><img src=\"https://colab.research.google.com/assets/colab-badge.svg\" alt=\"Open In Colab\"/></a>"
      ]
    },
    {
      "cell_type": "code",
      "metadata": {
        "colab": {
          "base_uri": "https://localhost:8080/"
        },
        "id": "h2N3tCVU-kGI",
        "outputId": "f3e7d9e2-6f94-421f-bac7-6b04739e3b77"
      },
      "source": [
        "lst_even = list()\n",
        "lst_odd = []\n",
        "\n",
        "for i in range(5) :\n",
        "  num = int(input('숫자 입력 :'))\n",
        "\n",
        "  if num % 2 == 0 :\n",
        "    lst_even.append(num)\n",
        "  else :\n",
        "    lst_odd.append(num)\n",
        "\n",
        "print(f'짝수 리스트 : {lst_even}') \n",
        "print(f'홀수 리스트 : {lst_odd}')       "
      ],
      "execution_count": 1,
      "outputs": [
        {
          "output_type": "stream",
          "text": [
            "숫자 입력 :1\n",
            "숫자 입력 :2\n",
            "숫자 입력 :3\n",
            "숫자 입력 :4\n",
            "숫자 입력 :5\n",
            "짝수 리스트 : [2, 4]\n",
            "홀수 리스트 : [1, 3, 5]\n"
          ],
          "name": "stdout"
        }
      ]
    },
    {
      "cell_type": "code",
      "metadata": {
        "id": "Qv5GK7chAqUR"
      },
      "source": [
        "area = { '서울시':57, '부산시':62, '대구시':59,\n",
        "         '인천시':59, '강화군':58, '서해5도':64,\n",
        "         '광주시':62, '대전시':60, '울산시':53,\n",
        "         '세종시':58 }\n",
        "\n",
        "report = { '위험':'설사, 구토 등 식중독 의심 증상이 있으면 의료기관을 방문하여 의사 지시에 따름',\n",
        "           '경고':'조리도구는 세척, 소독 등을 거쳐 세균 오염을 방지하고 유통기한, 보관 방법 등을 확인하여 음식물 조리, 보관에 각별히 주의하여야 함',\n",
        "           '주의':'조리 음식은 중심부까지 75도(어패류 85도)로 1분 이상 완전히 익히고 외부로 운반할 때에는 가급적 아이스박스 등을 이용하여 10도 이하에서 보관 및 운반',\n",
        "           '관심':'화장실 사용 후, 귀가 후, 조리 전에 손 씻기를 생활화'\n",
        "          }\n",
        "\n",
        "\n",
        "areashow = {}\n",
        "\n",
        "for key, value in area.items() :\n",
        "  if value >= 86: check = '위험'\n",
        "  elif value >= 71 : check = '경고'\n",
        "  elif value >= 55 : check = '주의'\n",
        "  else : check = '관심'\n",
        "\n",
        "\n",
        "\n",
        "\n",
        "  areashow[key] = check\n",
        " \n",
        "\n",
        "\n",
        "\n",
        "\n"
      ],
      "execution_count": 6,
      "outputs": []
    },
    {
      "cell_type": "code",
      "metadata": {
        "colab": {
          "base_uri": "https://localhost:8080/"
        },
        "id": "6iNNhHwvDknY",
        "outputId": "fae51fc7-0eb0-417e-8cff-e2455dcf54a8"
      },
      "source": [
        "areashow"
      ],
      "execution_count": 9,
      "outputs": [
        {
          "output_type": "execute_result",
          "data": {
            "text/plain": [
              "{'강화군': '주의',\n",
              " '광주시': '주의',\n",
              " '대구시': '주의',\n",
              " '대전시': '주의',\n",
              " '부산시': '주의',\n",
              " '서울시': '주의',\n",
              " '서해5도': '주의',\n",
              " '세종시': '주의',\n",
              " '울산시': '관심',\n",
              " '인천시': '주의'}"
            ]
          },
          "metadata": {
            "tags": []
          },
          "execution_count": 9
        }
      ]
    },
    {
      "cell_type": "code",
      "metadata": {
        "colab": {
          "base_uri": "https://localhost:8080/"
        },
        "id": "OY0V3QiKCv2w",
        "outputId": "6d4171a2-29ce-4d5b-b9eb-135750467c47"
      },
      "source": [
        "print('지역 목록',list(area.keys()))"
      ],
      "execution_count": 7,
      "outputs": [
        {
          "output_type": "stream",
          "text": [
            "지역 목록 ['서울시', '부산시', '대구시', '인천시', '강화군', '서해5도', '광주시', '대전시', '울산시', '세종시']\n"
          ],
          "name": "stdout"
        }
      ]
    },
    {
      "cell_type": "code",
      "metadata": {
        "colab": {
          "base_uri": "https://localhost:8080/"
        },
        "id": "RFh79Bp4DSlI",
        "outputId": "fa54ec99-0969-4ea9-cbf4-11879f3af62c"
      },
      "source": [
        "idata = input('지역별 대처요령의 지역을 입력 :')\n",
        "inrest = areashow[indata]\n",
        "print(report[areashow[idata]])"
      ],
      "execution_count": 11,
      "outputs": [
        {
          "output_type": "stream",
          "text": [
            "지역별 대처요령의 지역을 입력 :부산시\n",
            "조리 음식은 중심부까지 75도(어패류 85도)로 1분 이상 완전히 익히고 외부로 운반할 때에는 가급적 아이스박스 등을 이용하여 10도 이하에서 보관 및 운반\n"
          ],
          "name": "stdout"
        }
      ]
    },
    {
      "cell_type": "code",
      "metadata": {
        "colab": {
          "base_uri": "https://localhost:8080/",
          "height": 35
        },
        "id": "GDdfPmITDuNI",
        "outputId": "229d339b-b0ea-48a3-8688-3f45b98c485d"
      },
      "source": [
        "areashow['서울시']"
      ],
      "execution_count": 12,
      "outputs": [
        {
          "output_type": "execute_result",
          "data": {
            "application/vnd.google.colaboratory.intrinsic+json": {
              "type": "string"
            },
            "text/plain": [
              "'주의'"
            ]
          },
          "metadata": {
            "tags": []
          },
          "execution_count": 12
        }
      ]
    },
    {
      "cell_type": "code",
      "metadata": {
        "colab": {
          "base_uri": "https://localhost:8080/",
          "height": 54
        },
        "id": "G_yIk-JxEPtM",
        "outputId": "8fdb254b-0f40-4043-fe84-bd49fdf4e69d"
      },
      "source": [
        "report['주의']"
      ],
      "execution_count": 13,
      "outputs": [
        {
          "output_type": "execute_result",
          "data": {
            "application/vnd.google.colaboratory.intrinsic+json": {
              "type": "string"
            },
            "text/plain": [
              "'조리 음식은 중심부까지 75도(어패류 85도)로 1분 이상 완전히 익히고 외부로 운반할 때에는 가급적 아이스박스 등을 이용하여 10도 이하에서 보관 및 운반'"
            ]
          },
          "metadata": {
            "tags": []
          },
          "execution_count": 13
        }
      ]
    },
    {
      "cell_type": "code",
      "metadata": {
        "id": "qRpZNII9ESub"
      },
      "source": [
        "def cal(num1,num2,op):\n",
        "  ans = 0\n",
        "\n",
        "  if op == '+' : ans = num1 + num2\n",
        "  elif op == '-' : ans = num1 - num2\n",
        "  elif op == '*' : ans = num1 * num2\n",
        "  elif op == '/' : ans = num1 / num2\n",
        "\n",
        "\n",
        "  print(f'{num1} {op} {num2} = {ans}')\n",
        "  return 'hello'\n",
        "\n"
      ],
      "execution_count": 21,
      "outputs": []
    },
    {
      "cell_type": "code",
      "metadata": {
        "colab": {
          "base_uri": "https://localhost:8080/"
        },
        "id": "PrslwN6gGIdS",
        "outputId": "bbfb9164-490e-4d7d-888b-59757483fb8d"
      },
      "source": [
        "a = cal(2,3,'+')"
      ],
      "execution_count": 22,
      "outputs": [
        {
          "output_type": "stream",
          "text": [
            "2 + 3 = 5\n"
          ],
          "name": "stdout"
        }
      ]
    },
    {
      "cell_type": "code",
      "metadata": {
        "colab": {
          "base_uri": "https://localhost:8080/",
          "height": 35
        },
        "id": "5qQfbo4sGMi5",
        "outputId": "7bd5a7f2-aecc-4ca7-ddf4-e4c6c5081c6e"
      },
      "source": [
        "a"
      ],
      "execution_count": 23,
      "outputs": [
        {
          "output_type": "execute_result",
          "data": {
            "application/vnd.google.colaboratory.intrinsic+json": {
              "type": "string"
            },
            "text/plain": [
              "'hello'"
            ]
          },
          "metadata": {
            "tags": []
          },
          "execution_count": 23
        }
      ]
    },
    {
      "cell_type": "code",
      "metadata": {
        "colab": {
          "base_uri": "https://localhost:8080/"
        },
        "id": "JWTJp82SG0ZR",
        "outputId": "ba9416e5-e4d8-47d4-9c2c-4049ab1b80e8"
      },
      "source": [
        "width = int(input('가로 길이 입력:'))\n",
        "height = int(input('높이 입력:'))\n",
        "\n",
        "area = width * height\n",
        "\n",
        "if width == height:\n",
        "  print(f'정사각형의 넓이 : {area}')\n",
        "else :\n",
        "  print(f'직사각형의 넓이 : {area}')"
      ],
      "execution_count": 26,
      "outputs": [
        {
          "output_type": "stream",
          "text": [
            "가로 길이 입력:5\n",
            "높이 입력:5\n",
            "정사각형의 넓이 : 25\n"
          ],
          "name": "stdout"
        }
      ]
    },
    {
      "cell_type": "code",
      "metadata": {
        "id": "lnwtK9mPHdcp"
      },
      "source": [
        "path = '/content/drive/My Drive/data/'\n",
        "\n",
        "f = open(path+'test.txt','w')\n",
        "\n",
        "f.write('안녕하세요.')\n",
        "\n",
        "f.close()"
      ],
      "execution_count": 52,
      "outputs": []
    },
    {
      "cell_type": "code",
      "metadata": {
        "id": "bSlNPb54N1OB"
      },
      "source": [
        "f = open('ex01.txt','r')\n"
      ],
      "execution_count": 53,
      "outputs": []
    },
    {
      "cell_type": "code",
      "metadata": {
        "colab": {
          "base_uri": "https://localhost:8080/"
        },
        "id": "s_QUNHxiThtP",
        "outputId": "a4f5cc15-bf13-4bec-8afa-98c6e9f7e083"
      },
      "source": [
        "f = open('지역평균기온.txt')\n",
        "\n",
        "data = f.read()\n",
        "\n",
        "f.close()\n",
        "\n",
        "print(data)"
      ],
      "execution_count": 55,
      "outputs": [
        {
          "output_type": "stream",
          "text": [
            "서울,20\n",
            "부산,26\n",
            "대구,24\n",
            "인천,24\n",
            "광주,25\n",
            "대전,22\n",
            "울산,26\n",
            "세종,23\n",
            "경기,24\n",
            "강원,23\n",
            "충북,26\n",
            "충남,22\n",
            "전북,24\n",
            "전남,23\n",
            "경북,28\n",
            "경남,29\n",
            "제주,26\n"
          ],
          "name": "stdout"
        }
      ]
    },
    {
      "cell_type": "code",
      "metadata": {
        "colab": {
          "base_uri": "https://localhost:8080/"
        },
        "id": "ZFmeXp57USjf",
        "outputId": "a7a60063-b1ff-4f27-ddc4-949ea01148d2"
      },
      "source": [
        "fp = open(path+'지역평균기온.txt')\n",
        "data = fp.readlines()\n",
        "fp.close()\n",
        "\n",
        "dt = {}\n",
        "dt_list = {}\n",
        "\n",
        "for line in data :\n",
        "  line = line.replace('\\n','')\n",
        "  items = line.split(',')\n",
        "  dt[items[0]] = int(items[1])\n",
        "  \n",
        "  \n",
        " \n",
        "  \n",
        "\n",
        "dt"
      ],
      "execution_count": 64,
      "outputs": [
        {
          "output_type": "execute_result",
          "data": {
            "text/plain": [
              "{'강원': 23,\n",
              " '경기': 24,\n",
              " '경남': 29,\n",
              " '경북': 28,\n",
              " '광주': 25,\n",
              " '대구': 24,\n",
              " '대전': 22,\n",
              " '부산': 26,\n",
              " '서울': 20,\n",
              " '세종': 23,\n",
              " '울산': 26,\n",
              " '인천': 24,\n",
              " '전남': 23,\n",
              " '전북': 24,\n",
              " '제주': 26,\n",
              " '충남': 22,\n",
              " '충북': 26}"
            ]
          },
          "metadata": {
            "tags": []
          },
          "execution_count": 64
        }
      ]
    },
    {
      "cell_type": "code",
      "metadata": {
        "id": "ppf0aKqgVgnb"
      },
      "source": [
        ""
      ],
      "execution_count": null,
      "outputs": []
    }
  ]
}