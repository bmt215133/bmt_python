{
  "nbformat": 4,
  "nbformat_minor": 0,
  "metadata": {
    "colab": {
      "name": "21513_12주차실습.ipynb",
      "provenance": [],
      "collapsed_sections": [],
      "authorship_tag": "ABX9TyN4am32gPhnu8uSn2z+1Vnq",
      "include_colab_link": true
    },
    "kernelspec": {
      "name": "python3",
      "display_name": "Python 3"
    },
    "language_info": {
      "name": "python"
    }
  },
  "cells": [
    {
      "cell_type": "markdown",
      "metadata": {
        "id": "view-in-github",
        "colab_type": "text"
      },
      "source": [
        "<a href=\"https://colab.research.google.com/github/bmt215133/bmt_python/blob/main/21513_12%EC%A3%BC%EC%B0%A8%EC%8B%A4%EC%8A%B5.ipynb\" target=\"_parent\"><img src=\"https://colab.research.google.com/assets/colab-badge.svg\" alt=\"Open In Colab\"/></a>"
      ]
    },
    {
      "cell_type": "code",
      "metadata": {
        "id": "gDBb1bBnNDRY"
      },
      "source": [
        "import pandas as pd\n",
        "import numpy as np\n",
        "import matplotlib as plt"
      ],
      "execution_count": 1,
      "outputs": []
    },
    {
      "cell_type": "code",
      "metadata": {
        "id": "3i339u5RN15W"
      },
      "source": [
        "dates = pd.date_range('20210521',periods=6)"
      ],
      "execution_count": 2,
      "outputs": []
    },
    {
      "cell_type": "code",
      "metadata": {
        "id": "Q5zNfevkOaxc"
      },
      "source": [
        "df = pd.DataFrame(np.random.randn(10, 4))"
      ],
      "execution_count": 18,
      "outputs": []
    },
    {
      "cell_type": "code",
      "metadata": {
        "colab": {
          "base_uri": "https://localhost:8080/",
          "height": 359
        },
        "id": "e8YDg4fIOnij",
        "outputId": "5a717772-872c-4819-e7a8-c8e861d8c7ec"
      },
      "source": [
        "df"
      ],
      "execution_count": 19,
      "outputs": [
        {
          "output_type": "execute_result",
          "data": {
            "text/html": [
              "<div>\n",
              "<style scoped>\n",
              "    .dataframe tbody tr th:only-of-type {\n",
              "        vertical-align: middle;\n",
              "    }\n",
              "\n",
              "    .dataframe tbody tr th {\n",
              "        vertical-align: top;\n",
              "    }\n",
              "\n",
              "    .dataframe thead th {\n",
              "        text-align: right;\n",
              "    }\n",
              "</style>\n",
              "<table border=\"1\" class=\"dataframe\">\n",
              "  <thead>\n",
              "    <tr style=\"text-align: right;\">\n",
              "      <th></th>\n",
              "      <th>0</th>\n",
              "      <th>1</th>\n",
              "      <th>2</th>\n",
              "      <th>3</th>\n",
              "    </tr>\n",
              "  </thead>\n",
              "  <tbody>\n",
              "    <tr>\n",
              "      <th>0</th>\n",
              "      <td>1.145080</td>\n",
              "      <td>-0.606481</td>\n",
              "      <td>-0.644218</td>\n",
              "      <td>-1.364243</td>\n",
              "    </tr>\n",
              "    <tr>\n",
              "      <th>1</th>\n",
              "      <td>0.949736</td>\n",
              "      <td>0.657474</td>\n",
              "      <td>-1.795193</td>\n",
              "      <td>-0.018993</td>\n",
              "    </tr>\n",
              "    <tr>\n",
              "      <th>2</th>\n",
              "      <td>0.110070</td>\n",
              "      <td>-1.260386</td>\n",
              "      <td>-0.482017</td>\n",
              "      <td>-0.608476</td>\n",
              "    </tr>\n",
              "    <tr>\n",
              "      <th>3</th>\n",
              "      <td>0.448580</td>\n",
              "      <td>1.199406</td>\n",
              "      <td>-0.273617</td>\n",
              "      <td>0.112820</td>\n",
              "    </tr>\n",
              "    <tr>\n",
              "      <th>4</th>\n",
              "      <td>0.113688</td>\n",
              "      <td>-0.471588</td>\n",
              "      <td>-0.160828</td>\n",
              "      <td>-1.693676</td>\n",
              "    </tr>\n",
              "    <tr>\n",
              "      <th>5</th>\n",
              "      <td>-1.050325</td>\n",
              "      <td>-0.996660</td>\n",
              "      <td>0.900552</td>\n",
              "      <td>-0.434702</td>\n",
              "    </tr>\n",
              "    <tr>\n",
              "      <th>6</th>\n",
              "      <td>-2.405183</td>\n",
              "      <td>3.523265</td>\n",
              "      <td>1.713549</td>\n",
              "      <td>-1.335849</td>\n",
              "    </tr>\n",
              "    <tr>\n",
              "      <th>7</th>\n",
              "      <td>-0.779925</td>\n",
              "      <td>-1.272112</td>\n",
              "      <td>0.376974</td>\n",
              "      <td>0.638965</td>\n",
              "    </tr>\n",
              "    <tr>\n",
              "      <th>8</th>\n",
              "      <td>0.565413</td>\n",
              "      <td>0.209480</td>\n",
              "      <td>-0.452214</td>\n",
              "      <td>-0.871144</td>\n",
              "    </tr>\n",
              "    <tr>\n",
              "      <th>9</th>\n",
              "      <td>-0.168434</td>\n",
              "      <td>-2.230870</td>\n",
              "      <td>0.372172</td>\n",
              "      <td>0.792193</td>\n",
              "    </tr>\n",
              "  </tbody>\n",
              "</table>\n",
              "</div>"
            ],
            "text/plain": [
              "          0         1         2         3\n",
              "0  1.145080 -0.606481 -0.644218 -1.364243\n",
              "1  0.949736  0.657474 -1.795193 -0.018993\n",
              "2  0.110070 -1.260386 -0.482017 -0.608476\n",
              "3  0.448580  1.199406 -0.273617  0.112820\n",
              "4  0.113688 -0.471588 -0.160828 -1.693676\n",
              "5 -1.050325 -0.996660  0.900552 -0.434702\n",
              "6 -2.405183  3.523265  1.713549 -1.335849\n",
              "7 -0.779925 -1.272112  0.376974  0.638965\n",
              "8  0.565413  0.209480 -0.452214 -0.871144\n",
              "9 -0.168434 -2.230870  0.372172  0.792193"
            ]
          },
          "metadata": {
            "tags": []
          },
          "execution_count": 19
        }
      ]
    },
    {
      "cell_type": "code",
      "metadata": {
        "id": "moJWzhN4Oq-M"
      },
      "source": [
        "s = pd.Series(np.random.randint(0,7,size=10))"
      ],
      "execution_count": 6,
      "outputs": []
    },
    {
      "cell_type": "code",
      "metadata": {
        "colab": {
          "base_uri": "https://localhost:8080/"
        },
        "id": "zL-JGbX_PE7U",
        "outputId": "f89a7483-5f15-4d75-9824-abf753819945"
      },
      "source": [
        "s"
      ],
      "execution_count": 7,
      "outputs": [
        {
          "output_type": "execute_result",
          "data": {
            "text/plain": [
              "0    1\n",
              "1    1\n",
              "2    3\n",
              "3    5\n",
              "4    1\n",
              "5    4\n",
              "6    0\n",
              "7    5\n",
              "8    1\n",
              "9    4\n",
              "dtype: int64"
            ]
          },
          "metadata": {
            "tags": []
          },
          "execution_count": 7
        }
      ]
    },
    {
      "cell_type": "code",
      "metadata": {
        "colab": {
          "base_uri": "https://localhost:8080/"
        },
        "id": "G9tQ4glfPFU0",
        "outputId": "f4f37bc7-8293-40dc-b41f-6c3bd7fe7d93"
      },
      "source": [
        "s.value_counts()"
      ],
      "execution_count": 8,
      "outputs": [
        {
          "output_type": "execute_result",
          "data": {
            "text/plain": [
              "1    4\n",
              "5    2\n",
              "4    2\n",
              "3    1\n",
              "0    1\n",
              "dtype: int64"
            ]
          },
          "metadata": {
            "tags": []
          },
          "execution_count": 8
        }
      ]
    },
    {
      "cell_type": "code",
      "metadata": {
        "colab": {
          "base_uri": "https://localhost:8080/",
          "height": 283
        },
        "id": "0xtK3vLcPYHE",
        "outputId": "f93b3322-5399-4195-9ce4-8ec56ddf0b1f"
      },
      "source": [
        "s.plot()"
      ],
      "execution_count": 9,
      "outputs": [
        {
          "output_type": "execute_result",
          "data": {
            "text/plain": [
              "<matplotlib.axes._subplots.AxesSubplot at 0x7f1bd6bfc310>"
            ]
          },
          "metadata": {
            "tags": []
          },
          "execution_count": 9
        },
        {
          "output_type": "display_data",
          "data": {
            "image/png": "[encoded data removed]",
            "text/plain": [
              "<Figure size 432x288 with 1 Axes>"
            ]
          },
          "metadata": {
            "tags": [],
            "needs_background": "light"
          }
        }
      ]
    },
    {
      "cell_type": "code",
      "metadata": {
        "colab": {
          "base_uri": "https://localhost:8080/",
          "height": 235
        },
        "id": "SaArRfhePsCk",
        "outputId": "40b777db-d87f-41dd-85d6-3a2f959bdd3d"
      },
      "source": [
        "df"
      ],
      "execution_count": 10,
      "outputs": [
        {
          "output_type": "execute_result",
          "data": {
            "text/html": [
              "<div>\n",
              "<style scoped>\n",
              "    .dataframe tbody tr th:only-of-type {\n",
              "        vertical-align: middle;\n",
              "    }\n",
              "\n",
              "    .dataframe tbody tr th {\n",
              "        vertical-align: top;\n",
              "    }\n",
              "\n",
              "    .dataframe thead th {\n",
              "        text-align: right;\n",
              "    }\n",
              "</style>\n",
              "<table border=\"1\" class=\"dataframe\">\n",
              "  <thead>\n",
              "    <tr style=\"text-align: right;\">\n",
              "      <th></th>\n",
              "      <th>A</th>\n",
              "      <th>B</th>\n",
              "      <th>C</th>\n",
              "      <th>D</th>\n",
              "    </tr>\n",
              "  </thead>\n",
              "  <tbody>\n",
              "    <tr>\n",
              "      <th>2021-05-21</th>\n",
              "      <td>0.527055</td>\n",
              "      <td>-1.189258</td>\n",
              "      <td>0.369224</td>\n",
              "      <td>-0.010986</td>\n",
              "    </tr>\n",
              "    <tr>\n",
              "      <th>2021-05-22</th>\n",
              "      <td>0.387427</td>\n",
              "      <td>0.799363</td>\n",
              "      <td>0.413159</td>\n",
              "      <td>1.951332</td>\n",
              "    </tr>\n",
              "    <tr>\n",
              "      <th>2021-05-23</th>\n",
              "      <td>0.589628</td>\n",
              "      <td>1.028319</td>\n",
              "      <td>-0.639606</td>\n",
              "      <td>0.472410</td>\n",
              "    </tr>\n",
              "    <tr>\n",
              "      <th>2021-05-24</th>\n",
              "      <td>0.062457</td>\n",
              "      <td>0.638542</td>\n",
              "      <td>-0.604052</td>\n",
              "      <td>-0.795402</td>\n",
              "    </tr>\n",
              "    <tr>\n",
              "      <th>2021-05-25</th>\n",
              "      <td>-0.653131</td>\n",
              "      <td>1.606508</td>\n",
              "      <td>-0.166830</td>\n",
              "      <td>0.534498</td>\n",
              "    </tr>\n",
              "    <tr>\n",
              "      <th>2021-05-26</th>\n",
              "      <td>1.110548</td>\n",
              "      <td>0.002896</td>\n",
              "      <td>-1.212665</td>\n",
              "      <td>-0.390023</td>\n",
              "    </tr>\n",
              "  </tbody>\n",
              "</table>\n",
              "</div>"
            ],
            "text/plain": [
              "                   A         B         C         D\n",
              "2021-05-21  0.527055 -1.189258  0.369224 -0.010986\n",
              "2021-05-22  0.387427  0.799363  0.413159  1.951332\n",
              "2021-05-23  0.589628  1.028319 -0.639606  0.472410\n",
              "2021-05-24  0.062457  0.638542 -0.604052 -0.795402\n",
              "2021-05-25 -0.653131  1.606508 -0.166830  0.534498\n",
              "2021-05-26  1.110548  0.002896 -1.212665 -0.390023"
            ]
          },
          "metadata": {
            "tags": []
          },
          "execution_count": 10
        }
      ]
    },
    {
      "cell_type": "code",
      "metadata": {
        "colab": {
          "base_uri": "https://localhost:8080/",
          "height": 142
        },
        "id": "eY6zVETmQALT",
        "outputId": "f334d6d9-1591-407a-b5df-fb03e19b2e11"
      },
      "source": [
        "df[:3]"
      ],
      "execution_count": 21,
      "outputs": [
        {
          "output_type": "execute_result",
          "data": {
            "text/html": [
              "<div>\n",
              "<style scoped>\n",
              "    .dataframe tbody tr th:only-of-type {\n",
              "        vertical-align: middle;\n",
              "    }\n",
              "\n",
              "    .dataframe tbody tr th {\n",
              "        vertical-align: top;\n",
              "    }\n",
              "\n",
              "    .dataframe thead th {\n",
              "        text-align: right;\n",
              "    }\n",
              "</style>\n",
              "<table border=\"1\" class=\"dataframe\">\n",
              "  <thead>\n",
              "    <tr style=\"text-align: right;\">\n",
              "      <th></th>\n",
              "      <th>0</th>\n",
              "      <th>1</th>\n",
              "      <th>2</th>\n",
              "      <th>3</th>\n",
              "    </tr>\n",
              "  </thead>\n",
              "  <tbody>\n",
              "    <tr>\n",
              "      <th>0</th>\n",
              "      <td>1.145080</td>\n",
              "      <td>-0.606481</td>\n",
              "      <td>-0.644218</td>\n",
              "      <td>-1.364243</td>\n",
              "    </tr>\n",
              "    <tr>\n",
              "      <th>1</th>\n",
              "      <td>0.949736</td>\n",
              "      <td>0.657474</td>\n",
              "      <td>-1.795193</td>\n",
              "      <td>-0.018993</td>\n",
              "    </tr>\n",
              "    <tr>\n",
              "      <th>2</th>\n",
              "      <td>0.110070</td>\n",
              "      <td>-1.260386</td>\n",
              "      <td>-0.482017</td>\n",
              "      <td>-0.608476</td>\n",
              "    </tr>\n",
              "  </tbody>\n",
              "</table>\n",
              "</div>"
            ],
            "text/plain": [
              "          0         1         2         3\n",
              "0  1.145080 -0.606481 -0.644218 -1.364243\n",
              "1  0.949736  0.657474 -1.795193 -0.018993\n",
              "2  0.110070 -1.260386 -0.482017 -0.608476"
            ]
          },
          "metadata": {
            "tags": []
          },
          "execution_count": 21
        }
      ]
    },
    {
      "cell_type": "code",
      "metadata": {
        "id": "25BMfbZQQB2s"
      },
      "source": [
        "pieces = [df[:3],2,3]"
      ],
      "execution_count": 22,
      "outputs": []
    },
    {
      "cell_type": "code",
      "metadata": {
        "colab": {
          "base_uri": "https://localhost:8080/"
        },
        "id": "UGbFUzmIQu4L",
        "outputId": "57c4ca23-cc40-4b86-b106-8d509497ec21"
      },
      "source": [
        "pieces"
      ],
      "execution_count": 23,
      "outputs": [
        {
          "output_type": "execute_result",
          "data": {
            "text/plain": [
              "[          0         1         2         3\n",
              " 0  1.145080 -0.606481 -0.644218 -1.364243\n",
              " 1  0.949736  0.657474 -1.795193 -0.018993\n",
              " 2  0.110070 -1.260386 -0.482017 -0.608476, 2, 3]"
            ]
          },
          "metadata": {
            "tags": []
          },
          "execution_count": 23
        }
      ]
    },
    {
      "cell_type": "code",
      "metadata": {
        "colab": {
          "base_uri": "https://localhost:8080/"
        },
        "id": "o01fLZbjQv8b",
        "outputId": "0b614c63-c86c-4ecf-e963-62029f276e5b"
      },
      "source": [
        "type(pieces[1])"
      ],
      "execution_count": 24,
      "outputs": [
        {
          "output_type": "execute_result",
          "data": {
            "text/plain": [
              "int"
            ]
          },
          "metadata": {
            "tags": []
          },
          "execution_count": 24
        }
      ]
    },
    {
      "cell_type": "code",
      "metadata": {
        "id": "CDEHHF9fQzy8"
      },
      "source": [
        "pieces = [df[:3], df[3:7], df[7:]]"
      ],
      "execution_count": 25,
      "outputs": []
    },
    {
      "cell_type": "code",
      "metadata": {
        "colab": {
          "base_uri": "https://localhost:8080/"
        },
        "id": "Yy_Dp-naQ90D",
        "outputId": "f0c3ea78-8ab0-498b-8f4d-69b37c90b13a"
      },
      "source": [
        "print(pieces);print()"
      ],
      "execution_count": 27,
      "outputs": [
        {
          "output_type": "stream",
          "text": [
            "[          0         1         2         3\n",
            "0  1.145080 -0.606481 -0.644218 -1.364243\n",
            "1  0.949736  0.657474 -1.795193 -0.018993\n",
            "2  0.110070 -1.260386 -0.482017 -0.608476,           0         1         2         3\n",
            "3  0.448580  1.199406 -0.273617  0.112820\n",
            "4  0.113688 -0.471588 -0.160828 -1.693676\n",
            "5 -1.050325 -0.996660  0.900552 -0.434702\n",
            "6 -2.405183  3.523265  1.713549 -1.335849,           0         1         2         3\n",
            "7 -0.779925 -1.272112  0.376974  0.638965\n",
            "8  0.565413  0.209480 -0.452214 -0.871144\n",
            "9 -0.168434 -2.230870  0.372172  0.792193]\n",
            "\n"
          ],
          "name": "stdout"
        }
      ]
    },
    {
      "cell_type": "code",
      "metadata": {
        "colab": {
          "base_uri": "https://localhost:8080/",
          "height": 359
        },
        "id": "GUJhhI2lRfw0",
        "outputId": "6df2cfc5-25f9-444e-86bb-c951eb8e96bf"
      },
      "source": [
        "pd.concat(pieces)"
      ],
      "execution_count": 28,
      "outputs": [
        {
          "output_type": "execute_result",
          "data": {
            "text/html": [
              "<div>\n",
              "<style scoped>\n",
              "    .dataframe tbody tr th:only-of-type {\n",
              "        vertical-align: middle;\n",
              "    }\n",
              "\n",
              "    .dataframe tbody tr th {\n",
              "        vertical-align: top;\n",
              "    }\n",
              "\n",
              "    .dataframe thead th {\n",
              "        text-align: right;\n",
              "    }\n",
              "</style>\n",
              "<table border=\"1\" class=\"dataframe\">\n",
              "  <thead>\n",
              "    <tr style=\"text-align: right;\">\n",
              "      <th></th>\n",
              "      <th>0</th>\n",
              "      <th>1</th>\n",
              "      <th>2</th>\n",
              "      <th>3</th>\n",
              "    </tr>\n",
              "  </thead>\n",
              "  <tbody>\n",
              "    <tr>\n",
              "      <th>0</th>\n",
              "      <td>1.145080</td>\n",
              "      <td>-0.606481</td>\n",
              "      <td>-0.644218</td>\n",
              "      <td>-1.364243</td>\n",
              "    </tr>\n",
              "    <tr>\n",
              "      <th>1</th>\n",
              "      <td>0.949736</td>\n",
              "      <td>0.657474</td>\n",
              "      <td>-1.795193</td>\n",
              "      <td>-0.018993</td>\n",
              "    </tr>\n",
              "    <tr>\n",
              "      <th>2</th>\n",
              "      <td>0.110070</td>\n",
              "      <td>-1.260386</td>\n",
              "      <td>-0.482017</td>\n",
              "      <td>-0.608476</td>\n",
              "    </tr>\n",
              "    <tr>\n",
              "      <th>3</th>\n",
              "      <td>0.448580</td>\n",
              "      <td>1.199406</td>\n",
              "      <td>-0.273617</td>\n",
              "      <td>0.112820</td>\n",
              "    </tr>\n",
              "    <tr>\n",
              "      <th>4</th>\n",
              "      <td>0.113688</td>\n",
              "      <td>-0.471588</td>\n",
              "      <td>-0.160828</td>\n",
              "      <td>-1.693676</td>\n",
              "    </tr>\n",
              "    <tr>\n",
              "      <th>5</th>\n",
              "      <td>-1.050325</td>\n",
              "      <td>-0.996660</td>\n",
              "      <td>0.900552</td>\n",
              "      <td>-0.434702</td>\n",
              "    </tr>\n",
              "    <tr>\n",
              "      <th>6</th>\n",
              "      <td>-2.405183</td>\n",
              "      <td>3.523265</td>\n",
              "      <td>1.713549</td>\n",
              "      <td>-1.335849</td>\n",
              "    </tr>\n",
              "    <tr>\n",
              "      <th>7</th>\n",
              "      <td>-0.779925</td>\n",
              "      <td>-1.272112</td>\n",
              "      <td>0.376974</td>\n",
              "      <td>0.638965</td>\n",
              "    </tr>\n",
              "    <tr>\n",
              "      <th>8</th>\n",
              "      <td>0.565413</td>\n",
              "      <td>0.209480</td>\n",
              "      <td>-0.452214</td>\n",
              "      <td>-0.871144</td>\n",
              "    </tr>\n",
              "    <tr>\n",
              "      <th>9</th>\n",
              "      <td>-0.168434</td>\n",
              "      <td>-2.230870</td>\n",
              "      <td>0.372172</td>\n",
              "      <td>0.792193</td>\n",
              "    </tr>\n",
              "  </tbody>\n",
              "</table>\n",
              "</div>"
            ],
            "text/plain": [
              "          0         1         2         3\n",
              "0  1.145080 -0.606481 -0.644218 -1.364243\n",
              "1  0.949736  0.657474 -1.795193 -0.018993\n",
              "2  0.110070 -1.260386 -0.482017 -0.608476\n",
              "3  0.448580  1.199406 -0.273617  0.112820\n",
              "4  0.113688 -0.471588 -0.160828 -1.693676\n",
              "5 -1.050325 -0.996660  0.900552 -0.434702\n",
              "6 -2.405183  3.523265  1.713549 -1.335849\n",
              "7 -0.779925 -1.272112  0.376974  0.638965\n",
              "8  0.565413  0.209480 -0.452214 -0.871144\n",
              "9 -0.168434 -2.230870  0.372172  0.792193"
            ]
          },
          "metadata": {
            "tags": []
          },
          "execution_count": 28
        }
      ]
    },
    {
      "cell_type": "code",
      "metadata": {
        "id": "m2WRVlbpRlVr"
      },
      "source": [
        "left = pd.DataFrame(\n",
        "    {\n",
        "        'key':['foo','foo'],\n",
        "     'lval':[1,2]\n",
        "    }\n",
        ")\n",
        "\n",
        "right = pd.DataFrame({'key':['foo','foo'],'rvall':[4,5]})"
      ],
      "execution_count": 29,
      "outputs": []
    },
    {
      "cell_type": "code",
      "metadata": {
        "colab": {
          "base_uri": "https://localhost:8080/",
          "height": 111
        },
        "id": "mJS8pz7gSbKz",
        "outputId": "bad86c62-996c-4958-e0da-b889b9d9c32c"
      },
      "source": [
        "right"
      ],
      "execution_count": 30,
      "outputs": [
        {
          "output_type": "execute_result",
          "data": {
            "text/html": [
              "<div>\n",
              "<style scoped>\n",
              "    .dataframe tbody tr th:only-of-type {\n",
              "        vertical-align: middle;\n",
              "    }\n",
              "\n",
              "    .dataframe tbody tr th {\n",
              "        vertical-align: top;\n",
              "    }\n",
              "\n",
              "    .dataframe thead th {\n",
              "        text-align: right;\n",
              "    }\n",
              "</style>\n",
              "<table border=\"1\" class=\"dataframe\">\n",
              "  <thead>\n",
              "    <tr style=\"text-align: right;\">\n",
              "      <th></th>\n",
              "      <th>key</th>\n",
              "      <th>rvall</th>\n",
              "    </tr>\n",
              "  </thead>\n",
              "  <tbody>\n",
              "    <tr>\n",
              "      <th>0</th>\n",
              "      <td>foo</td>\n",
              "      <td>4</td>\n",
              "    </tr>\n",
              "    <tr>\n",
              "      <th>1</th>\n",
              "      <td>foo</td>\n",
              "      <td>5</td>\n",
              "    </tr>\n",
              "  </tbody>\n",
              "</table>\n",
              "</div>"
            ],
            "text/plain": [
              "   key  rvall\n",
              "0  foo      4\n",
              "1  foo      5"
            ]
          },
          "metadata": {
            "tags": []
          },
          "execution_count": 30
        }
      ]
    },
    {
      "cell_type": "code",
      "metadata": {
        "id": "1pHu5c8XS1Wj"
      },
      "source": [
        "pd_merge = pd.merge(left,right, on='key')"
      ],
      "execution_count": 31,
      "outputs": []
    },
    {
      "cell_type": "code",
      "metadata": {
        "colab": {
          "base_uri": "https://localhost:8080/",
          "height": 173
        },
        "id": "kuXg0CgPTESU",
        "outputId": "f59d3e47-0950-4930-c22a-82c838518f24"
      },
      "source": [
        "pd_merge"
      ],
      "execution_count": 32,
      "outputs": [
        {
          "output_type": "execute_result",
          "data": {
            "text/html": [
              "<div>\n",
              "<style scoped>\n",
              "    .dataframe tbody tr th:only-of-type {\n",
              "        vertical-align: middle;\n",
              "    }\n",
              "\n",
              "    .dataframe tbody tr th {\n",
              "        vertical-align: top;\n",
              "    }\n",
              "\n",
              "    .dataframe thead th {\n",
              "        text-align: right;\n",
              "    }\n",
              "</style>\n",
              "<table border=\"1\" class=\"dataframe\">\n",
              "  <thead>\n",
              "    <tr style=\"text-align: right;\">\n",
              "      <th></th>\n",
              "      <th>key</th>\n",
              "      <th>lval</th>\n",
              "      <th>rvall</th>\n",
              "    </tr>\n",
              "  </thead>\n",
              "  <tbody>\n",
              "    <tr>\n",
              "      <th>0</th>\n",
              "      <td>foo</td>\n",
              "      <td>1</td>\n",
              "      <td>4</td>\n",
              "    </tr>\n",
              "    <tr>\n",
              "      <th>1</th>\n",
              "      <td>foo</td>\n",
              "      <td>1</td>\n",
              "      <td>5</td>\n",
              "    </tr>\n",
              "    <tr>\n",
              "      <th>2</th>\n",
              "      <td>foo</td>\n",
              "      <td>2</td>\n",
              "      <td>4</td>\n",
              "    </tr>\n",
              "    <tr>\n",
              "      <th>3</th>\n",
              "      <td>foo</td>\n",
              "      <td>2</td>\n",
              "      <td>5</td>\n",
              "    </tr>\n",
              "  </tbody>\n",
              "</table>\n",
              "</div>"
            ],
            "text/plain": [
              "   key  lval  rvall\n",
              "0  foo     1      4\n",
              "1  foo     1      5\n",
              "2  foo     2      4\n",
              "3  foo     2      5"
            ]
          },
          "metadata": {
            "tags": []
          },
          "execution_count": 32
        }
      ]
    },
    {
      "cell_type": "code",
      "metadata": {
        "id": "5v5eBJ5ETFZM"
      },
      "source": [
        "pd_merge = pd.merge(right,left, on='key')"
      ],
      "execution_count": 33,
      "outputs": []
    },
    {
      "cell_type": "code",
      "metadata": {
        "colab": {
          "base_uri": "https://localhost:8080/",
          "height": 173
        },
        "id": "vO1gZDBMTZ0c",
        "outputId": "bce4ef14-1f1a-4a8c-ab26-38495f4476a4"
      },
      "source": [
        "pd_merge"
      ],
      "execution_count": 34,
      "outputs": [
        {
          "output_type": "execute_result",
          "data": {
            "text/html": [
              "<div>\n",
              "<style scoped>\n",
              "    .dataframe tbody tr th:only-of-type {\n",
              "        vertical-align: middle;\n",
              "    }\n",
              "\n",
              "    .dataframe tbody tr th {\n",
              "        vertical-align: top;\n",
              "    }\n",
              "\n",
              "    .dataframe thead th {\n",
              "        text-align: right;\n",
              "    }\n",
              "</style>\n",
              "<table border=\"1\" class=\"dataframe\">\n",
              "  <thead>\n",
              "    <tr style=\"text-align: right;\">\n",
              "      <th></th>\n",
              "      <th>key</th>\n",
              "      <th>rvall</th>\n",
              "      <th>lval</th>\n",
              "    </tr>\n",
              "  </thead>\n",
              "  <tbody>\n",
              "    <tr>\n",
              "      <th>0</th>\n",
              "      <td>foo</td>\n",
              "      <td>4</td>\n",
              "      <td>1</td>\n",
              "    </tr>\n",
              "    <tr>\n",
              "      <th>1</th>\n",
              "      <td>foo</td>\n",
              "      <td>4</td>\n",
              "      <td>2</td>\n",
              "    </tr>\n",
              "    <tr>\n",
              "      <th>2</th>\n",
              "      <td>foo</td>\n",
              "      <td>5</td>\n",
              "      <td>1</td>\n",
              "    </tr>\n",
              "    <tr>\n",
              "      <th>3</th>\n",
              "      <td>foo</td>\n",
              "      <td>5</td>\n",
              "      <td>2</td>\n",
              "    </tr>\n",
              "  </tbody>\n",
              "</table>\n",
              "</div>"
            ],
            "text/plain": [
              "   key  rvall  lval\n",
              "0  foo      4     1\n",
              "1  foo      4     2\n",
              "2  foo      5     1\n",
              "3  foo      5     2"
            ]
          },
          "metadata": {
            "tags": []
          },
          "execution_count": 34
        }
      ]
    },
    {
      "cell_type": "code",
      "metadata": {
        "id": "hhUv1GWXTbEE"
      },
      "source": [
        "df = pd.DataFrame(np.random.randn(8, 4), columns=['A', 'B', 'C', 'D'])"
      ],
      "execution_count": 36,
      "outputs": []
    },
    {
      "cell_type": "code",
      "metadata": {
        "colab": {
          "base_uri": "https://localhost:8080/",
          "height": 297
        },
        "id": "F9HYWkuMT4ET",
        "outputId": "1c4e96d7-3fe2-4f6d-d755-50196e6e6982"
      },
      "source": [
        "df"
      ],
      "execution_count": 37,
      "outputs": [
        {
          "output_type": "execute_result",
          "data": {
            "text/html": [
              "<div>\n",
              "<style scoped>\n",
              "    .dataframe tbody tr th:only-of-type {\n",
              "        vertical-align: middle;\n",
              "    }\n",
              "\n",
              "    .dataframe tbody tr th {\n",
              "        vertical-align: top;\n",
              "    }\n",
              "\n",
              "    .dataframe thead th {\n",
              "        text-align: right;\n",
              "    }\n",
              "</style>\n",
              "<table border=\"1\" class=\"dataframe\">\n",
              "  <thead>\n",
              "    <tr style=\"text-align: right;\">\n",
              "      <th></th>\n",
              "      <th>A</th>\n",
              "      <th>B</th>\n",
              "      <th>C</th>\n",
              "      <th>D</th>\n",
              "    </tr>\n",
              "  </thead>\n",
              "  <tbody>\n",
              "    <tr>\n",
              "      <th>0</th>\n",
              "      <td>-0.680705</td>\n",
              "      <td>1.816987</td>\n",
              "      <td>-1.058223</td>\n",
              "      <td>-1.120137</td>\n",
              "    </tr>\n",
              "    <tr>\n",
              "      <th>1</th>\n",
              "      <td>-0.016715</td>\n",
              "      <td>1.001050</td>\n",
              "      <td>1.756934</td>\n",
              "      <td>0.269745</td>\n",
              "    </tr>\n",
              "    <tr>\n",
              "      <th>2</th>\n",
              "      <td>0.205461</td>\n",
              "      <td>0.617046</td>\n",
              "      <td>-0.505361</td>\n",
              "      <td>-0.084432</td>\n",
              "    </tr>\n",
              "    <tr>\n",
              "      <th>3</th>\n",
              "      <td>-0.510763</td>\n",
              "      <td>1.413057</td>\n",
              "      <td>-0.095772</td>\n",
              "      <td>-0.535954</td>\n",
              "    </tr>\n",
              "    <tr>\n",
              "      <th>4</th>\n",
              "      <td>-0.345761</td>\n",
              "      <td>0.404847</td>\n",
              "      <td>0.639417</td>\n",
              "      <td>1.122833</td>\n",
              "    </tr>\n",
              "    <tr>\n",
              "      <th>5</th>\n",
              "      <td>-0.677652</td>\n",
              "      <td>0.950246</td>\n",
              "      <td>-0.733889</td>\n",
              "      <td>0.429019</td>\n",
              "    </tr>\n",
              "    <tr>\n",
              "      <th>6</th>\n",
              "      <td>0.306866</td>\n",
              "      <td>0.297713</td>\n",
              "      <td>-0.186102</td>\n",
              "      <td>0.736233</td>\n",
              "    </tr>\n",
              "    <tr>\n",
              "      <th>7</th>\n",
              "      <td>0.110002</td>\n",
              "      <td>-0.857868</td>\n",
              "      <td>0.322480</td>\n",
              "      <td>-0.695016</td>\n",
              "    </tr>\n",
              "  </tbody>\n",
              "</table>\n",
              "</div>"
            ],
            "text/plain": [
              "          A         B         C         D\n",
              "0 -0.680705  1.816987 -1.058223 -1.120137\n",
              "1 -0.016715  1.001050  1.756934  0.269745\n",
              "2  0.205461  0.617046 -0.505361 -0.084432\n",
              "3 -0.510763  1.413057 -0.095772 -0.535954\n",
              "4 -0.345761  0.404847  0.639417  1.122833\n",
              "5 -0.677652  0.950246 -0.733889  0.429019\n",
              "6  0.306866  0.297713 -0.186102  0.736233\n",
              "7  0.110002 -0.857868  0.322480 -0.695016"
            ]
          },
          "metadata": {
            "tags": []
          },
          "execution_count": 37
        }
      ]
    },
    {
      "cell_type": "code",
      "metadata": {
        "id": "y4PTZTDPT8s7"
      },
      "source": [
        "s= df.iloc[3]"
      ],
      "execution_count": 38,
      "outputs": []
    },
    {
      "cell_type": "code",
      "metadata": {
        "colab": {
          "base_uri": "https://localhost:8080/",
          "height": 328
        },
        "id": "e-5KlqHcUBQD",
        "outputId": "9661f11e-dd56-4da5-d3e7-cd81c087203e"
      },
      "source": [
        "df.append(s, ignore_index=True)"
      ],
      "execution_count": 39,
      "outputs": [
        {
          "output_type": "execute_result",
          "data": {
            "text/html": [
              "<div>\n",
              "<style scoped>\n",
              "    .dataframe tbody tr th:only-of-type {\n",
              "        vertical-align: middle;\n",
              "    }\n",
              "\n",
              "    .dataframe tbody tr th {\n",
              "        vertical-align: top;\n",
              "    }\n",
              "\n",
              "    .dataframe thead th {\n",
              "        text-align: right;\n",
              "    }\n",
              "</style>\n",
              "<table border=\"1\" class=\"dataframe\">\n",
              "  <thead>\n",
              "    <tr style=\"text-align: right;\">\n",
              "      <th></th>\n",
              "      <th>A</th>\n",
              "      <th>B</th>\n",
              "      <th>C</th>\n",
              "      <th>D</th>\n",
              "    </tr>\n",
              "  </thead>\n",
              "  <tbody>\n",
              "    <tr>\n",
              "      <th>0</th>\n",
              "      <td>-0.680705</td>\n",
              "      <td>1.816987</td>\n",
              "      <td>-1.058223</td>\n",
              "      <td>-1.120137</td>\n",
              "    </tr>\n",
              "    <tr>\n",
              "      <th>1</th>\n",
              "      <td>-0.016715</td>\n",
              "      <td>1.001050</td>\n",
              "      <td>1.756934</td>\n",
              "      <td>0.269745</td>\n",
              "    </tr>\n",
              "    <tr>\n",
              "      <th>2</th>\n",
              "      <td>0.205461</td>\n",
              "      <td>0.617046</td>\n",
              "      <td>-0.505361</td>\n",
              "      <td>-0.084432</td>\n",
              "    </tr>\n",
              "    <tr>\n",
              "      <th>3</th>\n",
              "      <td>-0.510763</td>\n",
              "      <td>1.413057</td>\n",
              "      <td>-0.095772</td>\n",
              "      <td>-0.535954</td>\n",
              "    </tr>\n",
              "    <tr>\n",
              "      <th>4</th>\n",
              "      <td>-0.345761</td>\n",
              "      <td>0.404847</td>\n",
              "      <td>0.639417</td>\n",
              "      <td>1.122833</td>\n",
              "    </tr>\n",
              "    <tr>\n",
              "      <th>5</th>\n",
              "      <td>-0.677652</td>\n",
              "      <td>0.950246</td>\n",
              "      <td>-0.733889</td>\n",
              "      <td>0.429019</td>\n",
              "    </tr>\n",
              "    <tr>\n",
              "      <th>6</th>\n",
              "      <td>0.306866</td>\n",
              "      <td>0.297713</td>\n",
              "      <td>-0.186102</td>\n",
              "      <td>0.736233</td>\n",
              "    </tr>\n",
              "    <tr>\n",
              "      <th>7</th>\n",
              "      <td>0.110002</td>\n",
              "      <td>-0.857868</td>\n",
              "      <td>0.322480</td>\n",
              "      <td>-0.695016</td>\n",
              "    </tr>\n",
              "    <tr>\n",
              "      <th>8</th>\n",
              "      <td>-0.510763</td>\n",
              "      <td>1.413057</td>\n",
              "      <td>-0.095772</td>\n",
              "      <td>-0.535954</td>\n",
              "    </tr>\n",
              "  </tbody>\n",
              "</table>\n",
              "</div>"
            ],
            "text/plain": [
              "          A         B         C         D\n",
              "0 -0.680705  1.816987 -1.058223 -1.120137\n",
              "1 -0.016715  1.001050  1.756934  0.269745\n",
              "2  0.205461  0.617046 -0.505361 -0.084432\n",
              "3 -0.510763  1.413057 -0.095772 -0.535954\n",
              "4 -0.345761  0.404847  0.639417  1.122833\n",
              "5 -0.677652  0.950246 -0.733889  0.429019\n",
              "6  0.306866  0.297713 -0.186102  0.736233\n",
              "7  0.110002 -0.857868  0.322480 -0.695016\n",
              "8 -0.510763  1.413057 -0.095772 -0.535954"
            ]
          },
          "metadata": {
            "tags": []
          },
          "execution_count": 39
        }
      ]
    },
    {
      "cell_type": "code",
      "metadata": {
        "id": "hRqyKP0eUIKr"
      },
      "source": [
        "df = pd.DataFrame(\n",
        "    {\n",
        "        'A' : ['foo', 'bar', 'foo', 'bar', 'foo', 'bar', 'foo', 'bar'],\n",
        "        'B' : ['one', 'one', 'two', 'three', 'two', 'two', 'one', 'three'],\n",
        "        'C' : np.random.randn(8),\n",
        "        'D' : np.random.randn(8)\n",
        "    }\n",
        ")"
      ],
      "execution_count": 40,
      "outputs": []
    },
    {
      "cell_type": "code",
      "metadata": {
        "colab": {
          "base_uri": "https://localhost:8080/",
          "height": 297
        },
        "id": "Nm-qk4-9U59M",
        "outputId": "223dd934-f3c5-4386-9067-7ba7c0e24f4c"
      },
      "source": [
        "df"
      ],
      "execution_count": 41,
      "outputs": [
        {
          "output_type": "execute_result",
          "data": {
            "text/html": [
              "<div>\n",
              "<style scoped>\n",
              "    .dataframe tbody tr th:only-of-type {\n",
              "        vertical-align: middle;\n",
              "    }\n",
              "\n",
              "    .dataframe tbody tr th {\n",
              "        vertical-align: top;\n",
              "    }\n",
              "\n",
              "    .dataframe thead th {\n",
              "        text-align: right;\n",
              "    }\n",
              "</style>\n",
              "<table border=\"1\" class=\"dataframe\">\n",
              "  <thead>\n",
              "    <tr style=\"text-align: right;\">\n",
              "      <th></th>\n",
              "      <th>A</th>\n",
              "      <th>B</th>\n",
              "      <th>C</th>\n",
              "      <th>D</th>\n",
              "    </tr>\n",
              "  </thead>\n",
              "  <tbody>\n",
              "    <tr>\n",
              "      <th>0</th>\n",
              "      <td>foo</td>\n",
              "      <td>one</td>\n",
              "      <td>0.632134</td>\n",
              "      <td>1.365478</td>\n",
              "    </tr>\n",
              "    <tr>\n",
              "      <th>1</th>\n",
              "      <td>bar</td>\n",
              "      <td>one</td>\n",
              "      <td>-0.064888</td>\n",
              "      <td>0.199159</td>\n",
              "    </tr>\n",
              "    <tr>\n",
              "      <th>2</th>\n",
              "      <td>foo</td>\n",
              "      <td>two</td>\n",
              "      <td>0.550893</td>\n",
              "      <td>-0.228288</td>\n",
              "    </tr>\n",
              "    <tr>\n",
              "      <th>3</th>\n",
              "      <td>bar</td>\n",
              "      <td>three</td>\n",
              "      <td>0.684296</td>\n",
              "      <td>-0.676089</td>\n",
              "    </tr>\n",
              "    <tr>\n",
              "      <th>4</th>\n",
              "      <td>foo</td>\n",
              "      <td>two</td>\n",
              "      <td>0.205216</td>\n",
              "      <td>0.887510</td>\n",
              "    </tr>\n",
              "    <tr>\n",
              "      <th>5</th>\n",
              "      <td>bar</td>\n",
              "      <td>two</td>\n",
              "      <td>0.520694</td>\n",
              "      <td>0.479090</td>\n",
              "    </tr>\n",
              "    <tr>\n",
              "      <th>6</th>\n",
              "      <td>foo</td>\n",
              "      <td>one</td>\n",
              "      <td>-2.613898</td>\n",
              "      <td>-0.565473</td>\n",
              "    </tr>\n",
              "    <tr>\n",
              "      <th>7</th>\n",
              "      <td>bar</td>\n",
              "      <td>three</td>\n",
              "      <td>1.103047</td>\n",
              "      <td>-0.944626</td>\n",
              "    </tr>\n",
              "  </tbody>\n",
              "</table>\n",
              "</div>"
            ],
            "text/plain": [
              "     A      B         C         D\n",
              "0  foo    one  0.632134  1.365478\n",
              "1  bar    one -0.064888  0.199159\n",
              "2  foo    two  0.550893 -0.228288\n",
              "3  bar  three  0.684296 -0.676089\n",
              "4  foo    two  0.205216  0.887510\n",
              "5  bar    two  0.520694  0.479090\n",
              "6  foo    one -2.613898 -0.565473\n",
              "7  bar  three  1.103047 -0.944626"
            ]
          },
          "metadata": {
            "tags": []
          },
          "execution_count": 41
        }
      ]
    },
    {
      "cell_type": "code",
      "metadata": {
        "colab": {
          "base_uri": "https://localhost:8080/",
          "height": 142
        },
        "id": "6VaSrp3OU6Ub",
        "outputId": "f287d9bb-e7bd-454f-e7e5-9751c899b738"
      },
      "source": [
        "df.groupby('A').sum()"
      ],
      "execution_count": 44,
      "outputs": [
        {
          "output_type": "execute_result",
          "data": {
            "text/html": [
              "<div>\n",
              "<style scoped>\n",
              "    .dataframe tbody tr th:only-of-type {\n",
              "        vertical-align: middle;\n",
              "    }\n",
              "\n",
              "    .dataframe tbody tr th {\n",
              "        vertical-align: top;\n",
              "    }\n",
              "\n",
              "    .dataframe thead th {\n",
              "        text-align: right;\n",
              "    }\n",
              "</style>\n",
              "<table border=\"1\" class=\"dataframe\">\n",
              "  <thead>\n",
              "    <tr style=\"text-align: right;\">\n",
              "      <th></th>\n",
              "      <th>C</th>\n",
              "      <th>D</th>\n",
              "    </tr>\n",
              "    <tr>\n",
              "      <th>A</th>\n",
              "      <th></th>\n",
              "      <th></th>\n",
              "    </tr>\n",
              "  </thead>\n",
              "  <tbody>\n",
              "    <tr>\n",
              "      <th>bar</th>\n",
              "      <td>2.243149</td>\n",
              "      <td>-0.942466</td>\n",
              "    </tr>\n",
              "    <tr>\n",
              "      <th>foo</th>\n",
              "      <td>-1.225654</td>\n",
              "      <td>1.459227</td>\n",
              "    </tr>\n",
              "  </tbody>\n",
              "</table>\n",
              "</div>"
            ],
            "text/plain": [
              "            C         D\n",
              "A                      \n",
              "bar  2.243149 -0.942466\n",
              "foo -1.225654  1.459227"
            ]
          },
          "metadata": {
            "tags": []
          },
          "execution_count": 44
        }
      ]
    },
    {
      "cell_type": "code",
      "metadata": {
        "id": "pbF3-1QuVDsE"
      },
      "source": [
        "x = [1,2,3]\n",
        "y = [4,5,6]\n"
      ],
      "execution_count": 45,
      "outputs": []
    },
    {
      "cell_type": "code",
      "metadata": {
        "colab": {
          "base_uri": "https://localhost:8080/"
        },
        "id": "GvLFM2qsXxmd",
        "outputId": "cfa69fea-e743-4131-9432-5515b63b27bc"
      },
      "source": [
        "x\n"
      ],
      "execution_count": 46,
      "outputs": [
        {
          "output_type": "execute_result",
          "data": {
            "text/plain": [
              "[1, 2, 3]"
            ]
          },
          "metadata": {
            "tags": []
          },
          "execution_count": 46
        }
      ]
    },
    {
      "cell_type": "code",
      "metadata": {
        "colab": {
          "base_uri": "https://localhost:8080/"
        },
        "id": "t8bTKrTKXyDr",
        "outputId": "44741789-49fc-4b78-ed1f-3d881195117d"
      },
      "source": [
        "y"
      ],
      "execution_count": 47,
      "outputs": [
        {
          "output_type": "execute_result",
          "data": {
            "text/plain": [
              "[4, 5, 6]"
            ]
          },
          "metadata": {
            "tags": []
          },
          "execution_count": 47
        }
      ]
    },
    {
      "cell_type": "code",
      "metadata": {
        "id": "3yuXstgCXyd7"
      },
      "source": [
        "zipped = zip(x,y)"
      ],
      "execution_count": 49,
      "outputs": []
    },
    {
      "cell_type": "code",
      "metadata": {
        "colab": {
          "base_uri": "https://localhost:8080/"
        },
        "id": "l8GHdICHX5Dr",
        "outputId": "821304bc-2600-42f4-de50-774700a973c7"
      },
      "source": [
        "list(zipped)"
      ],
      "execution_count": 51,
      "outputs": [
        {
          "output_type": "execute_result",
          "data": {
            "text/plain": [
              "[(1, 4), (2, 5), (3, 6)]"
            ]
          },
          "metadata": {
            "tags": []
          },
          "execution_count": 51
        }
      ]
    },
    {
      "cell_type": "code",
      "metadata": {
        "id": "ZIKU87qTX9aV"
      },
      "source": [
        "x2,y2=zip(*zip(x,y))"
      ],
      "execution_count": 52,
      "outputs": []
    },
    {
      "cell_type": "code",
      "metadata": {
        "colab": {
          "base_uri": "https://localhost:8080/"
        },
        "id": "fMYg0pcOZNaU",
        "outputId": "d94d5b86-2803-4af7-9ade-433f05bc4c10"
      },
      "source": [
        "x2"
      ],
      "execution_count": 53,
      "outputs": [
        {
          "output_type": "execute_result",
          "data": {
            "text/plain": [
              "(1, 2, 3)"
            ]
          },
          "metadata": {
            "tags": []
          },
          "execution_count": 53
        }
      ]
    },
    {
      "cell_type": "code",
      "metadata": {
        "colab": {
          "base_uri": "https://localhost:8080/"
        },
        "id": "9mLyL6E7ZN3c",
        "outputId": "757bf105-1182-4444-bd82-40bb86841d2d"
      },
      "source": [
        "y2"
      ],
      "execution_count": 54,
      "outputs": [
        {
          "output_type": "execute_result",
          "data": {
            "text/plain": [
              "(4, 5, 6)"
            ]
          },
          "metadata": {
            "tags": []
          },
          "execution_count": 54
        }
      ]
    },
    {
      "cell_type": "code",
      "metadata": {
        "id": "TUCuWhT_amjB"
      },
      "source": [
        "df = pd.DataFrame(\n",
        "    {\n",
        "        'A' : ['one', 'one', 'two', 'three'] * 3,\n",
        "        'B' : ['A', 'B', 'C'] * 4,\n",
        "        'C' : ['foo', 'foo', 'foo', 'bar', 'bar', 'bar' ] * 2,\n",
        "        'D' : np.random.randn(12),\n",
        "        'E' : np.random.randn(12)\n",
        "    }\n",
        ")"
      ],
      "execution_count": 61,
      "outputs": []
    },
    {
      "cell_type": "code",
      "metadata": {
        "colab": {
          "base_uri": "https://localhost:8080/",
          "height": 421
        },
        "id": "zBoSTX_iaod0",
        "outputId": "e1f250b2-8a4e-4395-809e-7f024e8a7c66"
      },
      "source": [
        "df"
      ],
      "execution_count": 62,
      "outputs": [
        {
          "output_type": "execute_result",
          "data": {
            "text/html": [
              "<div>\n",
              "<style scoped>\n",
              "    .dataframe tbody tr th:only-of-type {\n",
              "        vertical-align: middle;\n",
              "    }\n",
              "\n",
              "    .dataframe tbody tr th {\n",
              "        vertical-align: top;\n",
              "    }\n",
              "\n",
              "    .dataframe thead th {\n",
              "        text-align: right;\n",
              "    }\n",
              "</style>\n",
              "<table border=\"1\" class=\"dataframe\">\n",
              "  <thead>\n",
              "    <tr style=\"text-align: right;\">\n",
              "      <th></th>\n",
              "      <th>A</th>\n",
              "      <th>B</th>\n",
              "      <th>C</th>\n",
              "      <th>D</th>\n",
              "      <th>E</th>\n",
              "    </tr>\n",
              "  </thead>\n",
              "  <tbody>\n",
              "    <tr>\n",
              "      <th>0</th>\n",
              "      <td>one</td>\n",
              "      <td>A</td>\n",
              "      <td>foo</td>\n",
              "      <td>-0.572387</td>\n",
              "      <td>0.956130</td>\n",
              "    </tr>\n",
              "    <tr>\n",
              "      <th>1</th>\n",
              "      <td>one</td>\n",
              "      <td>B</td>\n",
              "      <td>foo</td>\n",
              "      <td>-0.531264</td>\n",
              "      <td>1.178587</td>\n",
              "    </tr>\n",
              "    <tr>\n",
              "      <th>2</th>\n",
              "      <td>two</td>\n",
              "      <td>C</td>\n",
              "      <td>foo</td>\n",
              "      <td>1.715253</td>\n",
              "      <td>-1.342230</td>\n",
              "    </tr>\n",
              "    <tr>\n",
              "      <th>3</th>\n",
              "      <td>three</td>\n",
              "      <td>A</td>\n",
              "      <td>bar</td>\n",
              "      <td>-2.037056</td>\n",
              "      <td>-0.672216</td>\n",
              "    </tr>\n",
              "    <tr>\n",
              "      <th>4</th>\n",
              "      <td>one</td>\n",
              "      <td>B</td>\n",
              "      <td>bar</td>\n",
              "      <td>-0.418087</td>\n",
              "      <td>0.745178</td>\n",
              "    </tr>\n",
              "    <tr>\n",
              "      <th>5</th>\n",
              "      <td>one</td>\n",
              "      <td>C</td>\n",
              "      <td>bar</td>\n",
              "      <td>0.616564</td>\n",
              "      <td>0.828869</td>\n",
              "    </tr>\n",
              "    <tr>\n",
              "      <th>6</th>\n",
              "      <td>two</td>\n",
              "      <td>A</td>\n",
              "      <td>foo</td>\n",
              "      <td>1.279828</td>\n",
              "      <td>0.075938</td>\n",
              "    </tr>\n",
              "    <tr>\n",
              "      <th>7</th>\n",
              "      <td>three</td>\n",
              "      <td>B</td>\n",
              "      <td>foo</td>\n",
              "      <td>-0.348130</td>\n",
              "      <td>-1.292065</td>\n",
              "    </tr>\n",
              "    <tr>\n",
              "      <th>8</th>\n",
              "      <td>one</td>\n",
              "      <td>C</td>\n",
              "      <td>foo</td>\n",
              "      <td>0.159321</td>\n",
              "      <td>0.117210</td>\n",
              "    </tr>\n",
              "    <tr>\n",
              "      <th>9</th>\n",
              "      <td>one</td>\n",
              "      <td>A</td>\n",
              "      <td>bar</td>\n",
              "      <td>-0.102432</td>\n",
              "      <td>-0.411900</td>\n",
              "    </tr>\n",
              "    <tr>\n",
              "      <th>10</th>\n",
              "      <td>two</td>\n",
              "      <td>B</td>\n",
              "      <td>bar</td>\n",
              "      <td>0.478277</td>\n",
              "      <td>0.431715</td>\n",
              "    </tr>\n",
              "    <tr>\n",
              "      <th>11</th>\n",
              "      <td>three</td>\n",
              "      <td>C</td>\n",
              "      <td>bar</td>\n",
              "      <td>-1.498260</td>\n",
              "      <td>2.353762</td>\n",
              "    </tr>\n",
              "  </tbody>\n",
              "</table>\n",
              "</div>"
            ],
            "text/plain": [
              "        A  B    C         D         E\n",
              "0     one  A  foo -0.572387  0.956130\n",
              "1     one  B  foo -0.531264  1.178587\n",
              "2     two  C  foo  1.715253 -1.342230\n",
              "3   three  A  bar -2.037056 -0.672216\n",
              "4     one  B  bar -0.418087  0.745178\n",
              "5     one  C  bar  0.616564  0.828869\n",
              "6     two  A  foo  1.279828  0.075938\n",
              "7   three  B  foo -0.348130 -1.292065\n",
              "8     one  C  foo  0.159321  0.117210\n",
              "9     one  A  bar -0.102432 -0.411900\n",
              "10    two  B  bar  0.478277  0.431715\n",
              "11  three  C  bar -1.498260  2.353762"
            ]
          },
          "metadata": {
            "tags": []
          },
          "execution_count": 62
        }
      ]
    },
    {
      "cell_type": "code",
      "metadata": {
        "colab": {
          "base_uri": "https://localhost:8080/",
          "height": 359
        },
        "id": "C-WiDmv8ZOp0",
        "outputId": "485a3197-be49-4f9c-a8cb-96bbb265012d"
      },
      "source": [
        "pd.pivot_table(df, values = 'D', index = ['A', 'B'], columns = ['C'])"
      ],
      "execution_count": 64,
      "outputs": [
        {
          "output_type": "execute_result",
          "data": {
            "text/html": [
              "<div>\n",
              "<style scoped>\n",
              "    .dataframe tbody tr th:only-of-type {\n",
              "        vertical-align: middle;\n",
              "    }\n",
              "\n",
              "    .dataframe tbody tr th {\n",
              "        vertical-align: top;\n",
              "    }\n",
              "\n",
              "    .dataframe thead th {\n",
              "        text-align: right;\n",
              "    }\n",
              "</style>\n",
              "<table border=\"1\" class=\"dataframe\">\n",
              "  <thead>\n",
              "    <tr style=\"text-align: right;\">\n",
              "      <th></th>\n",
              "      <th>C</th>\n",
              "      <th>bar</th>\n",
              "      <th>foo</th>\n",
              "    </tr>\n",
              "    <tr>\n",
              "      <th>A</th>\n",
              "      <th>B</th>\n",
              "      <th></th>\n",
              "      <th></th>\n",
              "    </tr>\n",
              "  </thead>\n",
              "  <tbody>\n",
              "    <tr>\n",
              "      <th rowspan=\"3\" valign=\"top\">one</th>\n",
              "      <th>A</th>\n",
              "      <td>-0.102432</td>\n",
              "      <td>-0.572387</td>\n",
              "    </tr>\n",
              "    <tr>\n",
              "      <th>B</th>\n",
              "      <td>-0.418087</td>\n",
              "      <td>-0.531264</td>\n",
              "    </tr>\n",
              "    <tr>\n",
              "      <th>C</th>\n",
              "      <td>0.616564</td>\n",
              "      <td>0.159321</td>\n",
              "    </tr>\n",
              "    <tr>\n",
              "      <th rowspan=\"3\" valign=\"top\">three</th>\n",
              "      <th>A</th>\n",
              "      <td>-2.037056</td>\n",
              "      <td>NaN</td>\n",
              "    </tr>\n",
              "    <tr>\n",
              "      <th>B</th>\n",
              "      <td>NaN</td>\n",
              "      <td>-0.348130</td>\n",
              "    </tr>\n",
              "    <tr>\n",
              "      <th>C</th>\n",
              "      <td>-1.498260</td>\n",
              "      <td>NaN</td>\n",
              "    </tr>\n",
              "    <tr>\n",
              "      <th rowspan=\"3\" valign=\"top\">two</th>\n",
              "      <th>A</th>\n",
              "      <td>NaN</td>\n",
              "      <td>1.279828</td>\n",
              "    </tr>\n",
              "    <tr>\n",
              "      <th>B</th>\n",
              "      <td>0.478277</td>\n",
              "      <td>NaN</td>\n",
              "    </tr>\n",
              "    <tr>\n",
              "      <th>C</th>\n",
              "      <td>NaN</td>\n",
              "      <td>1.715253</td>\n",
              "    </tr>\n",
              "  </tbody>\n",
              "</table>\n",
              "</div>"
            ],
            "text/plain": [
              "C             bar       foo\n",
              "A     B                    \n",
              "one   A -0.102432 -0.572387\n",
              "      B -0.418087 -0.531264\n",
              "      C  0.616564  0.159321\n",
              "three A -2.037056       NaN\n",
              "      B       NaN -0.348130\n",
              "      C -1.498260       NaN\n",
              "two   A       NaN  1.279828\n",
              "      B  0.478277       NaN\n",
              "      C       NaN  1.715253"
            ]
          },
          "metadata": {
            "tags": []
          },
          "execution_count": 64
        }
      ]
    },
    {
      "cell_type": "code",
      "metadata": {
        "colab": {
          "base_uri": "https://localhost:8080/"
        },
        "id": "ZH-cPaJ2Zo69",
        "outputId": "f15d2a21-4bf9-4fcd-e6b9-615cd929bf33"
      },
      "source": [
        "rng = pd.date_range('20210521',periods=100,freq='s')\n",
        "rng"
      ],
      "execution_count": 77,
      "outputs": [
        {
          "output_type": "execute_result",
          "data": {
            "text/plain": [
              "DatetimeIndex(['2021-05-21 00:00:00', '2021-05-21 00:00:01',\n",
              "               '2021-05-21 00:00:02', '2021-05-21 00:00:03',\n",
              "               '2021-05-21 00:00:04', '2021-05-21 00:00:05',\n",
              "               '2021-05-21 00:00:06', '2021-05-21 00:00:07',\n",
              "               '2021-05-21 00:00:08', '2021-05-21 00:00:09',\n",
              "               '2021-05-21 00:00:10', '2021-05-21 00:00:11',\n",
              "               '2021-05-21 00:00:12', '2021-05-21 00:00:13',\n",
              "               '2021-05-21 00:00:14', '2021-05-21 00:00:15',\n",
              "               '2021-05-21 00:00:16', '2021-05-21 00:00:17',\n",
              "               '2021-05-21 00:00:18', '2021-05-21 00:00:19',\n",
              "               '2021-05-21 00:00:20', '2021-05-21 00:00:21',\n",
              "               '2021-05-21 00:00:22', '2021-05-21 00:00:23',\n",
              "               '2021-05-21 00:00:24', '2021-05-21 00:00:25',\n",
              "               '2021-05-21 00:00:26', '2021-05-21 00:00:27',\n",
              "               '2021-05-21 00:00:28', '2021-05-21 00:00:29',\n",
              "               '2021-05-21 00:00:30', '2021-05-21 00:00:31',\n",
              "               '2021-05-21 00:00:32', '2021-05-21 00:00:33',\n",
              "               '2021-05-21 00:00:34', '2021-05-21 00:00:35',\n",
              "               '2021-05-21 00:00:36', '2021-05-21 00:00:37',\n",
              "               '2021-05-21 00:00:38', '2021-05-21 00:00:39',\n",
              "               '2021-05-21 00:00:40', '2021-05-21 00:00:41',\n",
              "               '2021-05-21 00:00:42', '2021-05-21 00:00:43',\n",
              "               '2021-05-21 00:00:44', '2021-05-21 00:00:45',\n",
              "               '2021-05-21 00:00:46', '2021-05-21 00:00:47',\n",
              "               '2021-05-21 00:00:48', '2021-05-21 00:00:49',\n",
              "               '2021-05-21 00:00:50', '2021-05-21 00:00:51',\n",
              "               '2021-05-21 00:00:52', '2021-05-21 00:00:53',\n",
              "               '2021-05-21 00:00:54', '2021-05-21 00:00:55',\n",
              "               '2021-05-21 00:00:56', '2021-05-21 00:00:57',\n",
              "               '2021-05-21 00:00:58', '2021-05-21 00:00:59',\n",
              "               '2021-05-21 00:01:00', '2021-05-21 00:01:01',\n",
              "               '2021-05-21 00:01:02', '2021-05-21 00:01:03',\n",
              "               '2021-05-21 00:01:04', '2021-05-21 00:01:05',\n",
              "               '2021-05-21 00:01:06', '2021-05-21 00:01:07',\n",
              "               '2021-05-21 00:01:08', '2021-05-21 00:01:09',\n",
              "               '2021-05-21 00:01:10', '2021-05-21 00:01:11',\n",
              "               '2021-05-21 00:01:12', '2021-05-21 00:01:13',\n",
              "               '2021-05-21 00:01:14', '2021-05-21 00:01:15',\n",
              "               '2021-05-21 00:01:16', '2021-05-21 00:01:17',\n",
              "               '2021-05-21 00:01:18', '2021-05-21 00:01:19',\n",
              "               '2021-05-21 00:01:20', '2021-05-21 00:01:21',\n",
              "               '2021-05-21 00:01:22', '2021-05-21 00:01:23',\n",
              "               '2021-05-21 00:01:24', '2021-05-21 00:01:25',\n",
              "               '2021-05-21 00:01:26', '2021-05-21 00:01:27',\n",
              "               '2021-05-21 00:01:28', '2021-05-21 00:01:29',\n",
              "               '2021-05-21 00:01:30', '2021-05-21 00:01:31',\n",
              "               '2021-05-21 00:01:32', '2021-05-21 00:01:33',\n",
              "               '2021-05-21 00:01:34', '2021-05-21 00:01:35',\n",
              "               '2021-05-21 00:01:36', '2021-05-21 00:01:37',\n",
              "               '2021-05-21 00:01:38', '2021-05-21 00:01:39'],\n",
              "              dtype='datetime64[ns]', freq='S')"
            ]
          },
          "metadata": {
            "tags": []
          },
          "execution_count": 77
        }
      ]
    },
    {
      "cell_type": "code",
      "metadata": {
        "colab": {
          "base_uri": "https://localhost:8080/"
        },
        "id": "KIIAMjgqbSpl",
        "outputId": "7d49fb22-515a-4243-e2f1-0a9356028420"
      },
      "source": [
        "ts = pd.Series(np.random.randint(0, 10, len(rng)), index = rng)\n",
        "ts"
      ],
      "execution_count": 85,
      "outputs": [
        {
          "output_type": "execute_result",
          "data": {
            "text/plain": [
              "2021-05-21 00:00:00    6\n",
              "2021-05-21 00:00:01    0\n",
              "2021-05-21 00:00:02    4\n",
              "2021-05-21 00:00:03    7\n",
              "2021-05-21 00:00:04    7\n",
              "                      ..\n",
              "2021-05-21 00:01:35    0\n",
              "2021-05-21 00:01:36    4\n",
              "2021-05-21 00:01:37    1\n",
              "2021-05-21 00:01:38    4\n",
              "2021-05-21 00:01:39    9\n",
              "Freq: S, Length: 100, dtype: int64"
            ]
          },
          "metadata": {
            "tags": []
          },
          "execution_count": 85
        }
      ]
    },
    {
      "cell_type": "code",
      "metadata": {
        "colab": {
          "base_uri": "https://localhost:8080/"
        },
        "id": "fQP0mq8ocQVl",
        "outputId": "2881f0db-d1f0-49aa-b6b9-b81ed4a55bf8"
      },
      "source": [
        "ts.resample('1min').sum()"
      ],
      "execution_count": 80,
      "outputs": [
        {
          "output_type": "execute_result",
          "data": {
            "text/plain": [
              "2021-05-21 00:00:00    295\n",
              "2021-05-21 00:01:00    178\n",
              "Freq: T, dtype: int64"
            ]
          },
          "metadata": {
            "tags": []
          },
          "execution_count": 80
        }
      ]
    },
    {
      "cell_type": "code",
      "metadata": {
        "colab": {
          "base_uri": "https://localhost:8080/"
        },
        "id": "IHnWwUjhcr_r",
        "outputId": "946950fb-11ba-4316-daba-18493d1a67b9"
      },
      "source": [
        "ts\n"
      ],
      "execution_count": 81,
      "outputs": [
        {
          "output_type": "execute_result",
          "data": {
            "text/plain": [
              "2021-05-21 00:00:00    6\n",
              "2021-05-21 00:00:01    8\n",
              "2021-05-21 00:00:02    3\n",
              "2021-05-21 00:00:03    8\n",
              "2021-05-21 00:00:04    9\n",
              "                      ..\n",
              "2021-05-21 00:01:35    6\n",
              "2021-05-21 00:01:36    1\n",
              "2021-05-21 00:01:37    0\n",
              "2021-05-21 00:01:38    0\n",
              "2021-05-21 00:01:39    1\n",
              "Freq: S, Length: 100, dtype: int64"
            ]
          },
          "metadata": {
            "tags": []
          },
          "execution_count": 81
        }
      ]
    },
    {
      "cell_type": "code",
      "metadata": {
        "colab": {
          "base_uri": "https://localhost:8080/"
        },
        "id": "WMo-6RYueLNb",
        "outputId": "123a4ac0-45f4-4c81-d135-926117e0cad3"
      },
      "source": [
        "\n",
        "ps = ts.to_period()\n",
        "ps"
      ],
      "execution_count": 87,
      "outputs": [
        {
          "output_type": "execute_result",
          "data": {
            "text/plain": [
              "2021-05-21 00:00:00    6\n",
              "2021-05-21 00:00:01    0\n",
              "2021-05-21 00:00:02    4\n",
              "2021-05-21 00:00:03    7\n",
              "2021-05-21 00:00:04    7\n",
              "                      ..\n",
              "2021-05-21 00:01:35    0\n",
              "2021-05-21 00:01:36    4\n",
              "2021-05-21 00:01:37    1\n",
              "2021-05-21 00:01:38    4\n",
              "2021-05-21 00:01:39    9\n",
              "Freq: S, Length: 100, dtype: int64"
            ]
          },
          "metadata": {
            "tags": []
          },
          "execution_count": 87
        }
      ]
    },
    {
      "cell_type": "code",
      "metadata": {
        "colab": {
          "base_uri": "https://localhost:8080/"
        },
        "id": "H4_Z098ueToM",
        "outputId": "82a52e95-7e76-4cc2-eaba-6ef0ac4b6b12"
      },
      "source": [
        "ps.to_timestamp()"
      ],
      "execution_count": 88,
      "outputs": [
        {
          "output_type": "execute_result",
          "data": {
            "text/plain": [
              "2021-05-21 00:00:00    6\n",
              "2021-05-21 00:00:01    0\n",
              "2021-05-21 00:00:02    4\n",
              "2021-05-21 00:00:03    7\n",
              "2021-05-21 00:00:04    7\n",
              "                      ..\n",
              "2021-05-21 00:01:35    0\n",
              "2021-05-21 00:01:36    4\n",
              "2021-05-21 00:01:37    1\n",
              "2021-05-21 00:01:38    4\n",
              "2021-05-21 00:01:39    9\n",
              "Freq: S, Length: 100, dtype: int64"
            ]
          },
          "metadata": {
            "tags": []
          },
          "execution_count": 88
        }
      ]
    },
    {
      "cell_type": "code",
      "metadata": {
        "colab": {
          "base_uri": "https://localhost:8080/"
        },
        "id": "5wLVwrLoeaf0",
        "outputId": "0cbc896c-31bc-48d1-ac8d-d3ef538f9d8d"
      },
      "source": [
        "prng = pd.period_range('2020Q1','2021Q4',freq='Q-NOV')\n",
        "prng"
      ],
      "execution_count": 89,
      "outputs": [
        {
          "output_type": "execute_result",
          "data": {
            "text/plain": [
              "PeriodIndex(['2020Q1', '2020Q2', '2020Q3', '2020Q4', '2021Q1', '2021Q2',\n",
              "             '2021Q3', '2021Q4'],\n",
              "            dtype='period[Q-NOV]', freq='Q-NOV')"
            ]
          },
          "metadata": {
            "tags": []
          },
          "execution_count": 89
        }
      ]
    },
    {
      "cell_type": "code",
      "metadata": {
        "colab": {
          "base_uri": "https://localhost:8080/"
        },
        "id": "EfgdBBZifH9a",
        "outputId": "239fc8ee-41a9-4aef-e9e0-3948e5d1f199"
      },
      "source": [
        "df = pd.DataFrame({\n",
        "    \"id\":[1, 2, 3, 4, 5, 6],\n",
        "    \"raw_grade\":['a', 'b', 'b', 'a', 'a', 'e']\n",
        "})\n",
        "print(df);print()"
      ],
      "execution_count": 90,
      "outputs": [
        {
          "output_type": "stream",
          "text": [
            "   id raw_grade\n",
            "0   1         a\n",
            "1   2         b\n",
            "2   3         b\n",
            "3   4         a\n",
            "4   5         a\n",
            "5   6         e\n",
            "\n"
          ],
          "name": "stdout"
        }
      ]
    },
    {
      "cell_type": "code",
      "metadata": {
        "colab": {
          "base_uri": "https://localhost:8080/"
        },
        "id": "AoVcVw3hfZGr",
        "outputId": "dc2477bb-2b49-4856-da11-8e7ded9ef8af"
      },
      "source": [
        "df['raw_grade']"
      ],
      "execution_count": 92,
      "outputs": [
        {
          "output_type": "execute_result",
          "data": {
            "text/plain": [
              "0    a\n",
              "1    b\n",
              "2    b\n",
              "3    a\n",
              "4    a\n",
              "5    e\n",
              "Name: raw_grade, dtype: object"
            ]
          },
          "metadata": {
            "tags": []
          },
          "execution_count": 92
        }
      ]
    },
    {
      "cell_type": "code",
      "metadata": {
        "id": "Cg4eQ6mofczT"
      },
      "source": [
        "df['grade'] = df['raw_grade'].astype('category')"
      ],
      "execution_count": 97,
      "outputs": []
    },
    {
      "cell_type": "code",
      "metadata": {
        "colab": {
          "base_uri": "https://localhost:8080/"
        },
        "id": "mjFx33FNfflr",
        "outputId": "37832d4f-56fd-45e8-865f-86599cb87f6e"
      },
      "source": [
        "df['grade']"
      ],
      "execution_count": 98,
      "outputs": [
        {
          "output_type": "execute_result",
          "data": {
            "text/plain": [
              "0    a\n",
              "1    b\n",
              "2    b\n",
              "3    a\n",
              "4    a\n",
              "5    e\n",
              "Name: grade, dtype: category\n",
              "Categories (3, object): ['a', 'b', 'e']"
            ]
          },
          "metadata": {
            "tags": []
          },
          "execution_count": 98
        }
      ]
    },
    {
      "cell_type": "code",
      "metadata": {
        "id": "MKfZJ5C3f8Dc"
      },
      "source": [
        "df['grade'].cat.categories = ['very good', 'good', 'very bad']"
      ],
      "execution_count": 100,
      "outputs": []
    },
    {
      "cell_type": "code",
      "metadata": {
        "id": "C3hSG4t4gL6d"
      },
      "source": [
        "df['grade2'] = df['raw_grade'].astype('category')"
      ],
      "execution_count": 103,
      "outputs": []
    },
    {
      "cell_type": "code",
      "metadata": {
        "colab": {
          "base_uri": "https://localhost:8080/",
          "height": 235
        },
        "id": "cU701Ge1gbwF",
        "outputId": "ba1c63cb-b1a6-4e6d-e5bf-6849c0e7db8b"
      },
      "source": [
        "df"
      ],
      "execution_count": 104,
      "outputs": [
        {
          "output_type": "execute_result",
          "data": {
            "text/html": [
              "<div>\n",
              "<style scoped>\n",
              "    .dataframe tbody tr th:only-of-type {\n",
              "        vertical-align: middle;\n",
              "    }\n",
              "\n",
              "    .dataframe tbody tr th {\n",
              "        vertical-align: top;\n",
              "    }\n",
              "\n",
              "    .dataframe thead th {\n",
              "        text-align: right;\n",
              "    }\n",
              "</style>\n",
              "<table border=\"1\" class=\"dataframe\">\n",
              "  <thead>\n",
              "    <tr style=\"text-align: right;\">\n",
              "      <th></th>\n",
              "      <th>id</th>\n",
              "      <th>raw_grade</th>\n",
              "      <th>grade</th>\n",
              "      <th>grade2</th>\n",
              "    </tr>\n",
              "  </thead>\n",
              "  <tbody>\n",
              "    <tr>\n",
              "      <th>0</th>\n",
              "      <td>1</td>\n",
              "      <td>a</td>\n",
              "      <td>very good</td>\n",
              "      <td>a</td>\n",
              "    </tr>\n",
              "    <tr>\n",
              "      <th>1</th>\n",
              "      <td>2</td>\n",
              "      <td>b</td>\n",
              "      <td>good</td>\n",
              "      <td>b</td>\n",
              "    </tr>\n",
              "    <tr>\n",
              "      <th>2</th>\n",
              "      <td>3</td>\n",
              "      <td>b</td>\n",
              "      <td>good</td>\n",
              "      <td>b</td>\n",
              "    </tr>\n",
              "    <tr>\n",
              "      <th>3</th>\n",
              "      <td>4</td>\n",
              "      <td>a</td>\n",
              "      <td>very good</td>\n",
              "      <td>a</td>\n",
              "    </tr>\n",
              "    <tr>\n",
              "      <th>4</th>\n",
              "      <td>5</td>\n",
              "      <td>a</td>\n",
              "      <td>very good</td>\n",
              "      <td>a</td>\n",
              "    </tr>\n",
              "    <tr>\n",
              "      <th>5</th>\n",
              "      <td>6</td>\n",
              "      <td>e</td>\n",
              "      <td>very bad</td>\n",
              "      <td>e</td>\n",
              "    </tr>\n",
              "  </tbody>\n",
              "</table>\n",
              "</div>"
            ],
            "text/plain": [
              "   id raw_grade      grade grade2\n",
              "0   1         a  very good      a\n",
              "1   2         b       good      b\n",
              "2   3         b       good      b\n",
              "3   4         a  very good      a\n",
              "4   5         a  very good      a\n",
              "5   6         e   very bad      e"
            ]
          },
          "metadata": {
            "tags": []
          },
          "execution_count": 104
        }
      ]
    },
    {
      "cell_type": "code",
      "metadata": {
        "colab": {
          "base_uri": "https://localhost:8080/"
        },
        "id": "p1T_crjrgmos",
        "outputId": "151f4e1a-33fc-4e12-af6d-b845054e8471"
      },
      "source": [
        "df['grade2']"
      ],
      "execution_count": 105,
      "outputs": [
        {
          "output_type": "execute_result",
          "data": {
            "text/plain": [
              "0    a\n",
              "1    b\n",
              "2    b\n",
              "3    a\n",
              "4    a\n",
              "5    e\n",
              "Name: grade2, dtype: category\n",
              "Categories (3, object): ['a', 'b', 'e']"
            ]
          },
          "metadata": {
            "tags": []
          },
          "execution_count": 105
        }
      ]
    },
    {
      "cell_type": "code",
      "metadata": {
        "id": "Z9dyWLv4g0DD"
      },
      "source": [
        "df['grade'].cat.categories = ['참잘했어요', '잘했어요', '나빠요']"
      ],
      "execution_count": 106,
      "outputs": []
    },
    {
      "cell_type": "code",
      "metadata": {
        "colab": {
          "base_uri": "https://localhost:8080/",
          "height": 235
        },
        "id": "mBCRhIFQg9fe",
        "outputId": "ce7d8275-0d1c-4a8b-9be5-757fbca3bdd6"
      },
      "source": [
        "df"
      ],
      "execution_count": 108,
      "outputs": [
        {
          "output_type": "execute_result",
          "data": {
            "text/html": [
              "<div>\n",
              "<style scoped>\n",
              "    .dataframe tbody tr th:only-of-type {\n",
              "        vertical-align: middle;\n",
              "    }\n",
              "\n",
              "    .dataframe tbody tr th {\n",
              "        vertical-align: top;\n",
              "    }\n",
              "\n",
              "    .dataframe thead th {\n",
              "        text-align: right;\n",
              "    }\n",
              "</style>\n",
              "<table border=\"1\" class=\"dataframe\">\n",
              "  <thead>\n",
              "    <tr style=\"text-align: right;\">\n",
              "      <th></th>\n",
              "      <th>id</th>\n",
              "      <th>raw_grade</th>\n",
              "      <th>grade</th>\n",
              "      <th>grade2</th>\n",
              "    </tr>\n",
              "  </thead>\n",
              "  <tbody>\n",
              "    <tr>\n",
              "      <th>0</th>\n",
              "      <td>1</td>\n",
              "      <td>a</td>\n",
              "      <td>참잘했어요</td>\n",
              "      <td>a</td>\n",
              "    </tr>\n",
              "    <tr>\n",
              "      <th>1</th>\n",
              "      <td>2</td>\n",
              "      <td>b</td>\n",
              "      <td>잘했어요</td>\n",
              "      <td>b</td>\n",
              "    </tr>\n",
              "    <tr>\n",
              "      <th>2</th>\n",
              "      <td>3</td>\n",
              "      <td>b</td>\n",
              "      <td>잘했어요</td>\n",
              "      <td>b</td>\n",
              "    </tr>\n",
              "    <tr>\n",
              "      <th>3</th>\n",
              "      <td>4</td>\n",
              "      <td>a</td>\n",
              "      <td>참잘했어요</td>\n",
              "      <td>a</td>\n",
              "    </tr>\n",
              "    <tr>\n",
              "      <th>4</th>\n",
              "      <td>5</td>\n",
              "      <td>a</td>\n",
              "      <td>참잘했어요</td>\n",
              "      <td>a</td>\n",
              "    </tr>\n",
              "    <tr>\n",
              "      <th>5</th>\n",
              "      <td>6</td>\n",
              "      <td>e</td>\n",
              "      <td>나빠요</td>\n",
              "      <td>e</td>\n",
              "    </tr>\n",
              "  </tbody>\n",
              "</table>\n",
              "</div>"
            ],
            "text/plain": [
              "   id raw_grade  grade grade2\n",
              "0   1         a  참잘했어요      a\n",
              "1   2         b   잘했어요      b\n",
              "2   3         b   잘했어요      b\n",
              "3   4         a  참잘했어요      a\n",
              "4   5         a  참잘했어요      a\n",
              "5   6         e    나빠요      e"
            ]
          },
          "metadata": {
            "tags": []
          },
          "execution_count": 108
        }
      ]
    },
    {
      "cell_type": "code",
      "metadata": {
        "id": "YGxvfCV1g_bG"
      },
      "source": [
        "ts = pd.Series(np.random.randn(1000), index=pd.date_range('20210521', periods=1000))\n"
      ],
      "execution_count": 109,
      "outputs": []
    },
    {
      "cell_type": "code",
      "metadata": {
        "id": "wDYsvIZhhMHL"
      },
      "source": [
        "ts = ts.cumsum()"
      ],
      "execution_count": 110,
      "outputs": []
    },
    {
      "cell_type": "code",
      "metadata": {
        "colab": {
          "base_uri": "https://localhost:8080/",
          "height": 295
        },
        "id": "UnuGSwIEhP_r",
        "outputId": "9ac7bf8c-edfc-4e29-a2f8-ff635ad38f0d"
      },
      "source": [
        "ts.plot()"
      ],
      "execution_count": 111,
      "outputs": [
        {
          "output_type": "execute_result",
          "data": {
            "text/plain": [
              "<matplotlib.axes._subplots.AxesSubplot at 0x7f1bd1948450>"
            ]
          },
          "metadata": {
            "tags": []
          },
          "execution_count": 111
        },
        {
          "output_type": "display_data",
          "data": {
            "image/png": "[encoded data removed]",
            "text/plain": [
              "<Figure size 432x288 with 1 Axes>"
            ]
          },
          "metadata": {
            "tags": [],
            "needs_background": "light"
          }
        }
      ]
    },
    {
      "cell_type": "code",
      "metadata": {
        "id": "nkhsC44GhROz"
      },
      "source": [
        "ts_cum = ts.cumsum()"
      ],
      "execution_count": 113,
      "outputs": []
    },
    {
      "cell_type": "code",
      "metadata": {
        "colab": {
          "base_uri": "https://localhost:8080/",
          "height": 295
        },
        "id": "wtSE-ZRshd5T",
        "outputId": "c904b5a4-2e88-4f10-d11b-4ee6d2e6a2f3"
      },
      "source": [
        "ts_cum.plot()"
      ],
      "execution_count": 114,
      "outputs": [
        {
          "output_type": "execute_result",
          "data": {
            "text/plain": [
              "<matplotlib.axes._subplots.AxesSubplot at 0x7f1bd6c90290>"
            ]
          },
          "metadata": {
            "tags": []
          },
          "execution_count": 114
        },
        {
          "output_type": "display_data",
          "data": {
            "image/png": "[encoded data removed]",
            "text/plain": [
              "<Figure size 432x288 with 1 Axes>"
            ]
          },
          "metadata": {
            "tags": [],
            "needs_background": "light"
          }
        }
      ]
    },
    {
      "cell_type": "code",
      "metadata": {
        "id": "gOEvkH5ihoLD"
      },
      "source": [
        "ts = pd.Series(np.random.randn(1000), index=pd.date_range('20210521', periods=1000))\n",
        "df = pd.DataFrame(np.random.randn(1000, 4), index=ts.index, columns = ['A', 'B', 'C', 'D'])\n"
      ],
      "execution_count": 115,
      "outputs": []
    },
    {
      "cell_type": "code",
      "metadata": {
        "colab": {
          "base_uri": "https://localhost:8080/",
          "height": 419
        },
        "id": "lSmrK1vph06D",
        "outputId": "cbbfad11-d9cc-4c4e-deb6-f537e2e43ab0"
      },
      "source": [
        "df"
      ],
      "execution_count": 116,
      "outputs": [
        {
          "output_type": "execute_result",
          "data": {
            "text/html": [
              "<div>\n",
              "<style scoped>\n",
              "    .dataframe tbody tr th:only-of-type {\n",
              "        vertical-align: middle;\n",
              "    }\n",
              "\n",
              "    .dataframe tbody tr th {\n",
              "        vertical-align: top;\n",
              "    }\n",
              "\n",
              "    .dataframe thead th {\n",
              "        text-align: right;\n",
              "    }\n",
              "</style>\n",
              "<table border=\"1\" class=\"dataframe\">\n",
              "  <thead>\n",
              "    <tr style=\"text-align: right;\">\n",
              "      <th></th>\n",
              "      <th>A</th>\n",
              "      <th>B</th>\n",
              "      <th>C</th>\n",
              "      <th>D</th>\n",
              "    </tr>\n",
              "  </thead>\n",
              "  <tbody>\n",
              "    <tr>\n",
              "      <th>2021-05-21</th>\n",
              "      <td>-1.222712</td>\n",
              "      <td>0.534211</td>\n",
              "      <td>-0.742617</td>\n",
              "      <td>0.687771</td>\n",
              "    </tr>\n",
              "    <tr>\n",
              "      <th>2021-05-22</th>\n",
              "      <td>0.059078</td>\n",
              "      <td>0.293593</td>\n",
              "      <td>0.530789</td>\n",
              "      <td>0.048314</td>\n",
              "    </tr>\n",
              "    <tr>\n",
              "      <th>2021-05-23</th>\n",
              "      <td>-0.189369</td>\n",
              "      <td>-0.004853</td>\n",
              "      <td>-0.858844</td>\n",
              "      <td>-0.324458</td>\n",
              "    </tr>\n",
              "    <tr>\n",
              "      <th>2021-05-24</th>\n",
              "      <td>-0.305812</td>\n",
              "      <td>-2.039154</td>\n",
              "      <td>0.434484</td>\n",
              "      <td>-0.399806</td>\n",
              "    </tr>\n",
              "    <tr>\n",
              "      <th>2021-05-25</th>\n",
              "      <td>1.790169</td>\n",
              "      <td>-0.468146</td>\n",
              "      <td>0.467546</td>\n",
              "      <td>1.928022</td>\n",
              "    </tr>\n",
              "    <tr>\n",
              "      <th>...</th>\n",
              "      <td>...</td>\n",
              "      <td>...</td>\n",
              "      <td>...</td>\n",
              "      <td>...</td>\n",
              "    </tr>\n",
              "    <tr>\n",
              "      <th>2024-02-10</th>\n",
              "      <td>1.060869</td>\n",
              "      <td>-0.743218</td>\n",
              "      <td>0.343244</td>\n",
              "      <td>1.635558</td>\n",
              "    </tr>\n",
              "    <tr>\n",
              "      <th>2024-02-11</th>\n",
              "      <td>1.261330</td>\n",
              "      <td>-1.774352</td>\n",
              "      <td>0.000673</td>\n",
              "      <td>-0.216255</td>\n",
              "    </tr>\n",
              "    <tr>\n",
              "      <th>2024-02-12</th>\n",
              "      <td>-1.174775</td>\n",
              "      <td>-1.241137</td>\n",
              "      <td>0.237427</td>\n",
              "      <td>-0.769084</td>\n",
              "    </tr>\n",
              "    <tr>\n",
              "      <th>2024-02-13</th>\n",
              "      <td>0.477059</td>\n",
              "      <td>0.088314</td>\n",
              "      <td>-0.782130</td>\n",
              "      <td>0.812237</td>\n",
              "    </tr>\n",
              "    <tr>\n",
              "      <th>2024-02-14</th>\n",
              "      <td>1.171680</td>\n",
              "      <td>0.594944</td>\n",
              "      <td>0.132961</td>\n",
              "      <td>0.938063</td>\n",
              "    </tr>\n",
              "  </tbody>\n",
              "</table>\n",
              "<p>1000 rows × 4 columns</p>\n",
              "</div>"
            ],
            "text/plain": [
              "                   A         B         C         D\n",
              "2021-05-21 -1.222712  0.534211 -0.742617  0.687771\n",
              "2021-05-22  0.059078  0.293593  0.530789  0.048314\n",
              "2021-05-23 -0.189369 -0.004853 -0.858844 -0.324458\n",
              "2021-05-24 -0.305812 -2.039154  0.434484 -0.399806\n",
              "2021-05-25  1.790169 -0.468146  0.467546  1.928022\n",
              "...              ...       ...       ...       ...\n",
              "2024-02-10  1.060869 -0.743218  0.343244  1.635558\n",
              "2024-02-11  1.261330 -1.774352  0.000673 -0.216255\n",
              "2024-02-12 -1.174775 -1.241137  0.237427 -0.769084\n",
              "2024-02-13  0.477059  0.088314 -0.782130  0.812237\n",
              "2024-02-14  1.171680  0.594944  0.132961  0.938063\n",
              "\n",
              "[1000 rows x 4 columns]"
            ]
          },
          "metadata": {
            "tags": []
          },
          "execution_count": 116
        }
      ]
    },
    {
      "cell_type": "code",
      "metadata": {
        "colab": {
          "base_uri": "https://localhost:8080/",
          "height": 204
        },
        "id": "V-VkgqA6h1lT",
        "outputId": "82282892-b76c-42de-e37e-bbeda01dfaf3"
      },
      "source": [
        "df.head()"
      ],
      "execution_count": 117,
      "outputs": [
        {
          "output_type": "execute_result",
          "data": {
            "text/html": [
              "<div>\n",
              "<style scoped>\n",
              "    .dataframe tbody tr th:only-of-type {\n",
              "        vertical-align: middle;\n",
              "    }\n",
              "\n",
              "    .dataframe tbody tr th {\n",
              "        vertical-align: top;\n",
              "    }\n",
              "\n",
              "    .dataframe thead th {\n",
              "        text-align: right;\n",
              "    }\n",
              "</style>\n",
              "<table border=\"1\" class=\"dataframe\">\n",
              "  <thead>\n",
              "    <tr style=\"text-align: right;\">\n",
              "      <th></th>\n",
              "      <th>A</th>\n",
              "      <th>B</th>\n",
              "      <th>C</th>\n",
              "      <th>D</th>\n",
              "    </tr>\n",
              "  </thead>\n",
              "  <tbody>\n",
              "    <tr>\n",
              "      <th>2021-05-21</th>\n",
              "      <td>-1.222712</td>\n",
              "      <td>0.534211</td>\n",
              "      <td>-0.742617</td>\n",
              "      <td>0.687771</td>\n",
              "    </tr>\n",
              "    <tr>\n",
              "      <th>2021-05-22</th>\n",
              "      <td>0.059078</td>\n",
              "      <td>0.293593</td>\n",
              "      <td>0.530789</td>\n",
              "      <td>0.048314</td>\n",
              "    </tr>\n",
              "    <tr>\n",
              "      <th>2021-05-23</th>\n",
              "      <td>-0.189369</td>\n",
              "      <td>-0.004853</td>\n",
              "      <td>-0.858844</td>\n",
              "      <td>-0.324458</td>\n",
              "    </tr>\n",
              "    <tr>\n",
              "      <th>2021-05-24</th>\n",
              "      <td>-0.305812</td>\n",
              "      <td>-2.039154</td>\n",
              "      <td>0.434484</td>\n",
              "      <td>-0.399806</td>\n",
              "    </tr>\n",
              "    <tr>\n",
              "      <th>2021-05-25</th>\n",
              "      <td>1.790169</td>\n",
              "      <td>-0.468146</td>\n",
              "      <td>0.467546</td>\n",
              "      <td>1.928022</td>\n",
              "    </tr>\n",
              "  </tbody>\n",
              "</table>\n",
              "</div>"
            ],
            "text/plain": [
              "                   A         B         C         D\n",
              "2021-05-21 -1.222712  0.534211 -0.742617  0.687771\n",
              "2021-05-22  0.059078  0.293593  0.530789  0.048314\n",
              "2021-05-23 -0.189369 -0.004853 -0.858844 -0.324458\n",
              "2021-05-24 -0.305812 -2.039154  0.434484 -0.399806\n",
              "2021-05-25  1.790169 -0.468146  0.467546  1.928022"
            ]
          },
          "metadata": {
            "tags": []
          },
          "execution_count": 117
        }
      ]
    },
    {
      "cell_type": "code",
      "metadata": {
        "colab": {
          "base_uri": "https://localhost:8080/",
          "height": 204
        },
        "id": "NHkHgA5Fh7fk",
        "outputId": "a76f9636-c932-4f95-c2b3-e23991d50a65"
      },
      "source": [
        "df.tail()"
      ],
      "execution_count": 119,
      "outputs": [
        {
          "output_type": "execute_result",
          "data": {
            "text/html": [
              "<div>\n",
              "<style scoped>\n",
              "    .dataframe tbody tr th:only-of-type {\n",
              "        vertical-align: middle;\n",
              "    }\n",
              "\n",
              "    .dataframe tbody tr th {\n",
              "        vertical-align: top;\n",
              "    }\n",
              "\n",
              "    .dataframe thead th {\n",
              "        text-align: right;\n",
              "    }\n",
              "</style>\n",
              "<table border=\"1\" class=\"dataframe\">\n",
              "  <thead>\n",
              "    <tr style=\"text-align: right;\">\n",
              "      <th></th>\n",
              "      <th>A</th>\n",
              "      <th>B</th>\n",
              "      <th>C</th>\n",
              "      <th>D</th>\n",
              "    </tr>\n",
              "  </thead>\n",
              "  <tbody>\n",
              "    <tr>\n",
              "      <th>2024-02-10</th>\n",
              "      <td>1.060869</td>\n",
              "      <td>-0.743218</td>\n",
              "      <td>0.343244</td>\n",
              "      <td>1.635558</td>\n",
              "    </tr>\n",
              "    <tr>\n",
              "      <th>2024-02-11</th>\n",
              "      <td>1.261330</td>\n",
              "      <td>-1.774352</td>\n",
              "      <td>0.000673</td>\n",
              "      <td>-0.216255</td>\n",
              "    </tr>\n",
              "    <tr>\n",
              "      <th>2024-02-12</th>\n",
              "      <td>-1.174775</td>\n",
              "      <td>-1.241137</td>\n",
              "      <td>0.237427</td>\n",
              "      <td>-0.769084</td>\n",
              "    </tr>\n",
              "    <tr>\n",
              "      <th>2024-02-13</th>\n",
              "      <td>0.477059</td>\n",
              "      <td>0.088314</td>\n",
              "      <td>-0.782130</td>\n",
              "      <td>0.812237</td>\n",
              "    </tr>\n",
              "    <tr>\n",
              "      <th>2024-02-14</th>\n",
              "      <td>1.171680</td>\n",
              "      <td>0.594944</td>\n",
              "      <td>0.132961</td>\n",
              "      <td>0.938063</td>\n",
              "    </tr>\n",
              "  </tbody>\n",
              "</table>\n",
              "</div>"
            ],
            "text/plain": [
              "                   A         B         C         D\n",
              "2024-02-10  1.060869 -0.743218  0.343244  1.635558\n",
              "2024-02-11  1.261330 -1.774352  0.000673 -0.216255\n",
              "2024-02-12 -1.174775 -1.241137  0.237427 -0.769084\n",
              "2024-02-13  0.477059  0.088314 -0.782130  0.812237\n",
              "2024-02-14  1.171680  0.594944  0.132961  0.938063"
            ]
          },
          "metadata": {
            "tags": []
          },
          "execution_count": 119
        }
      ]
    },
    {
      "cell_type": "code",
      "metadata": {
        "id": "ZLLnRBSAh9Jb"
      },
      "source": [
        "df = df.cumsum()\n"
      ],
      "execution_count": 120,
      "outputs": []
    },
    {
      "cell_type": "code",
      "metadata": {
        "colab": {
          "base_uri": "https://localhost:8080/",
          "height": 297
        },
        "id": "cG3hJqQhiGyD",
        "outputId": "89b9dc4b-b6c5-4392-abd7-3c53252dfa43"
      },
      "source": [
        "df.plot()"
      ],
      "execution_count": 121,
      "outputs": [
        {
          "output_type": "execute_result",
          "data": {
            "text/plain": [
              "<matplotlib.axes._subplots.AxesSubplot at 0x7f1bd242a890>"
            ]
          },
          "metadata": {
            "tags": []
          },
          "execution_count": 121
        },
        {
          "output_type": "display_data",
          "data": {
            "image/png": "[encoded data removed]",
            "text/plain": [
              "<Figure size 432x288 with 1 Axes>"
            ]
          },
          "metadata": {
            "tags": [],
            "needs_background": "light"
          }
        }
      ]
    },
    {
      "cell_type": "code",
      "metadata": {
        "id": "sbsa4it0iHuz"
      },
      "source": [
        "df.to_csv('foo.csv')"
      ],
      "execution_count": 123,
      "outputs": []
    },
    {
      "cell_type": "code",
      "metadata": {
        "id": "4l8x-s5QiPxD"
      },
      "source": [
        "df.to_excel('foo.xlsx')"
      ],
      "execution_count": 124,
      "outputs": []
    },
    {
      "cell_type": "code",
      "metadata": {
        "id": "OVzmkbAuitYi"
      },
      "source": [
        ""
      ],
      "execution_count": null,
      "outputs": []
    }
  ]
}