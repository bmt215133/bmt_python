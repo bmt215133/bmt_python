{
  "nbformat": 4,
  "nbformat_minor": 0,
  "metadata": {
    "colab": {
      "name": "21513_11주차실습.ipynb",
      "provenance": [],
      "collapsed_sections": [],
      "authorship_tag": "ABX9TyMhF3nlEVaWtNOR9zXitFWE",
      "include_colab_link": true
    },
    "kernelspec": {
      "name": "python3",
      "display_name": "Python 3"
    },
    "language_info": {
      "name": "python"
    }
  },
  "cells": [
    {
      "cell_type": "markdown",
      "metadata": {
        "id": "view-in-github",
        "colab_type": "text"
      },
      "source": [
        "<a href=\"https://colab.research.google.com/github/bmt215133/bmt_python/blob/main/21513_11%EC%A3%BC%EC%B0%A8%EC%8B%A4%EC%8A%B5.ipynb\" target=\"_parent\"><img src=\"https://colab.research.google.com/assets/colab-badge.svg\" alt=\"Open In Colab\"/></a>"
      ]
    },
    {
      "cell_type": "code",
      "metadata": {
        "id": "uTmvL13dJSyU"
      },
      "source": [
        "import pandas as pd\n",
        "import numpy as np\n",
        "import matplotlib.pyplot as plt"
      ],
      "execution_count": 1,
      "outputs": []
    },
    {
      "cell_type": "code",
      "metadata": {
        "colab": {
          "base_uri": "https://localhost:8080/"
        },
        "id": "jc38ednnK8Sz",
        "outputId": "696277eb-0e67-46db-8bb5-85f6b915333b"
      },
      "source": [
        "dates = pd.date_range('20210514', periods=6)\n",
        "dates"
      ],
      "execution_count": 2,
      "outputs": [
        {
          "output_type": "execute_result",
          "data": {
            "text/plain": [
              "DatetimeIndex(['2021-05-14', '2021-05-15', '2021-05-16', '2021-05-17',\n",
              "               '2021-05-18', '2021-05-19'],\n",
              "              dtype='datetime64[ns]', freq='D')"
            ]
          },
          "metadata": {
            "tags": []
          },
          "execution_count": 2
        }
      ]
    },
    {
      "cell_type": "code",
      "metadata": {
        "colab": {
          "base_uri": "https://localhost:8080/",
          "height": 235
        },
        "id": "YxWdsTjHLMvC",
        "outputId": "54c77511-8787-450a-a5ff-80f5ea681073"
      },
      "source": [
        "df = pd.DataFrame(np.random.randn(6,4), index=dates, columns=list('ABCD'))\n",
        "df = pd.DataFrame(np.random.randn(6,4), index=dates, columns=list('ABCD'))\n",
        "df"
      ],
      "execution_count": 3,
      "outputs": [
        {
          "output_type": "execute_result",
          "data": {
            "text/html": [
              "<div>\n",
              "<style scoped>\n",
              "    .dataframe tbody tr th:only-of-type {\n",
              "        vertical-align: middle;\n",
              "    }\n",
              "\n",
              "    .dataframe tbody tr th {\n",
              "        vertical-align: top;\n",
              "    }\n",
              "\n",
              "    .dataframe thead th {\n",
              "        text-align: right;\n",
              "    }\n",
              "</style>\n",
              "<table border=\"1\" class=\"dataframe\">\n",
              "  <thead>\n",
              "    <tr style=\"text-align: right;\">\n",
              "      <th></th>\n",
              "      <th>A</th>\n",
              "      <th>B</th>\n",
              "      <th>C</th>\n",
              "      <th>D</th>\n",
              "    </tr>\n",
              "  </thead>\n",
              "  <tbody>\n",
              "    <tr>\n",
              "      <th>2021-05-14</th>\n",
              "      <td>-0.969390</td>\n",
              "      <td>0.826687</td>\n",
              "      <td>-1.476876</td>\n",
              "      <td>0.476999</td>\n",
              "    </tr>\n",
              "    <tr>\n",
              "      <th>2021-05-15</th>\n",
              "      <td>-1.889711</td>\n",
              "      <td>-0.695406</td>\n",
              "      <td>0.272463</td>\n",
              "      <td>-1.987495</td>\n",
              "    </tr>\n",
              "    <tr>\n",
              "      <th>2021-05-16</th>\n",
              "      <td>0.206889</td>\n",
              "      <td>-0.194488</td>\n",
              "      <td>-1.284040</td>\n",
              "      <td>0.564570</td>\n",
              "    </tr>\n",
              "    <tr>\n",
              "      <th>2021-05-17</th>\n",
              "      <td>0.759801</td>\n",
              "      <td>1.024084</td>\n",
              "      <td>-0.497506</td>\n",
              "      <td>-0.706068</td>\n",
              "    </tr>\n",
              "    <tr>\n",
              "      <th>2021-05-18</th>\n",
              "      <td>-0.076493</td>\n",
              "      <td>-0.036077</td>\n",
              "      <td>1.748564</td>\n",
              "      <td>0.864918</td>\n",
              "    </tr>\n",
              "    <tr>\n",
              "      <th>2021-05-19</th>\n",
              "      <td>0.835998</td>\n",
              "      <td>0.205923</td>\n",
              "      <td>-0.647385</td>\n",
              "      <td>-0.702684</td>\n",
              "    </tr>\n",
              "  </tbody>\n",
              "</table>\n",
              "</div>"
            ],
            "text/plain": [
              "                   A         B         C         D\n",
              "2021-05-14 -0.969390  0.826687 -1.476876  0.476999\n",
              "2021-05-15 -1.889711 -0.695406  0.272463 -1.987495\n",
              "2021-05-16  0.206889 -0.194488 -1.284040  0.564570\n",
              "2021-05-17  0.759801  1.024084 -0.497506 -0.706068\n",
              "2021-05-18 -0.076493 -0.036077  1.748564  0.864918\n",
              "2021-05-19  0.835998  0.205923 -0.647385 -0.702684"
            ]
          },
          "metadata": {
            "tags": []
          },
          "execution_count": 3
        }
      ]
    },
    {
      "cell_type": "code",
      "metadata": {
        "colab": {
          "base_uri": "https://localhost:8080/"
        },
        "id": "hXQZV6cWLuVi",
        "outputId": "24c4ef2e-a1fd-4987-fa31-dfcb7cdb538f"
      },
      "source": [
        "df.mean(0)"
      ],
      "execution_count": 6,
      "outputs": [
        {
          "output_type": "execute_result",
          "data": {
            "text/plain": [
              "A   -0.188818\n",
              "B    0.188454\n",
              "C   -0.314130\n",
              "D   -0.248293\n",
              "dtype: float64"
            ]
          },
          "metadata": {
            "tags": []
          },
          "execution_count": 6
        }
      ]
    },
    {
      "cell_type": "code",
      "metadata": {
        "colab": {
          "base_uri": "https://localhost:8080/"
        },
        "id": "mVJQ4UdvMCHy",
        "outputId": "479d6735-6e97-493e-f736-d93e6f8c9bf4"
      },
      "source": [
        "df.mean(1) "
      ],
      "execution_count": 7,
      "outputs": [
        {
          "output_type": "execute_result",
          "data": {
            "text/plain": [
              "2021-05-14   -0.285645\n",
              "2021-05-15   -1.075037\n",
              "2021-05-16   -0.176767\n",
              "2021-05-17    0.145078\n",
              "2021-05-18    0.625228\n",
              "2021-05-19   -0.077037\n",
              "Freq: D, dtype: float64"
            ]
          },
          "metadata": {
            "tags": []
          },
          "execution_count": 7
        }
      ]
    },
    {
      "cell_type": "code",
      "metadata": {
        "colab": {
          "base_uri": "https://localhost:8080/",
          "height": 235
        },
        "id": "SKlXk902MtNi",
        "outputId": "f298b61b-afbd-480e-95aa-02a76dccc294"
      },
      "source": [
        "df"
      ],
      "execution_count": 8,
      "outputs": [
        {
          "output_type": "execute_result",
          "data": {
            "text/html": [
              "<div>\n",
              "<style scoped>\n",
              "    .dataframe tbody tr th:only-of-type {\n",
              "        vertical-align: middle;\n",
              "    }\n",
              "\n",
              "    .dataframe tbody tr th {\n",
              "        vertical-align: top;\n",
              "    }\n",
              "\n",
              "    .dataframe thead th {\n",
              "        text-align: right;\n",
              "    }\n",
              "</style>\n",
              "<table border=\"1\" class=\"dataframe\">\n",
              "  <thead>\n",
              "    <tr style=\"text-align: right;\">\n",
              "      <th></th>\n",
              "      <th>A</th>\n",
              "      <th>B</th>\n",
              "      <th>C</th>\n",
              "      <th>D</th>\n",
              "    </tr>\n",
              "  </thead>\n",
              "  <tbody>\n",
              "    <tr>\n",
              "      <th>2021-05-14</th>\n",
              "      <td>-0.969390</td>\n",
              "      <td>0.826687</td>\n",
              "      <td>-1.476876</td>\n",
              "      <td>0.476999</td>\n",
              "    </tr>\n",
              "    <tr>\n",
              "      <th>2021-05-15</th>\n",
              "      <td>-1.889711</td>\n",
              "      <td>-0.695406</td>\n",
              "      <td>0.272463</td>\n",
              "      <td>-1.987495</td>\n",
              "    </tr>\n",
              "    <tr>\n",
              "      <th>2021-05-16</th>\n",
              "      <td>0.206889</td>\n",
              "      <td>-0.194488</td>\n",
              "      <td>-1.284040</td>\n",
              "      <td>0.564570</td>\n",
              "    </tr>\n",
              "    <tr>\n",
              "      <th>2021-05-17</th>\n",
              "      <td>0.759801</td>\n",
              "      <td>1.024084</td>\n",
              "      <td>-0.497506</td>\n",
              "      <td>-0.706068</td>\n",
              "    </tr>\n",
              "    <tr>\n",
              "      <th>2021-05-18</th>\n",
              "      <td>-0.076493</td>\n",
              "      <td>-0.036077</td>\n",
              "      <td>1.748564</td>\n",
              "      <td>0.864918</td>\n",
              "    </tr>\n",
              "    <tr>\n",
              "      <th>2021-05-19</th>\n",
              "      <td>0.835998</td>\n",
              "      <td>0.205923</td>\n",
              "      <td>-0.647385</td>\n",
              "      <td>-0.702684</td>\n",
              "    </tr>\n",
              "  </tbody>\n",
              "</table>\n",
              "</div>"
            ],
            "text/plain": [
              "                   A         B         C         D\n",
              "2021-05-14 -0.969390  0.826687 -1.476876  0.476999\n",
              "2021-05-15 -1.889711 -0.695406  0.272463 -1.987495\n",
              "2021-05-16  0.206889 -0.194488 -1.284040  0.564570\n",
              "2021-05-17  0.759801  1.024084 -0.497506 -0.706068\n",
              "2021-05-18 -0.076493 -0.036077  1.748564  0.864918\n",
              "2021-05-19  0.835998  0.205923 -0.647385 -0.702684"
            ]
          },
          "metadata": {
            "tags": []
          },
          "execution_count": 8
        }
      ]
    },
    {
      "cell_type": "code",
      "metadata": {
        "colab": {
          "base_uri": "https://localhost:8080/",
          "height": 235
        },
        "id": "lLplh7RNNCth",
        "outputId": "ef8bf8a0-7f9a-4036-fed1-07aa250194e6"
      },
      "source": [
        "df.apply(np.cumsum)"
      ],
      "execution_count": 11,
      "outputs": [
        {
          "output_type": "execute_result",
          "data": {
            "text/html": [
              "<div>\n",
              "<style scoped>\n",
              "    .dataframe tbody tr th:only-of-type {\n",
              "        vertical-align: middle;\n",
              "    }\n",
              "\n",
              "    .dataframe tbody tr th {\n",
              "        vertical-align: top;\n",
              "    }\n",
              "\n",
              "    .dataframe thead th {\n",
              "        text-align: right;\n",
              "    }\n",
              "</style>\n",
              "<table border=\"1\" class=\"dataframe\">\n",
              "  <thead>\n",
              "    <tr style=\"text-align: right;\">\n",
              "      <th></th>\n",
              "      <th>A</th>\n",
              "      <th>B</th>\n",
              "      <th>C</th>\n",
              "      <th>D</th>\n",
              "    </tr>\n",
              "  </thead>\n",
              "  <tbody>\n",
              "    <tr>\n",
              "      <th>2021-05-14</th>\n",
              "      <td>-0.969390</td>\n",
              "      <td>0.826687</td>\n",
              "      <td>-1.476876</td>\n",
              "      <td>0.476999</td>\n",
              "    </tr>\n",
              "    <tr>\n",
              "      <th>2021-05-15</th>\n",
              "      <td>-2.859101</td>\n",
              "      <td>0.131281</td>\n",
              "      <td>-1.204413</td>\n",
              "      <td>-1.510496</td>\n",
              "    </tr>\n",
              "    <tr>\n",
              "      <th>2021-05-16</th>\n",
              "      <td>-2.652212</td>\n",
              "      <td>-0.063207</td>\n",
              "      <td>-2.488453</td>\n",
              "      <td>-0.945925</td>\n",
              "    </tr>\n",
              "    <tr>\n",
              "      <th>2021-05-17</th>\n",
              "      <td>-1.892410</td>\n",
              "      <td>0.960877</td>\n",
              "      <td>-2.985959</td>\n",
              "      <td>-1.651994</td>\n",
              "    </tr>\n",
              "    <tr>\n",
              "      <th>2021-05-18</th>\n",
              "      <td>-1.968903</td>\n",
              "      <td>0.924800</td>\n",
              "      <td>-1.237395</td>\n",
              "      <td>-0.787076</td>\n",
              "    </tr>\n",
              "    <tr>\n",
              "      <th>2021-05-19</th>\n",
              "      <td>-1.132906</td>\n",
              "      <td>1.130723</td>\n",
              "      <td>-1.884780</td>\n",
              "      <td>-1.489760</td>\n",
              "    </tr>\n",
              "  </tbody>\n",
              "</table>\n",
              "</div>"
            ],
            "text/plain": [
              "                   A         B         C         D\n",
              "2021-05-14 -0.969390  0.826687 -1.476876  0.476999\n",
              "2021-05-15 -2.859101  0.131281 -1.204413 -1.510496\n",
              "2021-05-16 -2.652212 -0.063207 -2.488453 -0.945925\n",
              "2021-05-17 -1.892410  0.960877 -2.985959 -1.651994\n",
              "2021-05-18 -1.968903  0.924800 -1.237395 -0.787076\n",
              "2021-05-19 -1.132906  1.130723 -1.884780 -1.489760"
            ]
          },
          "metadata": {
            "tags": []
          },
          "execution_count": 11
        }
      ]
    },
    {
      "cell_type": "code",
      "metadata": {
        "colab": {
          "base_uri": "https://localhost:8080/",
          "height": 235
        },
        "id": "VIuWOKfvNMkC",
        "outputId": "36ace6b4-283e-4ea9-bf5f-0e0bc1449184"
      },
      "source": [
        "df"
      ],
      "execution_count": 12,
      "outputs": [
        {
          "output_type": "execute_result",
          "data": {
            "text/html": [
              "<div>\n",
              "<style scoped>\n",
              "    .dataframe tbody tr th:only-of-type {\n",
              "        vertical-align: middle;\n",
              "    }\n",
              "\n",
              "    .dataframe tbody tr th {\n",
              "        vertical-align: top;\n",
              "    }\n",
              "\n",
              "    .dataframe thead th {\n",
              "        text-align: right;\n",
              "    }\n",
              "</style>\n",
              "<table border=\"1\" class=\"dataframe\">\n",
              "  <thead>\n",
              "    <tr style=\"text-align: right;\">\n",
              "      <th></th>\n",
              "      <th>A</th>\n",
              "      <th>B</th>\n",
              "      <th>C</th>\n",
              "      <th>D</th>\n",
              "    </tr>\n",
              "  </thead>\n",
              "  <tbody>\n",
              "    <tr>\n",
              "      <th>2021-05-14</th>\n",
              "      <td>-0.969390</td>\n",
              "      <td>0.826687</td>\n",
              "      <td>-1.476876</td>\n",
              "      <td>0.476999</td>\n",
              "    </tr>\n",
              "    <tr>\n",
              "      <th>2021-05-15</th>\n",
              "      <td>-1.889711</td>\n",
              "      <td>-0.695406</td>\n",
              "      <td>0.272463</td>\n",
              "      <td>-1.987495</td>\n",
              "    </tr>\n",
              "    <tr>\n",
              "      <th>2021-05-16</th>\n",
              "      <td>0.206889</td>\n",
              "      <td>-0.194488</td>\n",
              "      <td>-1.284040</td>\n",
              "      <td>0.564570</td>\n",
              "    </tr>\n",
              "    <tr>\n",
              "      <th>2021-05-17</th>\n",
              "      <td>0.759801</td>\n",
              "      <td>1.024084</td>\n",
              "      <td>-0.497506</td>\n",
              "      <td>-0.706068</td>\n",
              "    </tr>\n",
              "    <tr>\n",
              "      <th>2021-05-18</th>\n",
              "      <td>-0.076493</td>\n",
              "      <td>-0.036077</td>\n",
              "      <td>1.748564</td>\n",
              "      <td>0.864918</td>\n",
              "    </tr>\n",
              "    <tr>\n",
              "      <th>2021-05-19</th>\n",
              "      <td>0.835998</td>\n",
              "      <td>0.205923</td>\n",
              "      <td>-0.647385</td>\n",
              "      <td>-0.702684</td>\n",
              "    </tr>\n",
              "  </tbody>\n",
              "</table>\n",
              "</div>"
            ],
            "text/plain": [
              "                   A         B         C         D\n",
              "2021-05-14 -0.969390  0.826687 -1.476876  0.476999\n",
              "2021-05-15 -1.889711 -0.695406  0.272463 -1.987495\n",
              "2021-05-16  0.206889 -0.194488 -1.284040  0.564570\n",
              "2021-05-17  0.759801  1.024084 -0.497506 -0.706068\n",
              "2021-05-18 -0.076493 -0.036077  1.748564  0.864918\n",
              "2021-05-19  0.835998  0.205923 -0.647385 -0.702684"
            ]
          },
          "metadata": {
            "tags": []
          },
          "execution_count": 12
        }
      ]
    },
    {
      "cell_type": "code",
      "metadata": {
        "colab": {
          "base_uri": "https://localhost:8080/"
        },
        "id": "dKWU7jYSNpgC",
        "outputId": "111ec512-5acf-408b-8792-c0f61eb462b5"
      },
      "source": [
        "print(df.apply(lambda x: x.max() - x.min(), axis=1))\n"
      ],
      "execution_count": 15,
      "outputs": [
        {
          "output_type": "stream",
          "text": [
            "2021-05-14    2.303563\n",
            "2021-05-15    2.259958\n",
            "2021-05-16    1.848610\n",
            "2021-05-17    1.730153\n",
            "2021-05-18    1.825057\n",
            "2021-05-19    1.538682\n",
            "Freq: D, dtype: float64\n"
          ],
          "name": "stdout"
        }
      ]
    },
    {
      "cell_type": "code",
      "metadata": {
        "colab": {
          "base_uri": "https://localhost:8080/"
        },
        "id": "QyObPSR7N6oy",
        "outputId": "1058a43d-24ff-47fb-f88b-1f3b660cc28d"
      },
      "source": [
        "s = pd.Series(np.random.randint(1,7,size = 600))\n",
        "s.value_counts()"
      ],
      "execution_count": 27,
      "outputs": [
        {
          "output_type": "execute_result",
          "data": {
            "text/plain": [
              "4    118\n",
              "6    109\n",
              "2    101\n",
              "5     95\n",
              "1     93\n",
              "3     84\n",
              "dtype: int64"
            ]
          },
          "metadata": {
            "tags": []
          },
          "execution_count": 27
        }
      ]
    },
    {
      "cell_type": "code",
      "metadata": {
        "colab": {
          "base_uri": "https://localhost:8080/",
          "height": 359
        },
        "id": "fUFGbnpeOmnC",
        "outputId": "6c7fcb0a-8467-4b82-a181-15a67aa59cff"
      },
      "source": [
        "df = pd.DataFrame(np.random.randn(10, 4))\n",
        "df"
      ],
      "execution_count": 30,
      "outputs": [
        {
          "output_type": "execute_result",
          "data": {
            "text/html": [
              "<div>\n",
              "<style scoped>\n",
              "    .dataframe tbody tr th:only-of-type {\n",
              "        vertical-align: middle;\n",
              "    }\n",
              "\n",
              "    .dataframe tbody tr th {\n",
              "        vertical-align: top;\n",
              "    }\n",
              "\n",
              "    .dataframe thead th {\n",
              "        text-align: right;\n",
              "    }\n",
              "</style>\n",
              "<table border=\"1\" class=\"dataframe\">\n",
              "  <thead>\n",
              "    <tr style=\"text-align: right;\">\n",
              "      <th></th>\n",
              "      <th>0</th>\n",
              "      <th>1</th>\n",
              "      <th>2</th>\n",
              "      <th>3</th>\n",
              "    </tr>\n",
              "  </thead>\n",
              "  <tbody>\n",
              "    <tr>\n",
              "      <th>0</th>\n",
              "      <td>-0.250471</td>\n",
              "      <td>-1.209959</td>\n",
              "      <td>-0.126028</td>\n",
              "      <td>0.897114</td>\n",
              "    </tr>\n",
              "    <tr>\n",
              "      <th>1</th>\n",
              "      <td>-1.188212</td>\n",
              "      <td>-0.251887</td>\n",
              "      <td>0.006479</td>\n",
              "      <td>1.164911</td>\n",
              "    </tr>\n",
              "    <tr>\n",
              "      <th>2</th>\n",
              "      <td>0.051887</td>\n",
              "      <td>-0.519528</td>\n",
              "      <td>-0.596537</td>\n",
              "      <td>-1.442809</td>\n",
              "    </tr>\n",
              "    <tr>\n",
              "      <th>3</th>\n",
              "      <td>1.050704</td>\n",
              "      <td>-0.037893</td>\n",
              "      <td>1.144770</td>\n",
              "      <td>-0.017727</td>\n",
              "    </tr>\n",
              "    <tr>\n",
              "      <th>4</th>\n",
              "      <td>0.321755</td>\n",
              "      <td>-0.124500</td>\n",
              "      <td>0.239327</td>\n",
              "      <td>0.453160</td>\n",
              "    </tr>\n",
              "    <tr>\n",
              "      <th>5</th>\n",
              "      <td>0.018299</td>\n",
              "      <td>-1.074411</td>\n",
              "      <td>-1.254991</td>\n",
              "      <td>-0.232065</td>\n",
              "    </tr>\n",
              "    <tr>\n",
              "      <th>6</th>\n",
              "      <td>-0.361575</td>\n",
              "      <td>-0.727864</td>\n",
              "      <td>-1.852804</td>\n",
              "      <td>2.146960</td>\n",
              "    </tr>\n",
              "    <tr>\n",
              "      <th>7</th>\n",
              "      <td>0.172631</td>\n",
              "      <td>0.115570</td>\n",
              "      <td>-0.704387</td>\n",
              "      <td>-0.933651</td>\n",
              "    </tr>\n",
              "    <tr>\n",
              "      <th>8</th>\n",
              "      <td>-0.613568</td>\n",
              "      <td>-0.900146</td>\n",
              "      <td>-0.003374</td>\n",
              "      <td>-1.075603</td>\n",
              "    </tr>\n",
              "    <tr>\n",
              "      <th>9</th>\n",
              "      <td>-0.421796</td>\n",
              "      <td>-0.137179</td>\n",
              "      <td>-0.270054</td>\n",
              "      <td>1.082281</td>\n",
              "    </tr>\n",
              "  </tbody>\n",
              "</table>\n",
              "</div>"
            ],
            "text/plain": [
              "          0         1         2         3\n",
              "0 -0.250471 -1.209959 -0.126028  0.897114\n",
              "1 -1.188212 -0.251887  0.006479  1.164911\n",
              "2  0.051887 -0.519528 -0.596537 -1.442809\n",
              "3  1.050704 -0.037893  1.144770 -0.017727\n",
              "4  0.321755 -0.124500  0.239327  0.453160\n",
              "5  0.018299 -1.074411 -1.254991 -0.232065\n",
              "6 -0.361575 -0.727864 -1.852804  2.146960\n",
              "7  0.172631  0.115570 -0.704387 -0.933651\n",
              "8 -0.613568 -0.900146 -0.003374 -1.075603\n",
              "9 -0.421796 -0.137179 -0.270054  1.082281"
            ]
          },
          "metadata": {
            "tags": []
          },
          "execution_count": 30
        }
      ]
    },
    {
      "cell_type": "code",
      "metadata": {
        "colab": {
          "base_uri": "https://localhost:8080/",
          "height": 142
        },
        "id": "jqVYQnmpPOnz",
        "outputId": "3e525920-2e00-4bb5-ff9d-0593ccc1fcd0"
      },
      "source": [
        "df[:3]"
      ],
      "execution_count": 31,
      "outputs": [
        {
          "output_type": "execute_result",
          "data": {
            "text/html": [
              "<div>\n",
              "<style scoped>\n",
              "    .dataframe tbody tr th:only-of-type {\n",
              "        vertical-align: middle;\n",
              "    }\n",
              "\n",
              "    .dataframe tbody tr th {\n",
              "        vertical-align: top;\n",
              "    }\n",
              "\n",
              "    .dataframe thead th {\n",
              "        text-align: right;\n",
              "    }\n",
              "</style>\n",
              "<table border=\"1\" class=\"dataframe\">\n",
              "  <thead>\n",
              "    <tr style=\"text-align: right;\">\n",
              "      <th></th>\n",
              "      <th>0</th>\n",
              "      <th>1</th>\n",
              "      <th>2</th>\n",
              "      <th>3</th>\n",
              "    </tr>\n",
              "  </thead>\n",
              "  <tbody>\n",
              "    <tr>\n",
              "      <th>0</th>\n",
              "      <td>-0.250471</td>\n",
              "      <td>-1.209959</td>\n",
              "      <td>-0.126028</td>\n",
              "      <td>0.897114</td>\n",
              "    </tr>\n",
              "    <tr>\n",
              "      <th>1</th>\n",
              "      <td>-1.188212</td>\n",
              "      <td>-0.251887</td>\n",
              "      <td>0.006479</td>\n",
              "      <td>1.164911</td>\n",
              "    </tr>\n",
              "    <tr>\n",
              "      <th>2</th>\n",
              "      <td>0.051887</td>\n",
              "      <td>-0.519528</td>\n",
              "      <td>-0.596537</td>\n",
              "      <td>-1.442809</td>\n",
              "    </tr>\n",
              "  </tbody>\n",
              "</table>\n",
              "</div>"
            ],
            "text/plain": [
              "          0         1         2         3\n",
              "0 -0.250471 -1.209959 -0.126028  0.897114\n",
              "1 -1.188212 -0.251887  0.006479  1.164911\n",
              "2  0.051887 -0.519528 -0.596537 -1.442809"
            ]
          },
          "metadata": {
            "tags": []
          },
          "execution_count": 31
        }
      ]
    },
    {
      "cell_type": "code",
      "metadata": {
        "colab": {
          "base_uri": "https://localhost:8080/",
          "height": 173
        },
        "id": "yEWX77PWQPmi",
        "outputId": "668408cb-8c59-48f3-d813-cd1b67bbc24b"
      },
      "source": [
        "df[3:7]"
      ],
      "execution_count": 32,
      "outputs": [
        {
          "output_type": "execute_result",
          "data": {
            "text/html": [
              "<div>\n",
              "<style scoped>\n",
              "    .dataframe tbody tr th:only-of-type {\n",
              "        vertical-align: middle;\n",
              "    }\n",
              "\n",
              "    .dataframe tbody tr th {\n",
              "        vertical-align: top;\n",
              "    }\n",
              "\n",
              "    .dataframe thead th {\n",
              "        text-align: right;\n",
              "    }\n",
              "</style>\n",
              "<table border=\"1\" class=\"dataframe\">\n",
              "  <thead>\n",
              "    <tr style=\"text-align: right;\">\n",
              "      <th></th>\n",
              "      <th>0</th>\n",
              "      <th>1</th>\n",
              "      <th>2</th>\n",
              "      <th>3</th>\n",
              "    </tr>\n",
              "  </thead>\n",
              "  <tbody>\n",
              "    <tr>\n",
              "      <th>3</th>\n",
              "      <td>1.050704</td>\n",
              "      <td>-0.037893</td>\n",
              "      <td>1.144770</td>\n",
              "      <td>-0.017727</td>\n",
              "    </tr>\n",
              "    <tr>\n",
              "      <th>4</th>\n",
              "      <td>0.321755</td>\n",
              "      <td>-0.124500</td>\n",
              "      <td>0.239327</td>\n",
              "      <td>0.453160</td>\n",
              "    </tr>\n",
              "    <tr>\n",
              "      <th>5</th>\n",
              "      <td>0.018299</td>\n",
              "      <td>-1.074411</td>\n",
              "      <td>-1.254991</td>\n",
              "      <td>-0.232065</td>\n",
              "    </tr>\n",
              "    <tr>\n",
              "      <th>6</th>\n",
              "      <td>-0.361575</td>\n",
              "      <td>-0.727864</td>\n",
              "      <td>-1.852804</td>\n",
              "      <td>2.146960</td>\n",
              "    </tr>\n",
              "  </tbody>\n",
              "</table>\n",
              "</div>"
            ],
            "text/plain": [
              "          0         1         2         3\n",
              "3  1.050704 -0.037893  1.144770 -0.017727\n",
              "4  0.321755 -0.124500  0.239327  0.453160\n",
              "5  0.018299 -1.074411 -1.254991 -0.232065\n",
              "6 -0.361575 -0.727864 -1.852804  2.146960"
            ]
          },
          "metadata": {
            "tags": []
          },
          "execution_count": 32
        }
      ]
    },
    {
      "cell_type": "code",
      "metadata": {
        "colab": {
          "base_uri": "https://localhost:8080/",
          "height": 142
        },
        "id": "jf6DaUcFQTuC",
        "outputId": "50f7c85f-4fc5-4b96-bcad-11930d54fa18"
      },
      "source": [
        "df[7:]"
      ],
      "execution_count": 33,
      "outputs": [
        {
          "output_type": "execute_result",
          "data": {
            "text/html": [
              "<div>\n",
              "<style scoped>\n",
              "    .dataframe tbody tr th:only-of-type {\n",
              "        vertical-align: middle;\n",
              "    }\n",
              "\n",
              "    .dataframe tbody tr th {\n",
              "        vertical-align: top;\n",
              "    }\n",
              "\n",
              "    .dataframe thead th {\n",
              "        text-align: right;\n",
              "    }\n",
              "</style>\n",
              "<table border=\"1\" class=\"dataframe\">\n",
              "  <thead>\n",
              "    <tr style=\"text-align: right;\">\n",
              "      <th></th>\n",
              "      <th>0</th>\n",
              "      <th>1</th>\n",
              "      <th>2</th>\n",
              "      <th>3</th>\n",
              "    </tr>\n",
              "  </thead>\n",
              "  <tbody>\n",
              "    <tr>\n",
              "      <th>7</th>\n",
              "      <td>0.172631</td>\n",
              "      <td>0.115570</td>\n",
              "      <td>-0.704387</td>\n",
              "      <td>-0.933651</td>\n",
              "    </tr>\n",
              "    <tr>\n",
              "      <th>8</th>\n",
              "      <td>-0.613568</td>\n",
              "      <td>-0.900146</td>\n",
              "      <td>-0.003374</td>\n",
              "      <td>-1.075603</td>\n",
              "    </tr>\n",
              "    <tr>\n",
              "      <th>9</th>\n",
              "      <td>-0.421796</td>\n",
              "      <td>-0.137179</td>\n",
              "      <td>-0.270054</td>\n",
              "      <td>1.082281</td>\n",
              "    </tr>\n",
              "  </tbody>\n",
              "</table>\n",
              "</div>"
            ],
            "text/plain": [
              "          0         1         2         3\n",
              "7  0.172631  0.115570 -0.704387 -0.933651\n",
              "8 -0.613568 -0.900146 -0.003374 -1.075603\n",
              "9 -0.421796 -0.137179 -0.270054  1.082281"
            ]
          },
          "metadata": {
            "tags": []
          },
          "execution_count": 33
        }
      ]
    },
    {
      "cell_type": "code",
      "metadata": {
        "colab": {
          "base_uri": "https://localhost:8080/"
        },
        "id": "ap8kSQskQXdy",
        "outputId": "f3dabfdb-92f8-4e21-8fda-b20d11746da2"
      },
      "source": [
        "pieces = [ df[:3], df[3:7], df[7:]]\n",
        "pieces"
      ],
      "execution_count": 35,
      "outputs": [
        {
          "output_type": "execute_result",
          "data": {
            "text/plain": [
              "[          0         1         2         3\n",
              " 0 -0.250471 -1.209959 -0.126028  0.897114\n",
              " 1 -1.188212 -0.251887  0.006479  1.164911\n",
              " 2  0.051887 -0.519528 -0.596537 -1.442809,\n",
              "           0         1         2         3\n",
              " 3  1.050704 -0.037893  1.144770 -0.017727\n",
              " 4  0.321755 -0.124500  0.239327  0.453160\n",
              " 5  0.018299 -1.074411 -1.254991 -0.232065\n",
              " 6 -0.361575 -0.727864 -1.852804  2.146960,\n",
              "           0         1         2         3\n",
              " 7  0.172631  0.115570 -0.704387 -0.933651\n",
              " 8 -0.613568 -0.900146 -0.003374 -1.075603\n",
              " 9 -0.421796 -0.137179 -0.270054  1.082281]"
            ]
          },
          "metadata": {
            "tags": []
          },
          "execution_count": 35
        }
      ]
    },
    {
      "cell_type": "code",
      "metadata": {
        "colab": {
          "base_uri": "https://localhost:8080/",
          "height": 142
        },
        "id": "muLUbogJQqiS",
        "outputId": "5645df5c-c34b-46a1-e1b0-2b0370719846"
      },
      "source": [
        "pieces[2]"
      ],
      "execution_count": 37,
      "outputs": [
        {
          "output_type": "execute_result",
          "data": {
            "text/html": [
              "<div>\n",
              "<style scoped>\n",
              "    .dataframe tbody tr th:only-of-type {\n",
              "        vertical-align: middle;\n",
              "    }\n",
              "\n",
              "    .dataframe tbody tr th {\n",
              "        vertical-align: top;\n",
              "    }\n",
              "\n",
              "    .dataframe thead th {\n",
              "        text-align: right;\n",
              "    }\n",
              "</style>\n",
              "<table border=\"1\" class=\"dataframe\">\n",
              "  <thead>\n",
              "    <tr style=\"text-align: right;\">\n",
              "      <th></th>\n",
              "      <th>0</th>\n",
              "      <th>1</th>\n",
              "      <th>2</th>\n",
              "      <th>3</th>\n",
              "    </tr>\n",
              "  </thead>\n",
              "  <tbody>\n",
              "    <tr>\n",
              "      <th>7</th>\n",
              "      <td>0.172631</td>\n",
              "      <td>0.115570</td>\n",
              "      <td>-0.704387</td>\n",
              "      <td>-0.933651</td>\n",
              "    </tr>\n",
              "    <tr>\n",
              "      <th>8</th>\n",
              "      <td>-0.613568</td>\n",
              "      <td>-0.900146</td>\n",
              "      <td>-0.003374</td>\n",
              "      <td>-1.075603</td>\n",
              "    </tr>\n",
              "    <tr>\n",
              "      <th>9</th>\n",
              "      <td>-0.421796</td>\n",
              "      <td>-0.137179</td>\n",
              "      <td>-0.270054</td>\n",
              "      <td>1.082281</td>\n",
              "    </tr>\n",
              "  </tbody>\n",
              "</table>\n",
              "</div>"
            ],
            "text/plain": [
              "          0         1         2         3\n",
              "7  0.172631  0.115570 -0.704387 -0.933651\n",
              "8 -0.613568 -0.900146 -0.003374 -1.075603\n",
              "9 -0.421796 -0.137179 -0.270054  1.082281"
            ]
          },
          "metadata": {
            "tags": []
          },
          "execution_count": 37
        }
      ]
    },
    {
      "cell_type": "code",
      "metadata": {
        "colab": {
          "base_uri": "https://localhost:8080/",
          "height": 359
        },
        "id": "-6HskVSSQwfj",
        "outputId": "051c36ba-ce16-41e4-b2e9-54fdffe8d2b0"
      },
      "source": [
        "pd.concat(pieces)"
      ],
      "execution_count": 38,
      "outputs": [
        {
          "output_type": "execute_result",
          "data": {
            "text/html": [
              "<div>\n",
              "<style scoped>\n",
              "    .dataframe tbody tr th:only-of-type {\n",
              "        vertical-align: middle;\n",
              "    }\n",
              "\n",
              "    .dataframe tbody tr th {\n",
              "        vertical-align: top;\n",
              "    }\n",
              "\n",
              "    .dataframe thead th {\n",
              "        text-align: right;\n",
              "    }\n",
              "</style>\n",
              "<table border=\"1\" class=\"dataframe\">\n",
              "  <thead>\n",
              "    <tr style=\"text-align: right;\">\n",
              "      <th></th>\n",
              "      <th>0</th>\n",
              "      <th>1</th>\n",
              "      <th>2</th>\n",
              "      <th>3</th>\n",
              "    </tr>\n",
              "  </thead>\n",
              "  <tbody>\n",
              "    <tr>\n",
              "      <th>0</th>\n",
              "      <td>-0.250471</td>\n",
              "      <td>-1.209959</td>\n",
              "      <td>-0.126028</td>\n",
              "      <td>0.897114</td>\n",
              "    </tr>\n",
              "    <tr>\n",
              "      <th>1</th>\n",
              "      <td>-1.188212</td>\n",
              "      <td>-0.251887</td>\n",
              "      <td>0.006479</td>\n",
              "      <td>1.164911</td>\n",
              "    </tr>\n",
              "    <tr>\n",
              "      <th>2</th>\n",
              "      <td>0.051887</td>\n",
              "      <td>-0.519528</td>\n",
              "      <td>-0.596537</td>\n",
              "      <td>-1.442809</td>\n",
              "    </tr>\n",
              "    <tr>\n",
              "      <th>3</th>\n",
              "      <td>1.050704</td>\n",
              "      <td>-0.037893</td>\n",
              "      <td>1.144770</td>\n",
              "      <td>-0.017727</td>\n",
              "    </tr>\n",
              "    <tr>\n",
              "      <th>4</th>\n",
              "      <td>0.321755</td>\n",
              "      <td>-0.124500</td>\n",
              "      <td>0.239327</td>\n",
              "      <td>0.453160</td>\n",
              "    </tr>\n",
              "    <tr>\n",
              "      <th>5</th>\n",
              "      <td>0.018299</td>\n",
              "      <td>-1.074411</td>\n",
              "      <td>-1.254991</td>\n",
              "      <td>-0.232065</td>\n",
              "    </tr>\n",
              "    <tr>\n",
              "      <th>6</th>\n",
              "      <td>-0.361575</td>\n",
              "      <td>-0.727864</td>\n",
              "      <td>-1.852804</td>\n",
              "      <td>2.146960</td>\n",
              "    </tr>\n",
              "    <tr>\n",
              "      <th>7</th>\n",
              "      <td>0.172631</td>\n",
              "      <td>0.115570</td>\n",
              "      <td>-0.704387</td>\n",
              "      <td>-0.933651</td>\n",
              "    </tr>\n",
              "    <tr>\n",
              "      <th>8</th>\n",
              "      <td>-0.613568</td>\n",
              "      <td>-0.900146</td>\n",
              "      <td>-0.003374</td>\n",
              "      <td>-1.075603</td>\n",
              "    </tr>\n",
              "    <tr>\n",
              "      <th>9</th>\n",
              "      <td>-0.421796</td>\n",
              "      <td>-0.137179</td>\n",
              "      <td>-0.270054</td>\n",
              "      <td>1.082281</td>\n",
              "    </tr>\n",
              "  </tbody>\n",
              "</table>\n",
              "</div>"
            ],
            "text/plain": [
              "          0         1         2         3\n",
              "0 -0.250471 -1.209959 -0.126028  0.897114\n",
              "1 -1.188212 -0.251887  0.006479  1.164911\n",
              "2  0.051887 -0.519528 -0.596537 -1.442809\n",
              "3  1.050704 -0.037893  1.144770 -0.017727\n",
              "4  0.321755 -0.124500  0.239327  0.453160\n",
              "5  0.018299 -1.074411 -1.254991 -0.232065\n",
              "6 -0.361575 -0.727864 -1.852804  2.146960\n",
              "7  0.172631  0.115570 -0.704387 -0.933651\n",
              "8 -0.613568 -0.900146 -0.003374 -1.075603\n",
              "9 -0.421796 -0.137179 -0.270054  1.082281"
            ]
          },
          "metadata": {
            "tags": []
          },
          "execution_count": 38
        }
      ]
    },
    {
      "cell_type": "code",
      "metadata": {
        "id": "11dykTwMQ3qy"
      },
      "source": [
        "left = pd.DataFrame(\n",
        "    {\n",
        "        'key':['foo', 'foo'],\n",
        "        'lval': [1, 2]\n",
        "     }\n",
        "     )\n",
        "right = pd.DataFrame({'key':['foo', 'foo'], 'rval': [4, 5]})"
      ],
      "execution_count": 39,
      "outputs": []
    },
    {
      "cell_type": "code",
      "metadata": {
        "colab": {
          "base_uri": "https://localhost:8080/",
          "height": 111
        },
        "id": "VifALh_DehI1",
        "outputId": "2bab4cb6-a143-44b9-ed7d-a4441b540685"
      },
      "source": [
        "left"
      ],
      "execution_count": 40,
      "outputs": [
        {
          "output_type": "execute_result",
          "data": {
            "text/html": [
              "<div>\n",
              "<style scoped>\n",
              "    .dataframe tbody tr th:only-of-type {\n",
              "        vertical-align: middle;\n",
              "    }\n",
              "\n",
              "    .dataframe tbody tr th {\n",
              "        vertical-align: top;\n",
              "    }\n",
              "\n",
              "    .dataframe thead th {\n",
              "        text-align: right;\n",
              "    }\n",
              "</style>\n",
              "<table border=\"1\" class=\"dataframe\">\n",
              "  <thead>\n",
              "    <tr style=\"text-align: right;\">\n",
              "      <th></th>\n",
              "      <th>key</th>\n",
              "      <th>lval</th>\n",
              "    </tr>\n",
              "  </thead>\n",
              "  <tbody>\n",
              "    <tr>\n",
              "      <th>0</th>\n",
              "      <td>foo</td>\n",
              "      <td>1</td>\n",
              "    </tr>\n",
              "    <tr>\n",
              "      <th>1</th>\n",
              "      <td>foo</td>\n",
              "      <td>2</td>\n",
              "    </tr>\n",
              "  </tbody>\n",
              "</table>\n",
              "</div>"
            ],
            "text/plain": [
              "   key  lval\n",
              "0  foo     1\n",
              "1  foo     2"
            ]
          },
          "metadata": {
            "tags": []
          },
          "execution_count": 40
        }
      ]
    },
    {
      "cell_type": "code",
      "metadata": {
        "colab": {
          "base_uri": "https://localhost:8080/",
          "height": 111
        },
        "id": "bQ9AahLUeiRU",
        "outputId": "87906330-7af8-4738-f106-2c09fbcb27bd"
      },
      "source": [
        "right"
      ],
      "execution_count": 41,
      "outputs": [
        {
          "output_type": "execute_result",
          "data": {
            "text/html": [
              "<div>\n",
              "<style scoped>\n",
              "    .dataframe tbody tr th:only-of-type {\n",
              "        vertical-align: middle;\n",
              "    }\n",
              "\n",
              "    .dataframe tbody tr th {\n",
              "        vertical-align: top;\n",
              "    }\n",
              "\n",
              "    .dataframe thead th {\n",
              "        text-align: right;\n",
              "    }\n",
              "</style>\n",
              "<table border=\"1\" class=\"dataframe\">\n",
              "  <thead>\n",
              "    <tr style=\"text-align: right;\">\n",
              "      <th></th>\n",
              "      <th>key</th>\n",
              "      <th>rval</th>\n",
              "    </tr>\n",
              "  </thead>\n",
              "  <tbody>\n",
              "    <tr>\n",
              "      <th>0</th>\n",
              "      <td>foo</td>\n",
              "      <td>4</td>\n",
              "    </tr>\n",
              "    <tr>\n",
              "      <th>1</th>\n",
              "      <td>foo</td>\n",
              "      <td>5</td>\n",
              "    </tr>\n",
              "  </tbody>\n",
              "</table>\n",
              "</div>"
            ],
            "text/plain": [
              "   key  rval\n",
              "0  foo     4\n",
              "1  foo     5"
            ]
          },
          "metadata": {
            "tags": []
          },
          "execution_count": 41
        }
      ]
    },
    {
      "cell_type": "code",
      "metadata": {
        "colab": {
          "base_uri": "https://localhost:8080/",
          "height": 173
        },
        "id": "10KIwTHqennE",
        "outputId": "14c3e106-e6b1-4a4f-a464-8378a7bf8248"
      },
      "source": [
        "pd_merge = pd.merge(left, right, on = 'key')\n",
        "pd_merge"
      ],
      "execution_count": 44,
      "outputs": [
        {
          "output_type": "execute_result",
          "data": {
            "text/html": [
              "<div>\n",
              "<style scoped>\n",
              "    .dataframe tbody tr th:only-of-type {\n",
              "        vertical-align: middle;\n",
              "    }\n",
              "\n",
              "    .dataframe tbody tr th {\n",
              "        vertical-align: top;\n",
              "    }\n",
              "\n",
              "    .dataframe thead th {\n",
              "        text-align: right;\n",
              "    }\n",
              "</style>\n",
              "<table border=\"1\" class=\"dataframe\">\n",
              "  <thead>\n",
              "    <tr style=\"text-align: right;\">\n",
              "      <th></th>\n",
              "      <th>key</th>\n",
              "      <th>lval</th>\n",
              "      <th>rval</th>\n",
              "    </tr>\n",
              "  </thead>\n",
              "  <tbody>\n",
              "    <tr>\n",
              "      <th>0</th>\n",
              "      <td>foo</td>\n",
              "      <td>1</td>\n",
              "      <td>4</td>\n",
              "    </tr>\n",
              "    <tr>\n",
              "      <th>1</th>\n",
              "      <td>foo</td>\n",
              "      <td>1</td>\n",
              "      <td>5</td>\n",
              "    </tr>\n",
              "    <tr>\n",
              "      <th>2</th>\n",
              "      <td>foo</td>\n",
              "      <td>2</td>\n",
              "      <td>4</td>\n",
              "    </tr>\n",
              "    <tr>\n",
              "      <th>3</th>\n",
              "      <td>foo</td>\n",
              "      <td>2</td>\n",
              "      <td>5</td>\n",
              "    </tr>\n",
              "  </tbody>\n",
              "</table>\n",
              "</div>"
            ],
            "text/plain": [
              "   key  lval  rval\n",
              "0  foo     1     4\n",
              "1  foo     1     5\n",
              "2  foo     2     4\n",
              "3  foo     2     5"
            ]
          },
          "metadata": {
            "tags": []
          },
          "execution_count": 44
        }
      ]
    },
    {
      "cell_type": "code",
      "metadata": {
        "colab": {
          "base_uri": "https://localhost:8080/",
          "height": 297
        },
        "id": "B-1DFGgee240",
        "outputId": "bcda6892-ba74-4913-89e8-d1f37b4cec54"
      },
      "source": [
        "df = pd.DataFrame(np.random.randn(8, 4), columns=['A', 'B', 'C', 'D'])\n",
        "df"
      ],
      "execution_count": 46,
      "outputs": [
        {
          "output_type": "execute_result",
          "data": {
            "text/html": [
              "<div>\n",
              "<style scoped>\n",
              "    .dataframe tbody tr th:only-of-type {\n",
              "        vertical-align: middle;\n",
              "    }\n",
              "\n",
              "    .dataframe tbody tr th {\n",
              "        vertical-align: top;\n",
              "    }\n",
              "\n",
              "    .dataframe thead th {\n",
              "        text-align: right;\n",
              "    }\n",
              "</style>\n",
              "<table border=\"1\" class=\"dataframe\">\n",
              "  <thead>\n",
              "    <tr style=\"text-align: right;\">\n",
              "      <th></th>\n",
              "      <th>A</th>\n",
              "      <th>B</th>\n",
              "      <th>C</th>\n",
              "      <th>D</th>\n",
              "    </tr>\n",
              "  </thead>\n",
              "  <tbody>\n",
              "    <tr>\n",
              "      <th>0</th>\n",
              "      <td>-0.763027</td>\n",
              "      <td>-1.387222</td>\n",
              "      <td>0.464190</td>\n",
              "      <td>0.949172</td>\n",
              "    </tr>\n",
              "    <tr>\n",
              "      <th>1</th>\n",
              "      <td>1.053995</td>\n",
              "      <td>0.297756</td>\n",
              "      <td>-0.428625</td>\n",
              "      <td>-1.225889</td>\n",
              "    </tr>\n",
              "    <tr>\n",
              "      <th>2</th>\n",
              "      <td>-0.809742</td>\n",
              "      <td>0.645223</td>\n",
              "      <td>0.437304</td>\n",
              "      <td>-0.176268</td>\n",
              "    </tr>\n",
              "    <tr>\n",
              "      <th>3</th>\n",
              "      <td>-1.241027</td>\n",
              "      <td>-1.466336</td>\n",
              "      <td>0.949337</td>\n",
              "      <td>-0.208934</td>\n",
              "    </tr>\n",
              "    <tr>\n",
              "      <th>4</th>\n",
              "      <td>-0.071700</td>\n",
              "      <td>-1.258521</td>\n",
              "      <td>-0.594698</td>\n",
              "      <td>-0.242582</td>\n",
              "    </tr>\n",
              "    <tr>\n",
              "      <th>5</th>\n",
              "      <td>0.909312</td>\n",
              "      <td>0.089511</td>\n",
              "      <td>0.024092</td>\n",
              "      <td>-1.797269</td>\n",
              "    </tr>\n",
              "    <tr>\n",
              "      <th>6</th>\n",
              "      <td>-1.463431</td>\n",
              "      <td>1.000970</td>\n",
              "      <td>2.099295</td>\n",
              "      <td>1.362973</td>\n",
              "    </tr>\n",
              "    <tr>\n",
              "      <th>7</th>\n",
              "      <td>-0.785642</td>\n",
              "      <td>1.195634</td>\n",
              "      <td>0.088269</td>\n",
              "      <td>-0.145726</td>\n",
              "    </tr>\n",
              "  </tbody>\n",
              "</table>\n",
              "</div>"
            ],
            "text/plain": [
              "          A         B         C         D\n",
              "0 -0.763027 -1.387222  0.464190  0.949172\n",
              "1  1.053995  0.297756 -0.428625 -1.225889\n",
              "2 -0.809742  0.645223  0.437304 -0.176268\n",
              "3 -1.241027 -1.466336  0.949337 -0.208934\n",
              "4 -0.071700 -1.258521 -0.594698 -0.242582\n",
              "5  0.909312  0.089511  0.024092 -1.797269\n",
              "6 -1.463431  1.000970  2.099295  1.362973\n",
              "7 -0.785642  1.195634  0.088269 -0.145726"
            ]
          },
          "metadata": {
            "tags": []
          },
          "execution_count": 46
        }
      ]
    },
    {
      "cell_type": "code",
      "metadata": {
        "colab": {
          "base_uri": "https://localhost:8080/"
        },
        "id": "NlOILj2afIch",
        "outputId": "fcc2d5d2-bfd9-49e7-9593-21147dbd4669"
      },
      "source": [
        "s = df.iloc[3]\n",
        "s"
      ],
      "execution_count": 47,
      "outputs": [
        {
          "output_type": "execute_result",
          "data": {
            "text/plain": [
              "A   -1.241027\n",
              "B   -1.466336\n",
              "C    0.949337\n",
              "D   -0.208934\n",
              "Name: 3, dtype: float64"
            ]
          },
          "metadata": {
            "tags": []
          },
          "execution_count": 47
        }
      ]
    },
    {
      "cell_type": "code",
      "metadata": {
        "colab": {
          "base_uri": "https://localhost:8080/",
          "height": 328
        },
        "id": "GUuU-YMTfLlR",
        "outputId": "97d6b65a-c5e6-4dc3-85fd-e0d35622c096"
      },
      "source": [
        "df.append(s, ignore_index=True)"
      ],
      "execution_count": 48,
      "outputs": [
        {
          "output_type": "execute_result",
          "data": {
            "text/html": [
              "<div>\n",
              "<style scoped>\n",
              "    .dataframe tbody tr th:only-of-type {\n",
              "        vertical-align: middle;\n",
              "    }\n",
              "\n",
              "    .dataframe tbody tr th {\n",
              "        vertical-align: top;\n",
              "    }\n",
              "\n",
              "    .dataframe thead th {\n",
              "        text-align: right;\n",
              "    }\n",
              "</style>\n",
              "<table border=\"1\" class=\"dataframe\">\n",
              "  <thead>\n",
              "    <tr style=\"text-align: right;\">\n",
              "      <th></th>\n",
              "      <th>A</th>\n",
              "      <th>B</th>\n",
              "      <th>C</th>\n",
              "      <th>D</th>\n",
              "    </tr>\n",
              "  </thead>\n",
              "  <tbody>\n",
              "    <tr>\n",
              "      <th>0</th>\n",
              "      <td>-0.763027</td>\n",
              "      <td>-1.387222</td>\n",
              "      <td>0.464190</td>\n",
              "      <td>0.949172</td>\n",
              "    </tr>\n",
              "    <tr>\n",
              "      <th>1</th>\n",
              "      <td>1.053995</td>\n",
              "      <td>0.297756</td>\n",
              "      <td>-0.428625</td>\n",
              "      <td>-1.225889</td>\n",
              "    </tr>\n",
              "    <tr>\n",
              "      <th>2</th>\n",
              "      <td>-0.809742</td>\n",
              "      <td>0.645223</td>\n",
              "      <td>0.437304</td>\n",
              "      <td>-0.176268</td>\n",
              "    </tr>\n",
              "    <tr>\n",
              "      <th>3</th>\n",
              "      <td>-1.241027</td>\n",
              "      <td>-1.466336</td>\n",
              "      <td>0.949337</td>\n",
              "      <td>-0.208934</td>\n",
              "    </tr>\n",
              "    <tr>\n",
              "      <th>4</th>\n",
              "      <td>-0.071700</td>\n",
              "      <td>-1.258521</td>\n",
              "      <td>-0.594698</td>\n",
              "      <td>-0.242582</td>\n",
              "    </tr>\n",
              "    <tr>\n",
              "      <th>5</th>\n",
              "      <td>0.909312</td>\n",
              "      <td>0.089511</td>\n",
              "      <td>0.024092</td>\n",
              "      <td>-1.797269</td>\n",
              "    </tr>\n",
              "    <tr>\n",
              "      <th>6</th>\n",
              "      <td>-1.463431</td>\n",
              "      <td>1.000970</td>\n",
              "      <td>2.099295</td>\n",
              "      <td>1.362973</td>\n",
              "    </tr>\n",
              "    <tr>\n",
              "      <th>7</th>\n",
              "      <td>-0.785642</td>\n",
              "      <td>1.195634</td>\n",
              "      <td>0.088269</td>\n",
              "      <td>-0.145726</td>\n",
              "    </tr>\n",
              "    <tr>\n",
              "      <th>8</th>\n",
              "      <td>-1.241027</td>\n",
              "      <td>-1.466336</td>\n",
              "      <td>0.949337</td>\n",
              "      <td>-0.208934</td>\n",
              "    </tr>\n",
              "  </tbody>\n",
              "</table>\n",
              "</div>"
            ],
            "text/plain": [
              "          A         B         C         D\n",
              "0 -0.763027 -1.387222  0.464190  0.949172\n",
              "1  1.053995  0.297756 -0.428625 -1.225889\n",
              "2 -0.809742  0.645223  0.437304 -0.176268\n",
              "3 -1.241027 -1.466336  0.949337 -0.208934\n",
              "4 -0.071700 -1.258521 -0.594698 -0.242582\n",
              "5  0.909312  0.089511  0.024092 -1.797269\n",
              "6 -1.463431  1.000970  2.099295  1.362973\n",
              "7 -0.785642  1.195634  0.088269 -0.145726\n",
              "8 -1.241027 -1.466336  0.949337 -0.208934"
            ]
          },
          "metadata": {
            "tags": []
          },
          "execution_count": 48
        }
      ]
    },
    {
      "cell_type": "code",
      "metadata": {
        "id": "3B-3e07YfT1g"
      },
      "source": [
        ""
      ],
      "execution_count": null,
      "outputs": []
    }
  ]
}