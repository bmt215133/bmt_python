{
  "nbformat": 4,
  "nbformat_minor": 0,
  "metadata": {
    "colab": {
      "name": "21513 4주차수업.ipynb",
      "provenance": [],
      "collapsed_sections": [],
      "authorship_tag": "ABX9TyM/P5Ub7vn6BjYKRfcLSxrJ",
      "include_colab_link": true
    },
    "kernelspec": {
      "name": "python3",
      "display_name": "Python 3"
    },
    "language_info": {
      "name": "python"
    }
  },
  "cells": [
    {
      "cell_type": "markdown",
      "metadata": {
        "id": "view-in-github",
        "colab_type": "text"
      },
      "source": [
        "<a href=\"https://colab.research.google.com/github/bmt215133/bmt_python/blob/main/21513_4%EC%A3%BC%EC%B0%A8%EC%88%98%EC%97%85.ipynb\" target=\"_parent\"><img src=\"https://colab.research.google.com/assets/colab-badge.svg\" alt=\"Open In Colab\"/></a>"
      ]
    },
    {
      "cell_type": "code",
      "metadata": {
        "colab": {
          "base_uri": "https://localhost:8080/"
        },
        "id": "r1plMOQFys24",
        "outputId": "0ad11649-e03d-42f7-8bf8-d4025e29a2f8"
      },
      "source": [
        "#심리 게임\n",
        "\n",
        "#string. int. float.char\n",
        "\n",
        "print('[심리테스트]')\n",
        "\n",
        "menu = input('당신이 좋아하는 과일 입력 :')\n",
        "\n",
        "if menu == '사과' :\n",
        "  print('당신은 사과를 좋아하네요.')\n",
        "elif menu == '수박' :\n",
        "  print('당신은 여름 사나이 군요.')\n",
        "else :\n",
        "  print('좋아하는 과일을 입력하세요.')"
      ],
      "execution_count": null,
      "outputs": [
        {
          "output_type": "stream",
          "text": [
            "[심리테스트]\n",
            "당신이 좋아하는 과일 입력 :수박\n",
            "당신은 여름 사나이 군요.\n"
          ],
          "name": "stdout"
        }
      ]
    },
    {
      "cell_type": "code",
      "metadata": {
        "colab": {
          "base_uri": "https://localhost:8080/",
          "height": 35
        },
        "id": "hjynxSLZ2GLC",
        "outputId": "84406811-ede0-48c7-8bc0-82f9b7b371a3"
      },
      "source": [
        "menu"
      ],
      "execution_count": null,
      "outputs": [
        {
          "output_type": "execute_result",
          "data": {
            "application/vnd.google.colaboratory.intrinsic+json": {
              "type": "string"
            },
            "text/plain": [
              "'사과'"
            ]
          },
          "metadata": {
            "tags": []
          },
          "execution_count": 2
        }
      ]
    },
    {
      "cell_type": "code",
      "metadata": {
        "colab": {
          "base_uri": "https://localhost:8080/"
        },
        "id": "UtJiaw2z2QKr",
        "outputId": "b7e9a4c7-65ee-4aed-81d6-6697c034056a"
      },
      "source": [
        "names = ['정밀', '폴리', '산설', '메카', '로봇', '전기']\n",
        "\n",
        "for i in [0, 1, 2, 3, 4, 5]:\n",
        "  print(names[i], end=' ')\n",
        "\n",
        "print()\n",
        "\n",
        "for i in range(6):\n",
        "  print(names[i], end=' ')\n",
        "\n"
      ],
      "execution_count": null,
      "outputs": [
        {
          "output_type": "stream",
          "text": [
            "정밀 폴리 산설 메카 로봇 전기 \n",
            "정밀 폴리 산설 메카 로봇 전기 "
          ],
          "name": "stdout"
        }
      ]
    },
    {
      "cell_type": "code",
      "metadata": {
        "colab": {
          "base_uri": "https://localhost:8080/"
        },
        "id": "9vQbCzpX4k6Q",
        "outputId": "a325fdb5-a7b9-4449-8c6e-fd4743eb6279"
      },
      "source": [
        "for i in range(6):\n",
        "  print(names[i], end=' ')"
      ],
      "execution_count": null,
      "outputs": [
        {
          "output_type": "stream",
          "text": [
            "정밀 폴리 산설 메카 로봇 전기 "
          ],
          "name": "stdout"
        }
      ]
    },
    {
      "cell_type": "code",
      "metadata": {
        "colab": {
          "base_uri": "https://localhost:8080/",
          "height": 35
        },
        "id": "Q0ZVOLDF5iXv",
        "outputId": "24719ed6-992e-4b01-80bd-719bf36c33af"
      },
      "source": [
        "names[-1]"
      ],
      "execution_count": null,
      "outputs": [
        {
          "output_type": "execute_result",
          "data": {
            "application/vnd.google.colaboratory.intrinsic+json": {
              "type": "string"
            },
            "text/plain": [
              "'전기'"
            ]
          },
          "metadata": {
            "tags": []
          },
          "execution_count": 26
        }
      ]
    },
    {
      "cell_type": "code",
      "metadata": {
        "colab": {
          "base_uri": "https://localhost:8080/"
        },
        "id": "0kGenOJA5r4J",
        "outputId": "0e8c1f10-6d10-4fb4-a4e1-b2124d8ef78f"
      },
      "source": [
        "names"
      ],
      "execution_count": null,
      "outputs": [
        {
          "output_type": "execute_result",
          "data": {
            "text/plain": [
              "['정밀', '폴리', '산설', '메카', '로봇', '전기']"
            ]
          },
          "metadata": {
            "tags": []
          },
          "execution_count": 27
        }
      ]
    },
    {
      "cell_type": "code",
      "metadata": {
        "colab": {
          "base_uri": "https://localhost:8080/"
        },
        "id": "RZnhWizK59z5",
        "outputId": "b492f3a9-4cf6-4b51-d7f6-60dbc9d04ae6"
      },
      "source": [
        "names[1:]"
      ],
      "execution_count": null,
      "outputs": [
        {
          "output_type": "execute_result",
          "data": {
            "text/plain": [
              "['폴리', '산설', '메카', '로봇', '전기']"
            ]
          },
          "metadata": {
            "tags": []
          },
          "execution_count": 29
        }
      ]
    },
    {
      "cell_type": "code",
      "metadata": {
        "id": "-wj0XOss6Dbp"
      },
      "source": [
        "names.append('부기공')"
      ],
      "execution_count": null,
      "outputs": []
    },
    {
      "cell_type": "code",
      "metadata": {
        "colab": {
          "base_uri": "https://localhost:8080/"
        },
        "id": "jGKBOqPs6fwp",
        "outputId": "c0c3d6c4-aeb2-4bea-825c-b58f18bb12c2"
      },
      "source": [
        "names "
      ],
      "execution_count": null,
      "outputs": [
        {
          "output_type": "execute_result",
          "data": {
            "text/plain": [
              "['정밀', '폴리', '산설', '메카', '로봇', '전기', '부기공']"
            ]
          },
          "metadata": {
            "tags": []
          },
          "execution_count": 31
        }
      ]
    },
    {
      "cell_type": "code",
      "metadata": {
        "colab": {
          "base_uri": "https://localhost:8080/"
        },
        "id": "A-2FDOQU6iI5",
        "outputId": "a2ac49cd-34af-42a1-9e59-06f24c05a9f0"
      },
      "source": [
        "len(names)"
      ],
      "execution_count": null,
      "outputs": [
        {
          "output_type": "execute_result",
          "data": {
            "text/plain": [
              "7"
            ]
          },
          "metadata": {
            "tags": []
          },
          "execution_count": 34
        }
      ]
    },
    {
      "cell_type": "code",
      "metadata": {
        "colab": {
          "base_uri": "https://localhost:8080/"
        },
        "id": "G_vTJDrB7HLI",
        "outputId": "8990c280-b573-4fea-f5ae-cffd262f1636"
      },
      "source": [
        "names.count('부기공')"
      ],
      "execution_count": null,
      "outputs": [
        {
          "output_type": "execute_result",
          "data": {
            "text/plain": [
              "1"
            ]
          },
          "metadata": {
            "tags": []
          },
          "execution_count": 35
        }
      ]
    },
    {
      "cell_type": "code",
      "metadata": {
        "colab": {
          "base_uri": "https://localhost:8080/"
        },
        "id": "y8YVmQyJ7N44",
        "outputId": "4cddcd3e-45ef-4a33-b3b1-385d0ed2538b"
      },
      "source": [
        "names"
      ],
      "execution_count": null,
      "outputs": [
        {
          "output_type": "execute_result",
          "data": {
            "text/plain": [
              "['정밀', '폴리', '산설', '메카', '로봇', '전기', '부기공']"
            ]
          },
          "metadata": {
            "tags": []
          },
          "execution_count": 36
        }
      ]
    },
    {
      "cell_type": "code",
      "metadata": {
        "id": "VsAEaU5K7TSY"
      },
      "source": [
        "names.append('부산기계공')\n",
        "\n"
      ],
      "execution_count": null,
      "outputs": []
    },
    {
      "cell_type": "code",
      "metadata": {
        "colab": {
          "base_uri": "https://localhost:8080/"
        },
        "id": "zXoQZxfI7pTo",
        "outputId": "d74b0e39-a304-46ef-a151-fd456e0c5f7d"
      },
      "source": [
        "for name in names:\n",
        "  if len(name) > 4:\n",
        "    print(f'{name}업고등학교')"
      ],
      "execution_count": null,
      "outputs": [
        {
          "output_type": "stream",
          "text": [
            "부산기계공업고등학교\n"
          ],
          "name": "stdout"
        }
      ]
    },
    {
      "cell_type": "code",
      "metadata": {
        "colab": {
          "base_uri": "https://localhost:8080/"
        },
        "id": "SyPEGFvE-2Tf",
        "outputId": "7817fd23-3583-45a6-d06d-f91975906ad8"
      },
      "source": [
        "print('Heool World\\n')\n",
        "print('Busan')"
      ],
      "execution_count": null,
      "outputs": [
        {
          "output_type": "stream",
          "text": [
            "Heool World\n",
            "\n",
            "Busan\n"
          ],
          "name": "stdout"
        }
      ]
    },
    {
      "cell_type": "code",
      "metadata": {
        "colab": {
          "base_uri": "https://localhost:8080/"
        },
        "id": "F2tpQvVW--1Y",
        "outputId": "cd230061-0c3c-4c23-c5fe-2d422a7a6f42"
      },
      "source": [
        "# print() 함수 속에 있는 속성 : end 매게변수\n",
        "print('world')"
      ],
      "execution_count": null,
      "outputs": [
        {
          "output_type": "stream",
          "text": [
            "world\n"
          ],
          "name": "stdout"
        }
      ]
    },
    {
      "cell_type": "code",
      "metadata": {
        "colab": {
          "base_uri": "https://localhost:8080/"
        },
        "id": "LlhhtUh7_ZL4",
        "outputId": "f0d1a0e7-824a-43fe-8525-4be99ab18fba"
      },
      "source": [
        "print('hello',  'world')\n",
        "print('hello'+ 'world')"
      ],
      "execution_count": null,
      "outputs": [
        {
          "output_type": "stream",
          "text": [
            "hello world\n",
            "helloworld\n"
          ],
          "name": "stdout"
        }
      ]
    },
    {
      "cell_type": "code",
      "metadata": {
        "colab": {
          "base_uri": "https://localhost:8080/"
        },
        "id": "JSFIa5pEAOn3",
        "outputId": "0d790607-a289-410c-f13d-3a83bb0ccd3c"
      },
      "source": [
        "print('hello\\\"')"
      ],
      "execution_count": null,
      "outputs": [
        {
          "output_type": "stream",
          "text": [
            "hello\"\n"
          ],
          "name": "stdout"
        }
      ]
    },
    {
      "cell_type": "code",
      "metadata": {
        "colab": {
          "base_uri": "https://localhost:8080/"
        },
        "id": "vjbQ7_IkAkYI",
        "outputId": "a55ddc7d-e340-42af-f99b-80bb5f1d71cb"
      },
      "source": [
        "print('hello\\\"')\n",
        "print('hello\\\"')\n",
        "print('hello\\tWorld\"')"
      ],
      "execution_count": null,
      "outputs": [
        {
          "output_type": "stream",
          "text": [
            "hello\"\n",
            "hello\"\n",
            "hello\tWorld\"\n"
          ],
          "name": "stdout"
        }
      ]
    },
    {
      "cell_type": "code",
      "metadata": {
        "colab": {
          "base_uri": "https://localhost:8080/"
        },
        "id": "LVy2JAwMBN3e",
        "outputId": "e19957b5-cd4b-41ac-8029-ed7d9b505ac9"
      },
      "source": [
        "x = input()"
      ],
      "execution_count": null,
      "outputs": [
        {
          "output_type": "stream",
          "text": [
            "안녕하세요\n"
          ],
          "name": "stdout"
        }
      ]
    },
    {
      "cell_type": "code",
      "metadata": {
        "colab": {
          "base_uri": "https://localhost:8080/",
          "height": 35
        },
        "id": "W3QfECVhBQuH",
        "outputId": "2eb8ce0f-0b82-41a1-c8cc-dd8169799a8b"
      },
      "source": [
        "x"
      ],
      "execution_count": null,
      "outputs": [
        {
          "output_type": "execute_result",
          "data": {
            "application/vnd.google.colaboratory.intrinsic+json": {
              "type": "string"
            },
            "text/plain": [
              "'안녕하세요'"
            ]
          },
          "metadata": {
            "tags": []
          },
          "execution_count": 61
        }
      ]
    },
    {
      "cell_type": "code",
      "metadata": {
        "colab": {
          "base_uri": "https://localhost:8080/"
        },
        "id": "Fe6-H6UHBT-n",
        "outputId": "3793f650-7b0b-462b-deeb-663ff2ce6084"
      },
      "source": [
        "x = input('x 입력 :')\n",
        "y = input('y 입력 :')"
      ],
      "execution_count": null,
      "outputs": [
        {
          "output_type": "stream",
          "text": [
            "x 입력 :10\n",
            "y 입력 :20\n"
          ],
          "name": "stdout"
        }
      ]
    },
    {
      "cell_type": "code",
      "metadata": {
        "colab": {
          "base_uri": "https://localhost:8080/"
        },
        "id": "bsilBelWBeU3",
        "outputId": "76eed290-cd02-49ec-c32a-c2a5fa5c9308"
      },
      "source": [
        "print(f'{x} + {y} = {x+y}')"
      ],
      "execution_count": null,
      "outputs": [
        {
          "output_type": "stream",
          "text": [
            "10 + 20 = 1020\n"
          ],
          "name": "stdout"
        }
      ]
    },
    {
      "cell_type": "code",
      "metadata": {
        "id": "a_jeoB5aB8MN"
      },
      "source": [
        "x = int(x)"
      ],
      "execution_count": null,
      "outputs": []
    },
    {
      "cell_type": "code",
      "metadata": {
        "id": "jKS3-bXhB-gd"
      },
      "source": [
        "y = int(y)"
      ],
      "execution_count": null,
      "outputs": []
    },
    {
      "cell_type": "code",
      "metadata": {
        "colab": {
          "base_uri": "https://localhost:8080/"
        },
        "id": "U2VaC5O3CAtX",
        "outputId": "64733f07-4b55-4f34-dc80-70fcfd510f83"
      },
      "source": [
        "print(f'{x} + {y} = {x+y}')"
      ],
      "execution_count": null,
      "outputs": [
        {
          "output_type": "stream",
          "text": [
            "10 + 20 = 30\n"
          ],
          "name": "stdout"
        }
      ]
    },
    {
      "cell_type": "code",
      "metadata": {
        "colab": {
          "base_uri": "https://localhost:8080/"
        },
        "id": "zeQ0nHEkCNaX",
        "outputId": "451fbd07-13b0-4ec2-86b3-eaceb5359567"
      },
      "source": [
        "# 두 정수 입력 사칙 연산 프로그램\n",
        "\n",
        "#입력부\n",
        "x = int(input('첫번째 정수 입력 :'))\n",
        "y = int(input('첫번째 정수 입력 :'))"
      ],
      "execution_count": null,
      "outputs": [
        {
          "output_type": "stream",
          "text": [
            "첫번째 정수 입력 :10\n",
            "첫번째 정수 입력 :20\n"
          ],
          "name": "stdout"
        }
      ]
    },
    {
      "cell_type": "code",
      "metadata": {
        "colab": {
          "base_uri": "https://localhost:8080/"
        },
        "id": "78acAAaEC0s3",
        "outputId": "2c11e3f2-0f77-4f8d-f9bd-ae8423e7d3c0"
      },
      "source": [
        "#제어부\n",
        "print(x, '+',y,'=',(x+y))\n",
        "print(x, '-',y,'=',(x-y))\n",
        "print(x, '*',y,'=',(x*y))\n",
        "print(x, '/',y,'=',(x/y))"
      ],
      "execution_count": null,
      "outputs": [
        {
          "output_type": "stream",
          "text": [
            "10 + 20 = 30\n",
            "10 - 20 = -10\n",
            "10 * 20 = 200\n",
            "10 / 20 = 0.5\n"
          ],
          "name": "stdout"
        }
      ]
    },
    {
      "cell_type": "code",
      "metadata": {
        "colab": {
          "base_uri": "https://localhost:8080/"
        },
        "id": "jxXCpBjaDEVn",
        "outputId": "e428a4f5-22af-425b-e6f8-2974447e911f"
      },
      "source": [
        "print('*'+ '*' + '*'  )"
      ],
      "execution_count": null,
      "outputs": [
        {
          "output_type": "stream",
          "text": [
            "***\n"
          ],
          "name": "stdout"
        }
      ]
    },
    {
      "cell_type": "code",
      "metadata": {
        "colab": {
          "base_uri": "https://localhost:8080/"
        },
        "id": "I0Std-yaDYqn",
        "outputId": "8e6eca14-b506-42a3-b970-c3f1de7ea8bf"
      },
      "source": [
        "print('문자열' *50)\n",
        "print(f'{x} + {y} = {x+y}')"
      ],
      "execution_count": null,
      "outputs": [
        {
          "output_type": "stream",
          "text": [
            "문자열문자열문자열문자열문자열문자열문자열문자열문자열문자열문자열문자열문자열문자열문자열문자열문자열문자열문자열문자열문자열문자열문자열문자열문자열문자열문자열문자열문자열문자열문자열문자열문자열문자열문자열문자열문자열문자열문자열문자열문자열문자열문자열문자열문자열문자열문자열문자열문자열문자열\n",
            "10 + 20 = 30\n"
          ],
          "name": "stdout"
        }
      ]
    },
    {
      "cell_type": "code",
      "metadata": {
        "colab": {
          "base_uri": "https://localhost:8080/"
        },
        "id": "Kof0H0RGDeEW",
        "outputId": "4ad7066c-d22d-4b60-820c-d4f9403fc7c3"
      },
      "source": [
        "weight = float(input('weight(kg):'))\n",
        "height =float(input('height(cm):'))\n",
        "#제어부\n",
        "BMI_index = weight/ (height/100)**2\n",
        "#출력부\n",
        "print(f'BMI: {BMI_index:.2f} ')\n"
      ],
      "execution_count": null,
      "outputs": [
        {
          "output_type": "stream",
          "text": [
            "weight(kg):48\n",
            "height(cm):168\n",
            "BMI: 17.01 \n"
          ],
          "name": "stdout"
        }
      ]
    },
    {
      "cell_type": "code",
      "metadata": {
        "id": "XSgpXRxPFu07"
      },
      "source": [
        "x = 'hello python'"
      ],
      "execution_count": null,
      "outputs": []
    },
    {
      "cell_type": "code",
      "metadata": {
        "colab": {
          "base_uri": "https://localhost:8080/",
          "height": 35
        },
        "id": "Tj9rW66AIfu0",
        "outputId": "22aace74-c4cf-4b70-c96c-db052fa8834d"
      },
      "source": [
        "x"
      ],
      "execution_count": null,
      "outputs": [
        {
          "output_type": "execute_result",
          "data": {
            "application/vnd.google.colaboratory.intrinsic+json": {
              "type": "string"
            },
            "text/plain": [
              "'hello python'"
            ]
          },
          "metadata": {
            "tags": []
          },
          "execution_count": 82
        }
      ]
    },
    {
      "cell_type": "code",
      "metadata": {
        "colab": {
          "base_uri": "https://localhost:8080/"
        },
        "id": "Rg9qWvP5Igqk",
        "outputId": "23cc91f3-1ddc-4201-c9a2-70bcb70651bc"
      },
      "source": [
        "x.find('o')"
      ],
      "execution_count": null,
      "outputs": [
        {
          "output_type": "execute_result",
          "data": {
            "text/plain": [
              "4"
            ]
          },
          "metadata": {
            "tags": []
          },
          "execution_count": 83
        }
      ]
    },
    {
      "cell_type": "code",
      "metadata": {
        "id": "2_Y7ypcFIjH2"
      },
      "source": [
        "z = '-'.join(x)"
      ],
      "execution_count": null,
      "outputs": []
    },
    {
      "cell_type": "code",
      "metadata": {
        "colab": {
          "base_uri": "https://localhost:8080/",
          "height": 35
        },
        "id": "NHVJE2JlJETV",
        "outputId": "9a3bfd50-01ec-4443-ec25-2f5a2d3dedd8"
      },
      "source": [
        "z"
      ],
      "execution_count": null,
      "outputs": [
        {
          "output_type": "execute_result",
          "data": {
            "application/vnd.google.colaboratory.intrinsic+json": {
              "type": "string"
            },
            "text/plain": [
              "'h-e-l-l-o- -p-y-t-h-o-n'"
            ]
          },
          "metadata": {
            "tags": []
          },
          "execution_count": 88
        }
      ]
    },
    {
      "cell_type": "code",
      "metadata": {
        "colab": {
          "base_uri": "https://localhost:8080/",
          "height": 35
        },
        "id": "6vfkbO-UJX4V",
        "outputId": "afbbf314-22c4-498c-9862-3973e9b338c3"
      },
      "source": [
        "x.upper()"
      ],
      "execution_count": null,
      "outputs": [
        {
          "output_type": "execute_result",
          "data": {
            "application/vnd.google.colaboratory.intrinsic+json": {
              "type": "string"
            },
            "text/plain": [
              "'HELLO PYTHON'"
            ]
          },
          "metadata": {
            "tags": []
          },
          "execution_count": 89
        }
      ]
    },
    {
      "cell_type": "code",
      "metadata": {
        "colab": {
          "base_uri": "https://localhost:8080/",
          "height": 35
        },
        "id": "OG8RLpf5JaPF",
        "outputId": "f6ffdb32-5db9-414f-d5a1-9cf1fccf12d8"
      },
      "source": [
        "x.lower()"
      ],
      "execution_count": null,
      "outputs": [
        {
          "output_type": "execute_result",
          "data": {
            "application/vnd.google.colaboratory.intrinsic+json": {
              "type": "string"
            },
            "text/plain": [
              "'hello python'"
            ]
          },
          "metadata": {
            "tags": []
          },
          "execution_count": 90
        }
      ]
    },
    {
      "cell_type": "code",
      "metadata": {
        "colab": {
          "base_uri": "https://localhost:8080/",
          "height": 35
        },
        "id": "gn-lwYVYJcsF",
        "outputId": "f6a919cb-8286-4f71-fd90-f58a0ac5e326"
      },
      "source": [
        "x.replace('P','😊')"
      ],
      "execution_count": null,
      "outputs": [
        {
          "output_type": "execute_result",
          "data": {
            "application/vnd.google.colaboratory.intrinsic+json": {
              "type": "string"
            },
            "text/plain": [
              "'hello python'"
            ]
          },
          "metadata": {
            "tags": []
          },
          "execution_count": 92
        }
      ]
    },
    {
      "cell_type": "code",
      "metadata": {
        "colab": {
          "base_uri": "https://localhost:8080/",
          "height": 35
        },
        "id": "hrM1rHZkJnsl",
        "outputId": "fc3917c9-cf21-4e2d-e6ee-3c4cfeaec709"
      },
      "source": [
        "y = '-'. join(x)\n",
        "y"
      ],
      "execution_count": null,
      "outputs": [
        {
          "output_type": "execute_result",
          "data": {
            "application/vnd.google.colaboratory.intrinsic+json": {
              "type": "string"
            },
            "text/plain": [
              "'h-e-l-l-o- -p-y-t-h-o-n'"
            ]
          },
          "metadata": {
            "tags": []
          },
          "execution_count": 93
        }
      ]
    },
    {
      "cell_type": "code",
      "metadata": {
        "colab": {
          "base_uri": "https://localhost:8080/"
        },
        "id": "AZJKzeRsJxQl",
        "outputId": "685be1f8-b0da-42c7-d01a-639338bd3831"
      },
      "source": [
        "y.split('-')"
      ],
      "execution_count": null,
      "outputs": [
        {
          "output_type": "execute_result",
          "data": {
            "text/plain": [
              "['h', 'e', 'l', 'l', 'o', ' ', 'p', 'y', 't', 'h', 'o', 'n']"
            ]
          },
          "metadata": {
            "tags": []
          },
          "execution_count": 95
        }
      ]
    },
    {
      "cell_type": "code",
      "metadata": {
        "id": "P8AT1g8MJ1v1"
      },
      "source": [
        ""
      ],
      "execution_count": null,
      "outputs": []
    }
  ]
}