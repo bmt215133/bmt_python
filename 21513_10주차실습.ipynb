{
  "nbformat": 4,
  "nbformat_minor": 0,
  "metadata": {
    "colab": {
      "name": "21513_10주차실습.ipynb",
      "provenance": [],
      "collapsed_sections": [],
      "authorship_tag": "ABX9TyPOibvQdnwha/Uzd+6XcRzn",
      "include_colab_link": true
    },
    "kernelspec": {
      "name": "python3",
      "display_name": "Python 3"
    },
    "language_info": {
      "name": "python"
    }
  },
  "cells": [
    {
      "cell_type": "markdown",
      "metadata": {
        "id": "view-in-github",
        "colab_type": "text"
      },
      "source": [
        "<a href=\"https://colab.research.google.com/github/bmt215133/bmt_python/blob/main/21513_10%EC%A3%BC%EC%B0%A8%EC%8B%A4%EC%8A%B5.ipynb\" target=\"_parent\"><img src=\"https://colab.research.google.com/assets/colab-badge.svg\" alt=\"Open In Colab\"/></a>"
      ]
    },
    {
      "cell_type": "code",
      "metadata": {
        "id": "AbSXCIIoFrio"
      },
      "source": [
        "# 일반적으로 각 패키지는 별칭으로 pd, np, plt라는 이름으로 불림\n",
        "import pandas as pd # 이차원 표\n",
        "import numpy as np # 파이썬에서 사용하는 숫자\n",
        "import matplotlib.pyplot as plt # 그래프"
      ],
      "execution_count": 1,
      "outputs": []
    },
    {
      "cell_type": "code",
      "metadata": {
        "colab": {
          "base_uri": "https://localhost:8080/"
        },
        "id": "F8ARUaG5HevM",
        "outputId": "340d3158-71dd-4dfb-d633-1a4d48f99076"
      },
      "source": [
        "s = pd.Series([1, 3, 5, np.nan, 6, 8])\n",
        "a = [1, 3, 5, np.nan, 6, 8]\n",
        "s"
      ],
      "execution_count": 6,
      "outputs": [
        {
          "output_type": "execute_result",
          "data": {
            "text/plain": [
              "0    1.0\n",
              "1    3.0\n",
              "2    5.0\n",
              "3    NaN\n",
              "4    6.0\n",
              "5    8.0\n",
              "dtype: float64"
            ]
          },
          "metadata": {
            "tags": []
          },
          "execution_count": 6
        }
      ]
    },
    {
      "cell_type": "code",
      "metadata": {
        "colab": {
          "base_uri": "https://localhost:8080/"
        },
        "id": "JKv_eDVyIA-U",
        "outputId": "425955e7-1e19-4cd0-cf48-92fed0559c3a"
      },
      "source": [
        "type(s)"
      ],
      "execution_count": 7,
      "outputs": [
        {
          "output_type": "execute_result",
          "data": {
            "text/plain": [
              "pandas.core.series.Series"
            ]
          },
          "metadata": {
            "tags": []
          },
          "execution_count": 7
        }
      ]
    },
    {
      "cell_type": "code",
      "metadata": {
        "colab": {
          "base_uri": "https://localhost:8080/"
        },
        "id": "3U_6zTWXIsUE",
        "outputId": "2f72797a-b5a6-40dd-9a08-39ed84921fd4"
      },
      "source": [
        "type(a)"
      ],
      "execution_count": 8,
      "outputs": [
        {
          "output_type": "execute_result",
          "data": {
            "text/plain": [
              "list"
            ]
          },
          "metadata": {
            "tags": []
          },
          "execution_count": 8
        }
      ]
    },
    {
      "cell_type": "code",
      "metadata": {
        "colab": {
          "base_uri": "https://localhost:8080/"
        },
        "id": "YxkGwG4PIvJk",
        "outputId": "995e1ba8-6040-41a4-ec9a-3321c1783d0f"
      },
      "source": [
        "dates = pd.date_range('20210507', periods=6)\n",
        "dates"
      ],
      "execution_count": 9,
      "outputs": [
        {
          "output_type": "execute_result",
          "data": {
            "text/plain": [
              "DatetimeIndex(['2021-05-07', '2021-05-08', '2021-05-09', '2021-05-10',\n",
              "               '2021-05-11', '2021-05-12'],\n",
              "              dtype='datetime64[ns]', freq='D')"
            ]
          },
          "metadata": {
            "tags": []
          },
          "execution_count": 9
        }
      ]
    },
    {
      "cell_type": "code",
      "metadata": {
        "colab": {
          "base_uri": "https://localhost:8080/",
          "height": 228
        },
        "id": "5zo7Om-OJU7k",
        "outputId": "90c7770e-a315-491f-bcb4-20be423586e7"
      },
      "source": [
        "df = pd.DataFrame(np.random.randn(6,4))\n",
        "df"
      ],
      "execution_count": 10,
      "outputs": [
        {
          "output_type": "execute_result",
          "data": {
            "text/html": [
              "<div>\n",
              "<style scoped>\n",
              "    .dataframe tbody tr th:only-of-type {\n",
              "        vertical-align: middle;\n",
              "    }\n",
              "\n",
              "    .dataframe tbody tr th {\n",
              "        vertical-align: top;\n",
              "    }\n",
              "\n",
              "    .dataframe thead th {\n",
              "        text-align: right;\n",
              "    }\n",
              "</style>\n",
              "<table border=\"1\" class=\"dataframe\">\n",
              "  <thead>\n",
              "    <tr style=\"text-align: right;\">\n",
              "      <th></th>\n",
              "      <th>0</th>\n",
              "      <th>1</th>\n",
              "      <th>2</th>\n",
              "      <th>3</th>\n",
              "    </tr>\n",
              "  </thead>\n",
              "  <tbody>\n",
              "    <tr>\n",
              "      <th>0</th>\n",
              "      <td>0.263816</td>\n",
              "      <td>-1.894537</td>\n",
              "      <td>-0.063996</td>\n",
              "      <td>0.709612</td>\n",
              "    </tr>\n",
              "    <tr>\n",
              "      <th>1</th>\n",
              "      <td>0.348831</td>\n",
              "      <td>-0.374177</td>\n",
              "      <td>-0.817029</td>\n",
              "      <td>1.250170</td>\n",
              "    </tr>\n",
              "    <tr>\n",
              "      <th>2</th>\n",
              "      <td>0.835548</td>\n",
              "      <td>-1.270334</td>\n",
              "      <td>1.424526</td>\n",
              "      <td>1.171811</td>\n",
              "    </tr>\n",
              "    <tr>\n",
              "      <th>3</th>\n",
              "      <td>0.970761</td>\n",
              "      <td>0.513901</td>\n",
              "      <td>1.079201</td>\n",
              "      <td>-0.392843</td>\n",
              "    </tr>\n",
              "    <tr>\n",
              "      <th>4</th>\n",
              "      <td>0.053460</td>\n",
              "      <td>-0.101831</td>\n",
              "      <td>1.471877</td>\n",
              "      <td>-0.290140</td>\n",
              "    </tr>\n",
              "    <tr>\n",
              "      <th>5</th>\n",
              "      <td>2.222388</td>\n",
              "      <td>-0.946478</td>\n",
              "      <td>0.370982</td>\n",
              "      <td>-0.190594</td>\n",
              "    </tr>\n",
              "  </tbody>\n",
              "</table>\n",
              "</div>"
            ],
            "text/plain": [
              "          0         1         2         3\n",
              "0  0.263816 -1.894537 -0.063996  0.709612\n",
              "1  0.348831 -0.374177 -0.817029  1.250170\n",
              "2  0.835548 -1.270334  1.424526  1.171811\n",
              "3  0.970761  0.513901  1.079201 -0.392843\n",
              "4  0.053460 -0.101831  1.471877 -0.290140\n",
              "5  2.222388 -0.946478  0.370982 -0.190594"
            ]
          },
          "metadata": {
            "tags": []
          },
          "execution_count": 10
        }
      ]
    },
    {
      "cell_type": "code",
      "metadata": {
        "colab": {
          "base_uri": "https://localhost:8080/",
          "height": 228
        },
        "id": "Kza0NWOuJ2KU",
        "outputId": "00df671d-4f2e-4baf-fe01-7fce0b1c76a2"
      },
      "source": [
        "df = pd.DataFrame(np.random.randn(6,4), index=dates)\n",
        "df"
      ],
      "execution_count": 11,
      "outputs": [
        {
          "output_type": "execute_result",
          "data": {
            "text/html": [
              "<div>\n",
              "<style scoped>\n",
              "    .dataframe tbody tr th:only-of-type {\n",
              "        vertical-align: middle;\n",
              "    }\n",
              "\n",
              "    .dataframe tbody tr th {\n",
              "        vertical-align: top;\n",
              "    }\n",
              "\n",
              "    .dataframe thead th {\n",
              "        text-align: right;\n",
              "    }\n",
              "</style>\n",
              "<table border=\"1\" class=\"dataframe\">\n",
              "  <thead>\n",
              "    <tr style=\"text-align: right;\">\n",
              "      <th></th>\n",
              "      <th>0</th>\n",
              "      <th>1</th>\n",
              "      <th>2</th>\n",
              "      <th>3</th>\n",
              "    </tr>\n",
              "  </thead>\n",
              "  <tbody>\n",
              "    <tr>\n",
              "      <th>2021-05-07</th>\n",
              "      <td>0.605585</td>\n",
              "      <td>-0.371016</td>\n",
              "      <td>0.280339</td>\n",
              "      <td>1.068234</td>\n",
              "    </tr>\n",
              "    <tr>\n",
              "      <th>2021-05-08</th>\n",
              "      <td>-0.142034</td>\n",
              "      <td>0.458987</td>\n",
              "      <td>-0.053095</td>\n",
              "      <td>-0.531671</td>\n",
              "    </tr>\n",
              "    <tr>\n",
              "      <th>2021-05-09</th>\n",
              "      <td>0.438211</td>\n",
              "      <td>-0.429822</td>\n",
              "      <td>-0.814987</td>\n",
              "      <td>-1.239294</td>\n",
              "    </tr>\n",
              "    <tr>\n",
              "      <th>2021-05-10</th>\n",
              "      <td>-0.670679</td>\n",
              "      <td>-0.449227</td>\n",
              "      <td>-0.148123</td>\n",
              "      <td>-2.087106</td>\n",
              "    </tr>\n",
              "    <tr>\n",
              "      <th>2021-05-11</th>\n",
              "      <td>-0.474894</td>\n",
              "      <td>-1.127439</td>\n",
              "      <td>1.533348</td>\n",
              "      <td>0.587775</td>\n",
              "    </tr>\n",
              "    <tr>\n",
              "      <th>2021-05-12</th>\n",
              "      <td>-0.628217</td>\n",
              "      <td>1.024104</td>\n",
              "      <td>0.529672</td>\n",
              "      <td>-1.838619</td>\n",
              "    </tr>\n",
              "  </tbody>\n",
              "</table>\n",
              "</div>"
            ],
            "text/plain": [
              "                   0         1         2         3\n",
              "2021-05-07  0.605585 -0.371016  0.280339  1.068234\n",
              "2021-05-08 -0.142034  0.458987 -0.053095 -0.531671\n",
              "2021-05-09  0.438211 -0.429822 -0.814987 -1.239294\n",
              "2021-05-10 -0.670679 -0.449227 -0.148123 -2.087106\n",
              "2021-05-11 -0.474894 -1.127439  1.533348  0.587775\n",
              "2021-05-12 -0.628217  1.024104  0.529672 -1.838619"
            ]
          },
          "metadata": {
            "tags": []
          },
          "execution_count": 11
        }
      ]
    },
    {
      "cell_type": "code",
      "metadata": {
        "colab": {
          "base_uri": "https://localhost:8080/",
          "height": 228
        },
        "id": "929g2_QEKUET",
        "outputId": "4f485da1-28f6-4df5-aaa3-be8b564b78ac"
      },
      "source": [
        "df = pd.DataFrame(np.random.randn(6,4), index=dates, columns=['국어','영어','수학','물리'])\n",
        "df"
      ],
      "execution_count": 13,
      "outputs": [
        {
          "output_type": "execute_result",
          "data": {
            "text/html": [
              "<div>\n",
              "<style scoped>\n",
              "    .dataframe tbody tr th:only-of-type {\n",
              "        vertical-align: middle;\n",
              "    }\n",
              "\n",
              "    .dataframe tbody tr th {\n",
              "        vertical-align: top;\n",
              "    }\n",
              "\n",
              "    .dataframe thead th {\n",
              "        text-align: right;\n",
              "    }\n",
              "</style>\n",
              "<table border=\"1\" class=\"dataframe\">\n",
              "  <thead>\n",
              "    <tr style=\"text-align: right;\">\n",
              "      <th></th>\n",
              "      <th>국어</th>\n",
              "      <th>영어</th>\n",
              "      <th>수학</th>\n",
              "      <th>물리</th>\n",
              "    </tr>\n",
              "  </thead>\n",
              "  <tbody>\n",
              "    <tr>\n",
              "      <th>2021-05-07</th>\n",
              "      <td>-0.077955</td>\n",
              "      <td>-0.640337</td>\n",
              "      <td>-0.964798</td>\n",
              "      <td>2.085516</td>\n",
              "    </tr>\n",
              "    <tr>\n",
              "      <th>2021-05-08</th>\n",
              "      <td>0.615249</td>\n",
              "      <td>-0.869249</td>\n",
              "      <td>-1.433341</td>\n",
              "      <td>-1.195779</td>\n",
              "    </tr>\n",
              "    <tr>\n",
              "      <th>2021-05-09</th>\n",
              "      <td>0.721236</td>\n",
              "      <td>0.775191</td>\n",
              "      <td>-1.053696</td>\n",
              "      <td>0.822254</td>\n",
              "    </tr>\n",
              "    <tr>\n",
              "      <th>2021-05-10</th>\n",
              "      <td>-0.196678</td>\n",
              "      <td>0.358592</td>\n",
              "      <td>0.399434</td>\n",
              "      <td>0.440213</td>\n",
              "    </tr>\n",
              "    <tr>\n",
              "      <th>2021-05-11</th>\n",
              "      <td>0.587437</td>\n",
              "      <td>1.872545</td>\n",
              "      <td>-0.472305</td>\n",
              "      <td>-1.015642</td>\n",
              "    </tr>\n",
              "    <tr>\n",
              "      <th>2021-05-12</th>\n",
              "      <td>0.504016</td>\n",
              "      <td>-2.051746</td>\n",
              "      <td>0.123257</td>\n",
              "      <td>-0.648307</td>\n",
              "    </tr>\n",
              "  </tbody>\n",
              "</table>\n",
              "</div>"
            ],
            "text/plain": [
              "                  국어        영어        수학        물리\n",
              "2021-05-07 -0.077955 -0.640337 -0.964798  2.085516\n",
              "2021-05-08  0.615249 -0.869249 -1.433341 -1.195779\n",
              "2021-05-09  0.721236  0.775191 -1.053696  0.822254\n",
              "2021-05-10 -0.196678  0.358592  0.399434  0.440213\n",
              "2021-05-11  0.587437  1.872545 -0.472305 -1.015642\n",
              "2021-05-12  0.504016 -2.051746  0.123257 -0.648307"
            ]
          },
          "metadata": {
            "tags": []
          },
          "execution_count": 13
        }
      ]
    },
    {
      "cell_type": "code",
      "metadata": {
        "colab": {
          "base_uri": "https://localhost:8080/",
          "height": 228
        },
        "id": "1cVENu8AKjaU",
        "outputId": "1d8155ee-485f-46c9-90e6-50e99a07acf4"
      },
      "source": [
        "df = pd.DataFrame(np.random.randn(6,4), index=dates, columns=list('ABCD'))\n",
        "df"
      ],
      "execution_count": 16,
      "outputs": [
        {
          "output_type": "execute_result",
          "data": {
            "text/html": [
              "<div>\n",
              "<style scoped>\n",
              "    .dataframe tbody tr th:only-of-type {\n",
              "        vertical-align: middle;\n",
              "    }\n",
              "\n",
              "    .dataframe tbody tr th {\n",
              "        vertical-align: top;\n",
              "    }\n",
              "\n",
              "    .dataframe thead th {\n",
              "        text-align: right;\n",
              "    }\n",
              "</style>\n",
              "<table border=\"1\" class=\"dataframe\">\n",
              "  <thead>\n",
              "    <tr style=\"text-align: right;\">\n",
              "      <th></th>\n",
              "      <th>A</th>\n",
              "      <th>B</th>\n",
              "      <th>C</th>\n",
              "      <th>D</th>\n",
              "    </tr>\n",
              "  </thead>\n",
              "  <tbody>\n",
              "    <tr>\n",
              "      <th>2021-05-07</th>\n",
              "      <td>0.974905</td>\n",
              "      <td>-0.868710</td>\n",
              "      <td>0.278801</td>\n",
              "      <td>-0.380397</td>\n",
              "    </tr>\n",
              "    <tr>\n",
              "      <th>2021-05-08</th>\n",
              "      <td>-0.487593</td>\n",
              "      <td>-0.716951</td>\n",
              "      <td>1.104461</td>\n",
              "      <td>-0.231486</td>\n",
              "    </tr>\n",
              "    <tr>\n",
              "      <th>2021-05-09</th>\n",
              "      <td>0.503181</td>\n",
              "      <td>1.084105</td>\n",
              "      <td>-0.406289</td>\n",
              "      <td>-0.540765</td>\n",
              "    </tr>\n",
              "    <tr>\n",
              "      <th>2021-05-10</th>\n",
              "      <td>-0.677871</td>\n",
              "      <td>-1.219304</td>\n",
              "      <td>0.744622</td>\n",
              "      <td>-0.051277</td>\n",
              "    </tr>\n",
              "    <tr>\n",
              "      <th>2021-05-11</th>\n",
              "      <td>-0.059962</td>\n",
              "      <td>-0.609168</td>\n",
              "      <td>0.416889</td>\n",
              "      <td>0.243589</td>\n",
              "    </tr>\n",
              "    <tr>\n",
              "      <th>2021-05-12</th>\n",
              "      <td>1.175882</td>\n",
              "      <td>-0.652112</td>\n",
              "      <td>-0.784628</td>\n",
              "      <td>-0.113109</td>\n",
              "    </tr>\n",
              "  </tbody>\n",
              "</table>\n",
              "</div>"
            ],
            "text/plain": [
              "                   A         B         C         D\n",
              "2021-05-07  0.974905 -0.868710  0.278801 -0.380397\n",
              "2021-05-08 -0.487593 -0.716951  1.104461 -0.231486\n",
              "2021-05-09  0.503181  1.084105 -0.406289 -0.540765\n",
              "2021-05-10 -0.677871 -1.219304  0.744622 -0.051277\n",
              "2021-05-11 -0.059962 -0.609168  0.416889  0.243589\n",
              "2021-05-12  1.175882 -0.652112 -0.784628 -0.113109"
            ]
          },
          "metadata": {
            "tags": []
          },
          "execution_count": 16
        }
      ]
    },
    {
      "cell_type": "code",
      "metadata": {
        "colab": {
          "base_uri": "https://localhost:8080/",
          "height": 168
        },
        "id": "1pO74rZ-LHSD",
        "outputId": "72909c70-9cde-498d-eb53-9d314d96d84f"
      },
      "source": [
        "df2 = pd.DataFrame(\n",
        "    {\n",
        "        'A': 1.,\n",
        "        'B': pd.Timestamp('20210507'),\n",
        "        'C': pd.Series(1, index=list(range(4)),dtype ='float32'),\n",
        "        'D': np.array([3]*4, dtype='int32'),\n",
        "        'E': pd.Categorical(['test','train','test','train']),\n",
        "        'F': 'foo'\n",
        "    }\n",
        ")\n",
        "df2"
      ],
      "execution_count": 19,
      "outputs": [
        {
          "output_type": "execute_result",
          "data": {
            "text/html": [
              "<div>\n",
              "<style scoped>\n",
              "    .dataframe tbody tr th:only-of-type {\n",
              "        vertical-align: middle;\n",
              "    }\n",
              "\n",
              "    .dataframe tbody tr th {\n",
              "        vertical-align: top;\n",
              "    }\n",
              "\n",
              "    .dataframe thead th {\n",
              "        text-align: right;\n",
              "    }\n",
              "</style>\n",
              "<table border=\"1\" class=\"dataframe\">\n",
              "  <thead>\n",
              "    <tr style=\"text-align: right;\">\n",
              "      <th></th>\n",
              "      <th>A</th>\n",
              "      <th>B</th>\n",
              "      <th>C</th>\n",
              "      <th>D</th>\n",
              "      <th>E</th>\n",
              "      <th>F</th>\n",
              "    </tr>\n",
              "  </thead>\n",
              "  <tbody>\n",
              "    <tr>\n",
              "      <th>0</th>\n",
              "      <td>1.0</td>\n",
              "      <td>2021-05-07</td>\n",
              "      <td>1.0</td>\n",
              "      <td>3</td>\n",
              "      <td>test</td>\n",
              "      <td>foo</td>\n",
              "    </tr>\n",
              "    <tr>\n",
              "      <th>1</th>\n",
              "      <td>1.0</td>\n",
              "      <td>2021-05-07</td>\n",
              "      <td>1.0</td>\n",
              "      <td>3</td>\n",
              "      <td>train</td>\n",
              "      <td>foo</td>\n",
              "    </tr>\n",
              "    <tr>\n",
              "      <th>2</th>\n",
              "      <td>1.0</td>\n",
              "      <td>2021-05-07</td>\n",
              "      <td>1.0</td>\n",
              "      <td>3</td>\n",
              "      <td>test</td>\n",
              "      <td>foo</td>\n",
              "    </tr>\n",
              "    <tr>\n",
              "      <th>3</th>\n",
              "      <td>1.0</td>\n",
              "      <td>2021-05-07</td>\n",
              "      <td>1.0</td>\n",
              "      <td>3</td>\n",
              "      <td>train</td>\n",
              "      <td>foo</td>\n",
              "    </tr>\n",
              "  </tbody>\n",
              "</table>\n",
              "</div>"
            ],
            "text/plain": [
              "     A          B    C  D      E    F\n",
              "0  1.0 2021-05-07  1.0  3   test  foo\n",
              "1  1.0 2021-05-07  1.0  3  train  foo\n",
              "2  1.0 2021-05-07  1.0  3   test  foo\n",
              "3  1.0 2021-05-07  1.0  3  train  foo"
            ]
          },
          "metadata": {
            "tags": []
          },
          "execution_count": 19
        }
      ]
    },
    {
      "cell_type": "code",
      "metadata": {
        "colab": {
          "base_uri": "https://localhost:8080/",
          "height": 228
        },
        "id": "uS5sPOVOMdFN",
        "outputId": "27a38521-eedb-4a03-fc0b-955c1ccb259c"
      },
      "source": [
        "df"
      ],
      "execution_count": 20,
      "outputs": [
        {
          "output_type": "execute_result",
          "data": {
            "text/html": [
              "<div>\n",
              "<style scoped>\n",
              "    .dataframe tbody tr th:only-of-type {\n",
              "        vertical-align: middle;\n",
              "    }\n",
              "\n",
              "    .dataframe tbody tr th {\n",
              "        vertical-align: top;\n",
              "    }\n",
              "\n",
              "    .dataframe thead th {\n",
              "        text-align: right;\n",
              "    }\n",
              "</style>\n",
              "<table border=\"1\" class=\"dataframe\">\n",
              "  <thead>\n",
              "    <tr style=\"text-align: right;\">\n",
              "      <th></th>\n",
              "      <th>A</th>\n",
              "      <th>B</th>\n",
              "      <th>C</th>\n",
              "      <th>D</th>\n",
              "    </tr>\n",
              "  </thead>\n",
              "  <tbody>\n",
              "    <tr>\n",
              "      <th>2021-05-07</th>\n",
              "      <td>0.974905</td>\n",
              "      <td>-0.868710</td>\n",
              "      <td>0.278801</td>\n",
              "      <td>-0.380397</td>\n",
              "    </tr>\n",
              "    <tr>\n",
              "      <th>2021-05-08</th>\n",
              "      <td>-0.487593</td>\n",
              "      <td>-0.716951</td>\n",
              "      <td>1.104461</td>\n",
              "      <td>-0.231486</td>\n",
              "    </tr>\n",
              "    <tr>\n",
              "      <th>2021-05-09</th>\n",
              "      <td>0.503181</td>\n",
              "      <td>1.084105</td>\n",
              "      <td>-0.406289</td>\n",
              "      <td>-0.540765</td>\n",
              "    </tr>\n",
              "    <tr>\n",
              "      <th>2021-05-10</th>\n",
              "      <td>-0.677871</td>\n",
              "      <td>-1.219304</td>\n",
              "      <td>0.744622</td>\n",
              "      <td>-0.051277</td>\n",
              "    </tr>\n",
              "    <tr>\n",
              "      <th>2021-05-11</th>\n",
              "      <td>-0.059962</td>\n",
              "      <td>-0.609168</td>\n",
              "      <td>0.416889</td>\n",
              "      <td>0.243589</td>\n",
              "    </tr>\n",
              "    <tr>\n",
              "      <th>2021-05-12</th>\n",
              "      <td>1.175882</td>\n",
              "      <td>-0.652112</td>\n",
              "      <td>-0.784628</td>\n",
              "      <td>-0.113109</td>\n",
              "    </tr>\n",
              "  </tbody>\n",
              "</table>\n",
              "</div>"
            ],
            "text/plain": [
              "                   A         B         C         D\n",
              "2021-05-07  0.974905 -0.868710  0.278801 -0.380397\n",
              "2021-05-08 -0.487593 -0.716951  1.104461 -0.231486\n",
              "2021-05-09  0.503181  1.084105 -0.406289 -0.540765\n",
              "2021-05-10 -0.677871 -1.219304  0.744622 -0.051277\n",
              "2021-05-11 -0.059962 -0.609168  0.416889  0.243589\n",
              "2021-05-12  1.175882 -0.652112 -0.784628 -0.113109"
            ]
          },
          "metadata": {
            "tags": []
          },
          "execution_count": 20
        }
      ]
    },
    {
      "cell_type": "code",
      "metadata": {
        "colab": {
          "base_uri": "https://localhost:8080/",
          "height": 198
        },
        "id": "2aYkvHvbNDSF",
        "outputId": "e3893155-c17f-452b-ee18-7073dbd9acad"
      },
      "source": [
        "df.head()"
      ],
      "execution_count": 21,
      "outputs": [
        {
          "output_type": "execute_result",
          "data": {
            "text/html": [
              "<div>\n",
              "<style scoped>\n",
              "    .dataframe tbody tr th:only-of-type {\n",
              "        vertical-align: middle;\n",
              "    }\n",
              "\n",
              "    .dataframe tbody tr th {\n",
              "        vertical-align: top;\n",
              "    }\n",
              "\n",
              "    .dataframe thead th {\n",
              "        text-align: right;\n",
              "    }\n",
              "</style>\n",
              "<table border=\"1\" class=\"dataframe\">\n",
              "  <thead>\n",
              "    <tr style=\"text-align: right;\">\n",
              "      <th></th>\n",
              "      <th>A</th>\n",
              "      <th>B</th>\n",
              "      <th>C</th>\n",
              "      <th>D</th>\n",
              "    </tr>\n",
              "  </thead>\n",
              "  <tbody>\n",
              "    <tr>\n",
              "      <th>2021-05-07</th>\n",
              "      <td>0.974905</td>\n",
              "      <td>-0.868710</td>\n",
              "      <td>0.278801</td>\n",
              "      <td>-0.380397</td>\n",
              "    </tr>\n",
              "    <tr>\n",
              "      <th>2021-05-08</th>\n",
              "      <td>-0.487593</td>\n",
              "      <td>-0.716951</td>\n",
              "      <td>1.104461</td>\n",
              "      <td>-0.231486</td>\n",
              "    </tr>\n",
              "    <tr>\n",
              "      <th>2021-05-09</th>\n",
              "      <td>0.503181</td>\n",
              "      <td>1.084105</td>\n",
              "      <td>-0.406289</td>\n",
              "      <td>-0.540765</td>\n",
              "    </tr>\n",
              "    <tr>\n",
              "      <th>2021-05-10</th>\n",
              "      <td>-0.677871</td>\n",
              "      <td>-1.219304</td>\n",
              "      <td>0.744622</td>\n",
              "      <td>-0.051277</td>\n",
              "    </tr>\n",
              "    <tr>\n",
              "      <th>2021-05-11</th>\n",
              "      <td>-0.059962</td>\n",
              "      <td>-0.609168</td>\n",
              "      <td>0.416889</td>\n",
              "      <td>0.243589</td>\n",
              "    </tr>\n",
              "  </tbody>\n",
              "</table>\n",
              "</div>"
            ],
            "text/plain": [
              "                   A         B         C         D\n",
              "2021-05-07  0.974905 -0.868710  0.278801 -0.380397\n",
              "2021-05-08 -0.487593 -0.716951  1.104461 -0.231486\n",
              "2021-05-09  0.503181  1.084105 -0.406289 -0.540765\n",
              "2021-05-10 -0.677871 -1.219304  0.744622 -0.051277\n",
              "2021-05-11 -0.059962 -0.609168  0.416889  0.243589"
            ]
          },
          "metadata": {
            "tags": []
          },
          "execution_count": 21
        }
      ]
    },
    {
      "cell_type": "code",
      "metadata": {
        "colab": {
          "base_uri": "https://localhost:8080/",
          "height": 198
        },
        "id": "WmniF6x1NNW0",
        "outputId": "5ebbffa9-50d8-4e6a-c845-8636b329a9d2"
      },
      "source": [
        "df.tail()"
      ],
      "execution_count": 22,
      "outputs": [
        {
          "output_type": "execute_result",
          "data": {
            "text/html": [
              "<div>\n",
              "<style scoped>\n",
              "    .dataframe tbody tr th:only-of-type {\n",
              "        vertical-align: middle;\n",
              "    }\n",
              "\n",
              "    .dataframe tbody tr th {\n",
              "        vertical-align: top;\n",
              "    }\n",
              "\n",
              "    .dataframe thead th {\n",
              "        text-align: right;\n",
              "    }\n",
              "</style>\n",
              "<table border=\"1\" class=\"dataframe\">\n",
              "  <thead>\n",
              "    <tr style=\"text-align: right;\">\n",
              "      <th></th>\n",
              "      <th>A</th>\n",
              "      <th>B</th>\n",
              "      <th>C</th>\n",
              "      <th>D</th>\n",
              "    </tr>\n",
              "  </thead>\n",
              "  <tbody>\n",
              "    <tr>\n",
              "      <th>2021-05-08</th>\n",
              "      <td>-0.487593</td>\n",
              "      <td>-0.716951</td>\n",
              "      <td>1.104461</td>\n",
              "      <td>-0.231486</td>\n",
              "    </tr>\n",
              "    <tr>\n",
              "      <th>2021-05-09</th>\n",
              "      <td>0.503181</td>\n",
              "      <td>1.084105</td>\n",
              "      <td>-0.406289</td>\n",
              "      <td>-0.540765</td>\n",
              "    </tr>\n",
              "    <tr>\n",
              "      <th>2021-05-10</th>\n",
              "      <td>-0.677871</td>\n",
              "      <td>-1.219304</td>\n",
              "      <td>0.744622</td>\n",
              "      <td>-0.051277</td>\n",
              "    </tr>\n",
              "    <tr>\n",
              "      <th>2021-05-11</th>\n",
              "      <td>-0.059962</td>\n",
              "      <td>-0.609168</td>\n",
              "      <td>0.416889</td>\n",
              "      <td>0.243589</td>\n",
              "    </tr>\n",
              "    <tr>\n",
              "      <th>2021-05-12</th>\n",
              "      <td>1.175882</td>\n",
              "      <td>-0.652112</td>\n",
              "      <td>-0.784628</td>\n",
              "      <td>-0.113109</td>\n",
              "    </tr>\n",
              "  </tbody>\n",
              "</table>\n",
              "</div>"
            ],
            "text/plain": [
              "                   A         B         C         D\n",
              "2021-05-08 -0.487593 -0.716951  1.104461 -0.231486\n",
              "2021-05-09  0.503181  1.084105 -0.406289 -0.540765\n",
              "2021-05-10 -0.677871 -1.219304  0.744622 -0.051277\n",
              "2021-05-11 -0.059962 -0.609168  0.416889  0.243589\n",
              "2021-05-12  1.175882 -0.652112 -0.784628 -0.113109"
            ]
          },
          "metadata": {
            "tags": []
          },
          "execution_count": 22
        }
      ]
    },
    {
      "cell_type": "code",
      "metadata": {
        "colab": {
          "base_uri": "https://localhost:8080/",
          "height": 78
        },
        "id": "sBNtF_ftNSwU",
        "outputId": "a92e7637-0809-4ab8-d2ce-11b55a50c5b2"
      },
      "source": [
        "df.head(1)"
      ],
      "execution_count": 23,
      "outputs": [
        {
          "output_type": "execute_result",
          "data": {
            "text/html": [
              "<div>\n",
              "<style scoped>\n",
              "    .dataframe tbody tr th:only-of-type {\n",
              "        vertical-align: middle;\n",
              "    }\n",
              "\n",
              "    .dataframe tbody tr th {\n",
              "        vertical-align: top;\n",
              "    }\n",
              "\n",
              "    .dataframe thead th {\n",
              "        text-align: right;\n",
              "    }\n",
              "</style>\n",
              "<table border=\"1\" class=\"dataframe\">\n",
              "  <thead>\n",
              "    <tr style=\"text-align: right;\">\n",
              "      <th></th>\n",
              "      <th>A</th>\n",
              "      <th>B</th>\n",
              "      <th>C</th>\n",
              "      <th>D</th>\n",
              "    </tr>\n",
              "  </thead>\n",
              "  <tbody>\n",
              "    <tr>\n",
              "      <th>2021-05-07</th>\n",
              "      <td>0.974905</td>\n",
              "      <td>-0.86871</td>\n",
              "      <td>0.278801</td>\n",
              "      <td>-0.380397</td>\n",
              "    </tr>\n",
              "  </tbody>\n",
              "</table>\n",
              "</div>"
            ],
            "text/plain": [
              "                   A        B         C         D\n",
              "2021-05-07  0.974905 -0.86871  0.278801 -0.380397"
            ]
          },
          "metadata": {
            "tags": []
          },
          "execution_count": 23
        }
      ]
    },
    {
      "cell_type": "code",
      "metadata": {
        "colab": {
          "base_uri": "https://localhost:8080/",
          "height": 108
        },
        "id": "ncll9opWNhEE",
        "outputId": "2215f4a7-0c3d-45ec-aa33-780cdc4faaa5"
      },
      "source": [
        "df.tail(2)"
      ],
      "execution_count": 24,
      "outputs": [
        {
          "output_type": "execute_result",
          "data": {
            "text/html": [
              "<div>\n",
              "<style scoped>\n",
              "    .dataframe tbody tr th:only-of-type {\n",
              "        vertical-align: middle;\n",
              "    }\n",
              "\n",
              "    .dataframe tbody tr th {\n",
              "        vertical-align: top;\n",
              "    }\n",
              "\n",
              "    .dataframe thead th {\n",
              "        text-align: right;\n",
              "    }\n",
              "</style>\n",
              "<table border=\"1\" class=\"dataframe\">\n",
              "  <thead>\n",
              "    <tr style=\"text-align: right;\">\n",
              "      <th></th>\n",
              "      <th>A</th>\n",
              "      <th>B</th>\n",
              "      <th>C</th>\n",
              "      <th>D</th>\n",
              "    </tr>\n",
              "  </thead>\n",
              "  <tbody>\n",
              "    <tr>\n",
              "      <th>2021-05-11</th>\n",
              "      <td>-0.059962</td>\n",
              "      <td>-0.609168</td>\n",
              "      <td>0.416889</td>\n",
              "      <td>0.243589</td>\n",
              "    </tr>\n",
              "    <tr>\n",
              "      <th>2021-05-12</th>\n",
              "      <td>1.175882</td>\n",
              "      <td>-0.652112</td>\n",
              "      <td>-0.784628</td>\n",
              "      <td>-0.113109</td>\n",
              "    </tr>\n",
              "  </tbody>\n",
              "</table>\n",
              "</div>"
            ],
            "text/plain": [
              "                   A         B         C         D\n",
              "2021-05-11 -0.059962 -0.609168  0.416889  0.243589\n",
              "2021-05-12  1.175882 -0.652112 -0.784628 -0.113109"
            ]
          },
          "metadata": {
            "tags": []
          },
          "execution_count": 24
        }
      ]
    },
    {
      "cell_type": "code",
      "metadata": {
        "colab": {
          "base_uri": "https://localhost:8080/",
          "height": 228
        },
        "id": "oiqO9vbsNnGE",
        "outputId": "72deb709-be70-4ed3-df3d-322afb6f73ba"
      },
      "source": [
        "df"
      ],
      "execution_count": 25,
      "outputs": [
        {
          "output_type": "execute_result",
          "data": {
            "text/html": [
              "<div>\n",
              "<style scoped>\n",
              "    .dataframe tbody tr th:only-of-type {\n",
              "        vertical-align: middle;\n",
              "    }\n",
              "\n",
              "    .dataframe tbody tr th {\n",
              "        vertical-align: top;\n",
              "    }\n",
              "\n",
              "    .dataframe thead th {\n",
              "        text-align: right;\n",
              "    }\n",
              "</style>\n",
              "<table border=\"1\" class=\"dataframe\">\n",
              "  <thead>\n",
              "    <tr style=\"text-align: right;\">\n",
              "      <th></th>\n",
              "      <th>A</th>\n",
              "      <th>B</th>\n",
              "      <th>C</th>\n",
              "      <th>D</th>\n",
              "    </tr>\n",
              "  </thead>\n",
              "  <tbody>\n",
              "    <tr>\n",
              "      <th>2021-05-07</th>\n",
              "      <td>0.974905</td>\n",
              "      <td>-0.868710</td>\n",
              "      <td>0.278801</td>\n",
              "      <td>-0.380397</td>\n",
              "    </tr>\n",
              "    <tr>\n",
              "      <th>2021-05-08</th>\n",
              "      <td>-0.487593</td>\n",
              "      <td>-0.716951</td>\n",
              "      <td>1.104461</td>\n",
              "      <td>-0.231486</td>\n",
              "    </tr>\n",
              "    <tr>\n",
              "      <th>2021-05-09</th>\n",
              "      <td>0.503181</td>\n",
              "      <td>1.084105</td>\n",
              "      <td>-0.406289</td>\n",
              "      <td>-0.540765</td>\n",
              "    </tr>\n",
              "    <tr>\n",
              "      <th>2021-05-10</th>\n",
              "      <td>-0.677871</td>\n",
              "      <td>-1.219304</td>\n",
              "      <td>0.744622</td>\n",
              "      <td>-0.051277</td>\n",
              "    </tr>\n",
              "    <tr>\n",
              "      <th>2021-05-11</th>\n",
              "      <td>-0.059962</td>\n",
              "      <td>-0.609168</td>\n",
              "      <td>0.416889</td>\n",
              "      <td>0.243589</td>\n",
              "    </tr>\n",
              "    <tr>\n",
              "      <th>2021-05-12</th>\n",
              "      <td>1.175882</td>\n",
              "      <td>-0.652112</td>\n",
              "      <td>-0.784628</td>\n",
              "      <td>-0.113109</td>\n",
              "    </tr>\n",
              "  </tbody>\n",
              "</table>\n",
              "</div>"
            ],
            "text/plain": [
              "                   A         B         C         D\n",
              "2021-05-07  0.974905 -0.868710  0.278801 -0.380397\n",
              "2021-05-08 -0.487593 -0.716951  1.104461 -0.231486\n",
              "2021-05-09  0.503181  1.084105 -0.406289 -0.540765\n",
              "2021-05-10 -0.677871 -1.219304  0.744622 -0.051277\n",
              "2021-05-11 -0.059962 -0.609168  0.416889  0.243589\n",
              "2021-05-12  1.175882 -0.652112 -0.784628 -0.113109"
            ]
          },
          "metadata": {
            "tags": []
          },
          "execution_count": 25
        }
      ]
    },
    {
      "cell_type": "code",
      "metadata": {
        "colab": {
          "base_uri": "https://localhost:8080/"
        },
        "id": "diFsvi-yNuuU",
        "outputId": "290db3d5-18b2-4e2f-f579-9a2c095273e0"
      },
      "source": [
        "df.index"
      ],
      "execution_count": 27,
      "outputs": [
        {
          "output_type": "execute_result",
          "data": {
            "text/plain": [
              "DatetimeIndex(['2021-05-07', '2021-05-08', '2021-05-09', '2021-05-10',\n",
              "               '2021-05-11', '2021-05-12'],\n",
              "              dtype='datetime64[ns]', freq='D')"
            ]
          },
          "metadata": {
            "tags": []
          },
          "execution_count": 27
        }
      ]
    },
    {
      "cell_type": "code",
      "metadata": {
        "colab": {
          "base_uri": "https://localhost:8080/"
        },
        "id": "gFQvCDRGN1MU",
        "outputId": "2c64a385-6b2d-4174-9f98-2b73aa569a41"
      },
      "source": [
        "df.columns"
      ],
      "execution_count": 28,
      "outputs": [
        {
          "output_type": "execute_result",
          "data": {
            "text/plain": [
              "Index(['A', 'B', 'C', 'D'], dtype='object')"
            ]
          },
          "metadata": {
            "tags": []
          },
          "execution_count": 28
        }
      ]
    },
    {
      "cell_type": "code",
      "metadata": {
        "colab": {
          "base_uri": "https://localhost:8080/"
        },
        "id": "UM03jx5JN5MU",
        "outputId": "593647f6-d576-47ef-ca83-18cc4e2d83ea"
      },
      "source": [
        "df.values"
      ],
      "execution_count": 29,
      "outputs": [
        {
          "output_type": "execute_result",
          "data": {
            "text/plain": [
              "array([[ 0.97490518, -0.86871015,  0.27880137, -0.38039735],\n",
              "       [-0.487593  , -0.71695123,  1.10446066, -0.23148633],\n",
              "       [ 0.50318121,  1.08410459, -0.40628857, -0.54076511],\n",
              "       [-0.67787131, -1.21930352,  0.74462217, -0.0512766 ],\n",
              "       [-0.05996177, -0.60916772,  0.41688869,  0.24358907],\n",
              "       [ 1.17588216, -0.65211239, -0.78462804, -0.1131088 ]])"
            ]
          },
          "metadata": {
            "tags": []
          },
          "execution_count": 29
        }
      ]
    },
    {
      "cell_type": "code",
      "metadata": {
        "colab": {
          "base_uri": "https://localhost:8080/",
          "height": 288
        },
        "id": "P0rR_mJrOGZ0",
        "outputId": "99d466ff-0125-476e-a4bf-7db73a90995c"
      },
      "source": [
        "df.describe()"
      ],
      "execution_count": 31,
      "outputs": [
        {
          "output_type": "execute_result",
          "data": {
            "text/html": [
              "<div>\n",
              "<style scoped>\n",
              "    .dataframe tbody tr th:only-of-type {\n",
              "        vertical-align: middle;\n",
              "    }\n",
              "\n",
              "    .dataframe tbody tr th {\n",
              "        vertical-align: top;\n",
              "    }\n",
              "\n",
              "    .dataframe thead th {\n",
              "        text-align: right;\n",
              "    }\n",
              "</style>\n",
              "<table border=\"1\" class=\"dataframe\">\n",
              "  <thead>\n",
              "    <tr style=\"text-align: right;\">\n",
              "      <th></th>\n",
              "      <th>A</th>\n",
              "      <th>B</th>\n",
              "      <th>C</th>\n",
              "      <th>D</th>\n",
              "    </tr>\n",
              "  </thead>\n",
              "  <tbody>\n",
              "    <tr>\n",
              "      <th>count</th>\n",
              "      <td>6.000000</td>\n",
              "      <td>6.000000</td>\n",
              "      <td>6.000000</td>\n",
              "      <td>6.000000</td>\n",
              "    </tr>\n",
              "    <tr>\n",
              "      <th>mean</th>\n",
              "      <td>0.238090</td>\n",
              "      <td>-0.497023</td>\n",
              "      <td>0.225643</td>\n",
              "      <td>-0.178908</td>\n",
              "    </tr>\n",
              "    <tr>\n",
              "      <th>std</th>\n",
              "      <td>0.767732</td>\n",
              "      <td>0.805581</td>\n",
              "      <td>0.707255</td>\n",
              "      <td>0.273286</td>\n",
              "    </tr>\n",
              "    <tr>\n",
              "      <th>min</th>\n",
              "      <td>-0.677871</td>\n",
              "      <td>-1.219304</td>\n",
              "      <td>-0.784628</td>\n",
              "      <td>-0.540765</td>\n",
              "    </tr>\n",
              "    <tr>\n",
              "      <th>25%</th>\n",
              "      <td>-0.380685</td>\n",
              "      <td>-0.830770</td>\n",
              "      <td>-0.235016</td>\n",
              "      <td>-0.343170</td>\n",
              "    </tr>\n",
              "    <tr>\n",
              "      <th>50%</th>\n",
              "      <td>0.221610</td>\n",
              "      <td>-0.684532</td>\n",
              "      <td>0.347845</td>\n",
              "      <td>-0.172298</td>\n",
              "    </tr>\n",
              "    <tr>\n",
              "      <th>75%</th>\n",
              "      <td>0.856974</td>\n",
              "      <td>-0.619904</td>\n",
              "      <td>0.662689</td>\n",
              "      <td>-0.066735</td>\n",
              "    </tr>\n",
              "    <tr>\n",
              "      <th>max</th>\n",
              "      <td>1.175882</td>\n",
              "      <td>1.084105</td>\n",
              "      <td>1.104461</td>\n",
              "      <td>0.243589</td>\n",
              "    </tr>\n",
              "  </tbody>\n",
              "</table>\n",
              "</div>"
            ],
            "text/plain": [
              "              A         B         C         D\n",
              "count  6.000000  6.000000  6.000000  6.000000\n",
              "mean   0.238090 -0.497023  0.225643 -0.178908\n",
              "std    0.767732  0.805581  0.707255  0.273286\n",
              "min   -0.677871 -1.219304 -0.784628 -0.540765\n",
              "25%   -0.380685 -0.830770 -0.235016 -0.343170\n",
              "50%    0.221610 -0.684532  0.347845 -0.172298\n",
              "75%    0.856974 -0.619904  0.662689 -0.066735\n",
              "max    1.175882  1.084105  1.104461  0.243589"
            ]
          },
          "metadata": {
            "tags": []
          },
          "execution_count": 31
        }
      ]
    },
    {
      "cell_type": "code",
      "metadata": {
        "colab": {
          "base_uri": "https://localhost:8080/",
          "height": 228
        },
        "id": "QXmyvUOCOPrk",
        "outputId": "814b2b99-00c3-4479-8c23-2eb119a7438d"
      },
      "source": [
        "df"
      ],
      "execution_count": 34,
      "outputs": [
        {
          "output_type": "execute_result",
          "data": {
            "text/html": [
              "<div>\n",
              "<style scoped>\n",
              "    .dataframe tbody tr th:only-of-type {\n",
              "        vertical-align: middle;\n",
              "    }\n",
              "\n",
              "    .dataframe tbody tr th {\n",
              "        vertical-align: top;\n",
              "    }\n",
              "\n",
              "    .dataframe thead th {\n",
              "        text-align: right;\n",
              "    }\n",
              "</style>\n",
              "<table border=\"1\" class=\"dataframe\">\n",
              "  <thead>\n",
              "    <tr style=\"text-align: right;\">\n",
              "      <th></th>\n",
              "      <th>A</th>\n",
              "      <th>B</th>\n",
              "      <th>C</th>\n",
              "      <th>D</th>\n",
              "    </tr>\n",
              "  </thead>\n",
              "  <tbody>\n",
              "    <tr>\n",
              "      <th>2021-05-07</th>\n",
              "      <td>0.974905</td>\n",
              "      <td>-0.868710</td>\n",
              "      <td>0.278801</td>\n",
              "      <td>-0.380397</td>\n",
              "    </tr>\n",
              "    <tr>\n",
              "      <th>2021-05-08</th>\n",
              "      <td>-0.487593</td>\n",
              "      <td>-0.716951</td>\n",
              "      <td>1.104461</td>\n",
              "      <td>-0.231486</td>\n",
              "    </tr>\n",
              "    <tr>\n",
              "      <th>2021-05-09</th>\n",
              "      <td>0.503181</td>\n",
              "      <td>1.084105</td>\n",
              "      <td>-0.406289</td>\n",
              "      <td>-0.540765</td>\n",
              "    </tr>\n",
              "    <tr>\n",
              "      <th>2021-05-10</th>\n",
              "      <td>-0.677871</td>\n",
              "      <td>-1.219304</td>\n",
              "      <td>0.744622</td>\n",
              "      <td>-0.051277</td>\n",
              "    </tr>\n",
              "    <tr>\n",
              "      <th>2021-05-11</th>\n",
              "      <td>-0.059962</td>\n",
              "      <td>-0.609168</td>\n",
              "      <td>0.416889</td>\n",
              "      <td>0.243589</td>\n",
              "    </tr>\n",
              "    <tr>\n",
              "      <th>2021-05-12</th>\n",
              "      <td>1.175882</td>\n",
              "      <td>-0.652112</td>\n",
              "      <td>-0.784628</td>\n",
              "      <td>-0.113109</td>\n",
              "    </tr>\n",
              "  </tbody>\n",
              "</table>\n",
              "</div>"
            ],
            "text/plain": [
              "                   A         B         C         D\n",
              "2021-05-07  0.974905 -0.868710  0.278801 -0.380397\n",
              "2021-05-08 -0.487593 -0.716951  1.104461 -0.231486\n",
              "2021-05-09  0.503181  1.084105 -0.406289 -0.540765\n",
              "2021-05-10 -0.677871 -1.219304  0.744622 -0.051277\n",
              "2021-05-11 -0.059962 -0.609168  0.416889  0.243589\n",
              "2021-05-12  1.175882 -0.652112 -0.784628 -0.113109"
            ]
          },
          "metadata": {
            "tags": []
          },
          "execution_count": 34
        }
      ]
    },
    {
      "cell_type": "code",
      "metadata": {
        "colab": {
          "base_uri": "https://localhost:8080/",
          "height": 168
        },
        "id": "QcKVUVaSOUQk",
        "outputId": "2fd32c2a-8fa1-4453-9bff-258f5140cbd0"
      },
      "source": [
        "df.T"
      ],
      "execution_count": 35,
      "outputs": [
        {
          "output_type": "execute_result",
          "data": {
            "text/html": [
              "<div>\n",
              "<style scoped>\n",
              "    .dataframe tbody tr th:only-of-type {\n",
              "        vertical-align: middle;\n",
              "    }\n",
              "\n",
              "    .dataframe tbody tr th {\n",
              "        vertical-align: top;\n",
              "    }\n",
              "\n",
              "    .dataframe thead th {\n",
              "        text-align: right;\n",
              "    }\n",
              "</style>\n",
              "<table border=\"1\" class=\"dataframe\">\n",
              "  <thead>\n",
              "    <tr style=\"text-align: right;\">\n",
              "      <th></th>\n",
              "      <th>2021-05-07</th>\n",
              "      <th>2021-05-08</th>\n",
              "      <th>2021-05-09</th>\n",
              "      <th>2021-05-10</th>\n",
              "      <th>2021-05-11</th>\n",
              "      <th>2021-05-12</th>\n",
              "    </tr>\n",
              "  </thead>\n",
              "  <tbody>\n",
              "    <tr>\n",
              "      <th>A</th>\n",
              "      <td>0.974905</td>\n",
              "      <td>-0.487593</td>\n",
              "      <td>0.503181</td>\n",
              "      <td>-0.677871</td>\n",
              "      <td>-0.059962</td>\n",
              "      <td>1.175882</td>\n",
              "    </tr>\n",
              "    <tr>\n",
              "      <th>B</th>\n",
              "      <td>-0.868710</td>\n",
              "      <td>-0.716951</td>\n",
              "      <td>1.084105</td>\n",
              "      <td>-1.219304</td>\n",
              "      <td>-0.609168</td>\n",
              "      <td>-0.652112</td>\n",
              "    </tr>\n",
              "    <tr>\n",
              "      <th>C</th>\n",
              "      <td>0.278801</td>\n",
              "      <td>1.104461</td>\n",
              "      <td>-0.406289</td>\n",
              "      <td>0.744622</td>\n",
              "      <td>0.416889</td>\n",
              "      <td>-0.784628</td>\n",
              "    </tr>\n",
              "    <tr>\n",
              "      <th>D</th>\n",
              "      <td>-0.380397</td>\n",
              "      <td>-0.231486</td>\n",
              "      <td>-0.540765</td>\n",
              "      <td>-0.051277</td>\n",
              "      <td>0.243589</td>\n",
              "      <td>-0.113109</td>\n",
              "    </tr>\n",
              "  </tbody>\n",
              "</table>\n",
              "</div>"
            ],
            "text/plain": [
              "   2021-05-07  2021-05-08  2021-05-09  2021-05-10  2021-05-11  2021-05-12\n",
              "A    0.974905   -0.487593    0.503181   -0.677871   -0.059962    1.175882\n",
              "B   -0.868710   -0.716951    1.084105   -1.219304   -0.609168   -0.652112\n",
              "C    0.278801    1.104461   -0.406289    0.744622    0.416889   -0.784628\n",
              "D   -0.380397   -0.231486   -0.540765   -0.051277    0.243589   -0.113109"
            ]
          },
          "metadata": {
            "tags": []
          },
          "execution_count": 35
        }
      ]
    },
    {
      "cell_type": "code",
      "metadata": {
        "colab": {
          "base_uri": "https://localhost:8080/",
          "height": 228
        },
        "id": "BkuAj85zO8AT",
        "outputId": "238bc5c9-8a37-4651-b5d9-63b22da69e77"
      },
      "source": [
        "df.sort_index(axis=1, ascending=True)"
      ],
      "execution_count": 37,
      "outputs": [
        {
          "output_type": "execute_result",
          "data": {
            "text/html": [
              "<div>\n",
              "<style scoped>\n",
              "    .dataframe tbody tr th:only-of-type {\n",
              "        vertical-align: middle;\n",
              "    }\n",
              "\n",
              "    .dataframe tbody tr th {\n",
              "        vertical-align: top;\n",
              "    }\n",
              "\n",
              "    .dataframe thead th {\n",
              "        text-align: right;\n",
              "    }\n",
              "</style>\n",
              "<table border=\"1\" class=\"dataframe\">\n",
              "  <thead>\n",
              "    <tr style=\"text-align: right;\">\n",
              "      <th></th>\n",
              "      <th>A</th>\n",
              "      <th>B</th>\n",
              "      <th>C</th>\n",
              "      <th>D</th>\n",
              "    </tr>\n",
              "  </thead>\n",
              "  <tbody>\n",
              "    <tr>\n",
              "      <th>2021-05-07</th>\n",
              "      <td>0.974905</td>\n",
              "      <td>-0.868710</td>\n",
              "      <td>0.278801</td>\n",
              "      <td>-0.380397</td>\n",
              "    </tr>\n",
              "    <tr>\n",
              "      <th>2021-05-08</th>\n",
              "      <td>-0.487593</td>\n",
              "      <td>-0.716951</td>\n",
              "      <td>1.104461</td>\n",
              "      <td>-0.231486</td>\n",
              "    </tr>\n",
              "    <tr>\n",
              "      <th>2021-05-09</th>\n",
              "      <td>0.503181</td>\n",
              "      <td>1.084105</td>\n",
              "      <td>-0.406289</td>\n",
              "      <td>-0.540765</td>\n",
              "    </tr>\n",
              "    <tr>\n",
              "      <th>2021-05-10</th>\n",
              "      <td>-0.677871</td>\n",
              "      <td>-1.219304</td>\n",
              "      <td>0.744622</td>\n",
              "      <td>-0.051277</td>\n",
              "    </tr>\n",
              "    <tr>\n",
              "      <th>2021-05-11</th>\n",
              "      <td>-0.059962</td>\n",
              "      <td>-0.609168</td>\n",
              "      <td>0.416889</td>\n",
              "      <td>0.243589</td>\n",
              "    </tr>\n",
              "    <tr>\n",
              "      <th>2021-05-12</th>\n",
              "      <td>1.175882</td>\n",
              "      <td>-0.652112</td>\n",
              "      <td>-0.784628</td>\n",
              "      <td>-0.113109</td>\n",
              "    </tr>\n",
              "  </tbody>\n",
              "</table>\n",
              "</div>"
            ],
            "text/plain": [
              "                   A         B         C         D\n",
              "2021-05-07  0.974905 -0.868710  0.278801 -0.380397\n",
              "2021-05-08 -0.487593 -0.716951  1.104461 -0.231486\n",
              "2021-05-09  0.503181  1.084105 -0.406289 -0.540765\n",
              "2021-05-10 -0.677871 -1.219304  0.744622 -0.051277\n",
              "2021-05-11 -0.059962 -0.609168  0.416889  0.243589\n",
              "2021-05-12  1.175882 -0.652112 -0.784628 -0.113109"
            ]
          },
          "metadata": {
            "tags": []
          },
          "execution_count": 37
        }
      ]
    },
    {
      "cell_type": "code",
      "metadata": {
        "colab": {
          "base_uri": "https://localhost:8080/",
          "height": 228
        },
        "id": "bwQdo1neRpx7",
        "outputId": "a3d1aab5-8a6f-4ba2-9096-92eb5fc7a8cf"
      },
      "source": [
        "df.sort_index(axis=1, ascending=False)"
      ],
      "execution_count": 38,
      "outputs": [
        {
          "output_type": "execute_result",
          "data": {
            "text/html": [
              "<div>\n",
              "<style scoped>\n",
              "    .dataframe tbody tr th:only-of-type {\n",
              "        vertical-align: middle;\n",
              "    }\n",
              "\n",
              "    .dataframe tbody tr th {\n",
              "        vertical-align: top;\n",
              "    }\n",
              "\n",
              "    .dataframe thead th {\n",
              "        text-align: right;\n",
              "    }\n",
              "</style>\n",
              "<table border=\"1\" class=\"dataframe\">\n",
              "  <thead>\n",
              "    <tr style=\"text-align: right;\">\n",
              "      <th></th>\n",
              "      <th>D</th>\n",
              "      <th>C</th>\n",
              "      <th>B</th>\n",
              "      <th>A</th>\n",
              "    </tr>\n",
              "  </thead>\n",
              "  <tbody>\n",
              "    <tr>\n",
              "      <th>2021-05-07</th>\n",
              "      <td>-0.380397</td>\n",
              "      <td>0.278801</td>\n",
              "      <td>-0.868710</td>\n",
              "      <td>0.974905</td>\n",
              "    </tr>\n",
              "    <tr>\n",
              "      <th>2021-05-08</th>\n",
              "      <td>-0.231486</td>\n",
              "      <td>1.104461</td>\n",
              "      <td>-0.716951</td>\n",
              "      <td>-0.487593</td>\n",
              "    </tr>\n",
              "    <tr>\n",
              "      <th>2021-05-09</th>\n",
              "      <td>-0.540765</td>\n",
              "      <td>-0.406289</td>\n",
              "      <td>1.084105</td>\n",
              "      <td>0.503181</td>\n",
              "    </tr>\n",
              "    <tr>\n",
              "      <th>2021-05-10</th>\n",
              "      <td>-0.051277</td>\n",
              "      <td>0.744622</td>\n",
              "      <td>-1.219304</td>\n",
              "      <td>-0.677871</td>\n",
              "    </tr>\n",
              "    <tr>\n",
              "      <th>2021-05-11</th>\n",
              "      <td>0.243589</td>\n",
              "      <td>0.416889</td>\n",
              "      <td>-0.609168</td>\n",
              "      <td>-0.059962</td>\n",
              "    </tr>\n",
              "    <tr>\n",
              "      <th>2021-05-12</th>\n",
              "      <td>-0.113109</td>\n",
              "      <td>-0.784628</td>\n",
              "      <td>-0.652112</td>\n",
              "      <td>1.175882</td>\n",
              "    </tr>\n",
              "  </tbody>\n",
              "</table>\n",
              "</div>"
            ],
            "text/plain": [
              "                   D         C         B         A\n",
              "2021-05-07 -0.380397  0.278801 -0.868710  0.974905\n",
              "2021-05-08 -0.231486  1.104461 -0.716951 -0.487593\n",
              "2021-05-09 -0.540765 -0.406289  1.084105  0.503181\n",
              "2021-05-10 -0.051277  0.744622 -1.219304 -0.677871\n",
              "2021-05-11  0.243589  0.416889 -0.609168 -0.059962\n",
              "2021-05-12 -0.113109 -0.784628 -0.652112  1.175882"
            ]
          },
          "metadata": {
            "tags": []
          },
          "execution_count": 38
        }
      ]
    },
    {
      "cell_type": "code",
      "metadata": {
        "colab": {
          "base_uri": "https://localhost:8080/",
          "height": 228
        },
        "id": "HzYiY5fwSDzJ",
        "outputId": "031aeb9f-7800-4add-fe95-76bdad31f898"
      },
      "source": [
        "df.sort_index(axis=0, ascending=False)"
      ],
      "execution_count": 40,
      "outputs": [
        {
          "output_type": "execute_result",
          "data": {
            "text/html": [
              "<div>\n",
              "<style scoped>\n",
              "    .dataframe tbody tr th:only-of-type {\n",
              "        vertical-align: middle;\n",
              "    }\n",
              "\n",
              "    .dataframe tbody tr th {\n",
              "        vertical-align: top;\n",
              "    }\n",
              "\n",
              "    .dataframe thead th {\n",
              "        text-align: right;\n",
              "    }\n",
              "</style>\n",
              "<table border=\"1\" class=\"dataframe\">\n",
              "  <thead>\n",
              "    <tr style=\"text-align: right;\">\n",
              "      <th></th>\n",
              "      <th>A</th>\n",
              "      <th>B</th>\n",
              "      <th>C</th>\n",
              "      <th>D</th>\n",
              "    </tr>\n",
              "  </thead>\n",
              "  <tbody>\n",
              "    <tr>\n",
              "      <th>2021-05-12</th>\n",
              "      <td>1.175882</td>\n",
              "      <td>-0.652112</td>\n",
              "      <td>-0.784628</td>\n",
              "      <td>-0.113109</td>\n",
              "    </tr>\n",
              "    <tr>\n",
              "      <th>2021-05-11</th>\n",
              "      <td>-0.059962</td>\n",
              "      <td>-0.609168</td>\n",
              "      <td>0.416889</td>\n",
              "      <td>0.243589</td>\n",
              "    </tr>\n",
              "    <tr>\n",
              "      <th>2021-05-10</th>\n",
              "      <td>-0.677871</td>\n",
              "      <td>-1.219304</td>\n",
              "      <td>0.744622</td>\n",
              "      <td>-0.051277</td>\n",
              "    </tr>\n",
              "    <tr>\n",
              "      <th>2021-05-09</th>\n",
              "      <td>0.503181</td>\n",
              "      <td>1.084105</td>\n",
              "      <td>-0.406289</td>\n",
              "      <td>-0.540765</td>\n",
              "    </tr>\n",
              "    <tr>\n",
              "      <th>2021-05-08</th>\n",
              "      <td>-0.487593</td>\n",
              "      <td>-0.716951</td>\n",
              "      <td>1.104461</td>\n",
              "      <td>-0.231486</td>\n",
              "    </tr>\n",
              "    <tr>\n",
              "      <th>2021-05-07</th>\n",
              "      <td>0.974905</td>\n",
              "      <td>-0.868710</td>\n",
              "      <td>0.278801</td>\n",
              "      <td>-0.380397</td>\n",
              "    </tr>\n",
              "  </tbody>\n",
              "</table>\n",
              "</div>"
            ],
            "text/plain": [
              "                   A         B         C         D\n",
              "2021-05-12  1.175882 -0.652112 -0.784628 -0.113109\n",
              "2021-05-11 -0.059962 -0.609168  0.416889  0.243589\n",
              "2021-05-10 -0.677871 -1.219304  0.744622 -0.051277\n",
              "2021-05-09  0.503181  1.084105 -0.406289 -0.540765\n",
              "2021-05-08 -0.487593 -0.716951  1.104461 -0.231486\n",
              "2021-05-07  0.974905 -0.868710  0.278801 -0.380397"
            ]
          },
          "metadata": {
            "tags": []
          },
          "execution_count": 40
        }
      ]
    },
    {
      "cell_type": "code",
      "metadata": {
        "colab": {
          "base_uri": "https://localhost:8080/",
          "height": 228
        },
        "id": "3MbuM7UzSPip",
        "outputId": "7ec2f741-67ce-4400-a4dc-91be4010baf2"
      },
      "source": [
        "df.sort_values(by= 'B')"
      ],
      "execution_count": 41,
      "outputs": [
        {
          "output_type": "execute_result",
          "data": {
            "text/html": [
              "<div>\n",
              "<style scoped>\n",
              "    .dataframe tbody tr th:only-of-type {\n",
              "        vertical-align: middle;\n",
              "    }\n",
              "\n",
              "    .dataframe tbody tr th {\n",
              "        vertical-align: top;\n",
              "    }\n",
              "\n",
              "    .dataframe thead th {\n",
              "        text-align: right;\n",
              "    }\n",
              "</style>\n",
              "<table border=\"1\" class=\"dataframe\">\n",
              "  <thead>\n",
              "    <tr style=\"text-align: right;\">\n",
              "      <th></th>\n",
              "      <th>A</th>\n",
              "      <th>B</th>\n",
              "      <th>C</th>\n",
              "      <th>D</th>\n",
              "    </tr>\n",
              "  </thead>\n",
              "  <tbody>\n",
              "    <tr>\n",
              "      <th>2021-05-10</th>\n",
              "      <td>-0.677871</td>\n",
              "      <td>-1.219304</td>\n",
              "      <td>0.744622</td>\n",
              "      <td>-0.051277</td>\n",
              "    </tr>\n",
              "    <tr>\n",
              "      <th>2021-05-07</th>\n",
              "      <td>0.974905</td>\n",
              "      <td>-0.868710</td>\n",
              "      <td>0.278801</td>\n",
              "      <td>-0.380397</td>\n",
              "    </tr>\n",
              "    <tr>\n",
              "      <th>2021-05-08</th>\n",
              "      <td>-0.487593</td>\n",
              "      <td>-0.716951</td>\n",
              "      <td>1.104461</td>\n",
              "      <td>-0.231486</td>\n",
              "    </tr>\n",
              "    <tr>\n",
              "      <th>2021-05-12</th>\n",
              "      <td>1.175882</td>\n",
              "      <td>-0.652112</td>\n",
              "      <td>-0.784628</td>\n",
              "      <td>-0.113109</td>\n",
              "    </tr>\n",
              "    <tr>\n",
              "      <th>2021-05-11</th>\n",
              "      <td>-0.059962</td>\n",
              "      <td>-0.609168</td>\n",
              "      <td>0.416889</td>\n",
              "      <td>0.243589</td>\n",
              "    </tr>\n",
              "    <tr>\n",
              "      <th>2021-05-09</th>\n",
              "      <td>0.503181</td>\n",
              "      <td>1.084105</td>\n",
              "      <td>-0.406289</td>\n",
              "      <td>-0.540765</td>\n",
              "    </tr>\n",
              "  </tbody>\n",
              "</table>\n",
              "</div>"
            ],
            "text/plain": [
              "                   A         B         C         D\n",
              "2021-05-10 -0.677871 -1.219304  0.744622 -0.051277\n",
              "2021-05-07  0.974905 -0.868710  0.278801 -0.380397\n",
              "2021-05-08 -0.487593 -0.716951  1.104461 -0.231486\n",
              "2021-05-12  1.175882 -0.652112 -0.784628 -0.113109\n",
              "2021-05-11 -0.059962 -0.609168  0.416889  0.243589\n",
              "2021-05-09  0.503181  1.084105 -0.406289 -0.540765"
            ]
          },
          "metadata": {
            "tags": []
          },
          "execution_count": 41
        }
      ]
    },
    {
      "cell_type": "code",
      "metadata": {
        "colab": {
          "base_uri": "https://localhost:8080/"
        },
        "id": "C9oHRpt2SxPJ",
        "outputId": "8bfc834a-b077-4195-dc4a-7106229e827c"
      },
      "source": [
        "df['A']"
      ],
      "execution_count": 42,
      "outputs": [
        {
          "output_type": "execute_result",
          "data": {
            "text/plain": [
              "2021-05-07    0.974905\n",
              "2021-05-08   -0.487593\n",
              "2021-05-09    0.503181\n",
              "2021-05-10   -0.677871\n",
              "2021-05-11   -0.059962\n",
              "2021-05-12    1.175882\n",
              "Freq: D, Name: A, dtype: float64"
            ]
          },
          "metadata": {
            "tags": []
          },
          "execution_count": 42
        }
      ]
    },
    {
      "cell_type": "code",
      "metadata": {
        "colab": {
          "base_uri": "https://localhost:8080/"
        },
        "id": "EZmypUucTGe6",
        "outputId": "f41a5ef3-78e3-42b3-d50f-fe7cc7aff062"
      },
      "source": [
        "df['B']"
      ],
      "execution_count": 43,
      "outputs": [
        {
          "output_type": "execute_result",
          "data": {
            "text/plain": [
              "2021-05-07   -0.868710\n",
              "2021-05-08   -0.716951\n",
              "2021-05-09    1.084105\n",
              "2021-05-10   -1.219304\n",
              "2021-05-11   -0.609168\n",
              "2021-05-12   -0.652112\n",
              "Freq: D, Name: B, dtype: float64"
            ]
          },
          "metadata": {
            "tags": []
          },
          "execution_count": 43
        }
      ]
    },
    {
      "cell_type": "code",
      "metadata": {
        "colab": {
          "base_uri": "https://localhost:8080/",
          "height": 228
        },
        "id": "j2zmVhMhTVrp",
        "outputId": "cc2265d5-62e0-4665-90d1-37d460c82fe7"
      },
      "source": [
        "df[['A','B','D']]"
      ],
      "execution_count": 47,
      "outputs": [
        {
          "output_type": "execute_result",
          "data": {
            "text/html": [
              "<div>\n",
              "<style scoped>\n",
              "    .dataframe tbody tr th:only-of-type {\n",
              "        vertical-align: middle;\n",
              "    }\n",
              "\n",
              "    .dataframe tbody tr th {\n",
              "        vertical-align: top;\n",
              "    }\n",
              "\n",
              "    .dataframe thead th {\n",
              "        text-align: right;\n",
              "    }\n",
              "</style>\n",
              "<table border=\"1\" class=\"dataframe\">\n",
              "  <thead>\n",
              "    <tr style=\"text-align: right;\">\n",
              "      <th></th>\n",
              "      <th>A</th>\n",
              "      <th>B</th>\n",
              "      <th>D</th>\n",
              "    </tr>\n",
              "  </thead>\n",
              "  <tbody>\n",
              "    <tr>\n",
              "      <th>2021-05-07</th>\n",
              "      <td>0.974905</td>\n",
              "      <td>-0.868710</td>\n",
              "      <td>-0.380397</td>\n",
              "    </tr>\n",
              "    <tr>\n",
              "      <th>2021-05-08</th>\n",
              "      <td>-0.487593</td>\n",
              "      <td>-0.716951</td>\n",
              "      <td>-0.231486</td>\n",
              "    </tr>\n",
              "    <tr>\n",
              "      <th>2021-05-09</th>\n",
              "      <td>0.503181</td>\n",
              "      <td>1.084105</td>\n",
              "      <td>-0.540765</td>\n",
              "    </tr>\n",
              "    <tr>\n",
              "      <th>2021-05-10</th>\n",
              "      <td>-0.677871</td>\n",
              "      <td>-1.219304</td>\n",
              "      <td>-0.051277</td>\n",
              "    </tr>\n",
              "    <tr>\n",
              "      <th>2021-05-11</th>\n",
              "      <td>-0.059962</td>\n",
              "      <td>-0.609168</td>\n",
              "      <td>0.243589</td>\n",
              "    </tr>\n",
              "    <tr>\n",
              "      <th>2021-05-12</th>\n",
              "      <td>1.175882</td>\n",
              "      <td>-0.652112</td>\n",
              "      <td>-0.113109</td>\n",
              "    </tr>\n",
              "  </tbody>\n",
              "</table>\n",
              "</div>"
            ],
            "text/plain": [
              "                   A         B         D\n",
              "2021-05-07  0.974905 -0.868710 -0.380397\n",
              "2021-05-08 -0.487593 -0.716951 -0.231486\n",
              "2021-05-09  0.503181  1.084105 -0.540765\n",
              "2021-05-10 -0.677871 -1.219304 -0.051277\n",
              "2021-05-11 -0.059962 -0.609168  0.243589\n",
              "2021-05-12  1.175882 -0.652112 -0.113109"
            ]
          },
          "metadata": {
            "tags": []
          },
          "execution_count": 47
        }
      ]
    },
    {
      "cell_type": "code",
      "metadata": {
        "colab": {
          "base_uri": "https://localhost:8080/",
          "height": 228
        },
        "id": "RsfxRucMTpiZ",
        "outputId": "477e0198-5ea6-4ec9-9601-41b11456c928"
      },
      "source": [
        "df"
      ],
      "execution_count": 48,
      "outputs": [
        {
          "output_type": "execute_result",
          "data": {
            "text/html": [
              "<div>\n",
              "<style scoped>\n",
              "    .dataframe tbody tr th:only-of-type {\n",
              "        vertical-align: middle;\n",
              "    }\n",
              "\n",
              "    .dataframe tbody tr th {\n",
              "        vertical-align: top;\n",
              "    }\n",
              "\n",
              "    .dataframe thead th {\n",
              "        text-align: right;\n",
              "    }\n",
              "</style>\n",
              "<table border=\"1\" class=\"dataframe\">\n",
              "  <thead>\n",
              "    <tr style=\"text-align: right;\">\n",
              "      <th></th>\n",
              "      <th>A</th>\n",
              "      <th>B</th>\n",
              "      <th>C</th>\n",
              "      <th>D</th>\n",
              "    </tr>\n",
              "  </thead>\n",
              "  <tbody>\n",
              "    <tr>\n",
              "      <th>2021-05-07</th>\n",
              "      <td>0.974905</td>\n",
              "      <td>-0.868710</td>\n",
              "      <td>0.278801</td>\n",
              "      <td>-0.380397</td>\n",
              "    </tr>\n",
              "    <tr>\n",
              "      <th>2021-05-08</th>\n",
              "      <td>-0.487593</td>\n",
              "      <td>-0.716951</td>\n",
              "      <td>1.104461</td>\n",
              "      <td>-0.231486</td>\n",
              "    </tr>\n",
              "    <tr>\n",
              "      <th>2021-05-09</th>\n",
              "      <td>0.503181</td>\n",
              "      <td>1.084105</td>\n",
              "      <td>-0.406289</td>\n",
              "      <td>-0.540765</td>\n",
              "    </tr>\n",
              "    <tr>\n",
              "      <th>2021-05-10</th>\n",
              "      <td>-0.677871</td>\n",
              "      <td>-1.219304</td>\n",
              "      <td>0.744622</td>\n",
              "      <td>-0.051277</td>\n",
              "    </tr>\n",
              "    <tr>\n",
              "      <th>2021-05-11</th>\n",
              "      <td>-0.059962</td>\n",
              "      <td>-0.609168</td>\n",
              "      <td>0.416889</td>\n",
              "      <td>0.243589</td>\n",
              "    </tr>\n",
              "    <tr>\n",
              "      <th>2021-05-12</th>\n",
              "      <td>1.175882</td>\n",
              "      <td>-0.652112</td>\n",
              "      <td>-0.784628</td>\n",
              "      <td>-0.113109</td>\n",
              "    </tr>\n",
              "  </tbody>\n",
              "</table>\n",
              "</div>"
            ],
            "text/plain": [
              "                   A         B         C         D\n",
              "2021-05-07  0.974905 -0.868710  0.278801 -0.380397\n",
              "2021-05-08 -0.487593 -0.716951  1.104461 -0.231486\n",
              "2021-05-09  0.503181  1.084105 -0.406289 -0.540765\n",
              "2021-05-10 -0.677871 -1.219304  0.744622 -0.051277\n",
              "2021-05-11 -0.059962 -0.609168  0.416889  0.243589\n",
              "2021-05-12  1.175882 -0.652112 -0.784628 -0.113109"
            ]
          },
          "metadata": {
            "tags": []
          },
          "execution_count": 48
        }
      ]
    },
    {
      "cell_type": "code",
      "metadata": {
        "colab": {
          "base_uri": "https://localhost:8080/"
        },
        "id": "50UFFwvXT3Kp",
        "outputId": "258c57ff-1892-4e51-998d-c6a89e2dbea2"
      },
      "source": [
        "print(df[0:3]),\n",
        "print(df['20210507':'20210509'])\n",
        "print(df[['A','B','C']])"
      ],
      "execution_count": 56,
      "outputs": [
        {
          "output_type": "stream",
          "text": [
            "                   A         B         C         D\n",
            "2021-05-07  0.974905 -0.868710  0.278801 -0.380397\n",
            "2021-05-08 -0.487593 -0.716951  1.104461 -0.231486\n",
            "2021-05-09  0.503181  1.084105 -0.406289 -0.540765\n",
            "                   A         B         C         D\n",
            "2021-05-07  0.974905 -0.868710  0.278801 -0.380397\n",
            "2021-05-08 -0.487593 -0.716951  1.104461 -0.231486\n",
            "2021-05-09  0.503181  1.084105 -0.406289 -0.540765\n",
            "                   A         B         C\n",
            "2021-05-07  0.974905 -0.868710  0.278801\n",
            "2021-05-08 -0.487593 -0.716951  1.104461\n",
            "2021-05-09  0.503181  1.084105 -0.406289\n",
            "2021-05-10 -0.677871 -1.219304  0.744622\n",
            "2021-05-11 -0.059962 -0.609168  0.416889\n",
            "2021-05-12  1.175882 -0.652112 -0.784628\n"
          ],
          "name": "stdout"
        }
      ]
    },
    {
      "cell_type": "code",
      "metadata": {
        "colab": {
          "base_uri": "https://localhost:8080/",
          "height": 228
        },
        "id": "SJyJLjIyT7Vp",
        "outputId": "2a6679a9-68ed-4ad9-f38b-6e42cfcdf7ea"
      },
      "source": [
        "df"
      ],
      "execution_count": 57,
      "outputs": [
        {
          "output_type": "execute_result",
          "data": {
            "text/html": [
              "<div>\n",
              "<style scoped>\n",
              "    .dataframe tbody tr th:only-of-type {\n",
              "        vertical-align: middle;\n",
              "    }\n",
              "\n",
              "    .dataframe tbody tr th {\n",
              "        vertical-align: top;\n",
              "    }\n",
              "\n",
              "    .dataframe thead th {\n",
              "        text-align: right;\n",
              "    }\n",
              "</style>\n",
              "<table border=\"1\" class=\"dataframe\">\n",
              "  <thead>\n",
              "    <tr style=\"text-align: right;\">\n",
              "      <th></th>\n",
              "      <th>A</th>\n",
              "      <th>B</th>\n",
              "      <th>C</th>\n",
              "      <th>D</th>\n",
              "    </tr>\n",
              "  </thead>\n",
              "  <tbody>\n",
              "    <tr>\n",
              "      <th>2021-05-07</th>\n",
              "      <td>0.974905</td>\n",
              "      <td>-0.868710</td>\n",
              "      <td>0.278801</td>\n",
              "      <td>-0.380397</td>\n",
              "    </tr>\n",
              "    <tr>\n",
              "      <th>2021-05-08</th>\n",
              "      <td>-0.487593</td>\n",
              "      <td>-0.716951</td>\n",
              "      <td>1.104461</td>\n",
              "      <td>-0.231486</td>\n",
              "    </tr>\n",
              "    <tr>\n",
              "      <th>2021-05-09</th>\n",
              "      <td>0.503181</td>\n",
              "      <td>1.084105</td>\n",
              "      <td>-0.406289</td>\n",
              "      <td>-0.540765</td>\n",
              "    </tr>\n",
              "    <tr>\n",
              "      <th>2021-05-10</th>\n",
              "      <td>-0.677871</td>\n",
              "      <td>-1.219304</td>\n",
              "      <td>0.744622</td>\n",
              "      <td>-0.051277</td>\n",
              "    </tr>\n",
              "    <tr>\n",
              "      <th>2021-05-11</th>\n",
              "      <td>-0.059962</td>\n",
              "      <td>-0.609168</td>\n",
              "      <td>0.416889</td>\n",
              "      <td>0.243589</td>\n",
              "    </tr>\n",
              "    <tr>\n",
              "      <th>2021-05-12</th>\n",
              "      <td>1.175882</td>\n",
              "      <td>-0.652112</td>\n",
              "      <td>-0.784628</td>\n",
              "      <td>-0.113109</td>\n",
              "    </tr>\n",
              "  </tbody>\n",
              "</table>\n",
              "</div>"
            ],
            "text/plain": [
              "                   A         B         C         D\n",
              "2021-05-07  0.974905 -0.868710  0.278801 -0.380397\n",
              "2021-05-08 -0.487593 -0.716951  1.104461 -0.231486\n",
              "2021-05-09  0.503181  1.084105 -0.406289 -0.540765\n",
              "2021-05-10 -0.677871 -1.219304  0.744622 -0.051277\n",
              "2021-05-11 -0.059962 -0.609168  0.416889  0.243589\n",
              "2021-05-12  1.175882 -0.652112 -0.784628 -0.113109"
            ]
          },
          "metadata": {
            "tags": []
          },
          "execution_count": 57
        }
      ]
    },
    {
      "cell_type": "code",
      "metadata": {
        "colab": {
          "base_uri": "https://localhost:8080/",
          "height": 108
        },
        "id": "TcS1K-YZUs85",
        "outputId": "4d38f0d0-51fe-43a6-8874-4f02ddd2ab30"
      },
      "source": [
        "df.loc['20210507':'20210508',['A','C']]"
      ],
      "execution_count": 63,
      "outputs": [
        {
          "output_type": "execute_result",
          "data": {
            "text/html": [
              "<div>\n",
              "<style scoped>\n",
              "    .dataframe tbody tr th:only-of-type {\n",
              "        vertical-align: middle;\n",
              "    }\n",
              "\n",
              "    .dataframe tbody tr th {\n",
              "        vertical-align: top;\n",
              "    }\n",
              "\n",
              "    .dataframe thead th {\n",
              "        text-align: right;\n",
              "    }\n",
              "</style>\n",
              "<table border=\"1\" class=\"dataframe\">\n",
              "  <thead>\n",
              "    <tr style=\"text-align: right;\">\n",
              "      <th></th>\n",
              "      <th>A</th>\n",
              "      <th>C</th>\n",
              "    </tr>\n",
              "  </thead>\n",
              "  <tbody>\n",
              "    <tr>\n",
              "      <th>2021-05-07</th>\n",
              "      <td>0.974905</td>\n",
              "      <td>0.278801</td>\n",
              "    </tr>\n",
              "    <tr>\n",
              "      <th>2021-05-08</th>\n",
              "      <td>-0.487593</td>\n",
              "      <td>1.104461</td>\n",
              "    </tr>\n",
              "  </tbody>\n",
              "</table>\n",
              "</div>"
            ],
            "text/plain": [
              "                   A         C\n",
              "2021-05-07  0.974905  0.278801\n",
              "2021-05-08 -0.487593  1.104461"
            ]
          },
          "metadata": {
            "tags": []
          },
          "execution_count": 63
        }
      ]
    },
    {
      "cell_type": "code",
      "metadata": {
        "colab": {
          "base_uri": "https://localhost:8080/",
          "height": 108
        },
        "id": "ExH2cKE7UuYp",
        "outputId": "134a4497-fd5d-461e-e002-a2dae1b924ac"
      },
      "source": [
        "df.iloc[1:3,0:3]"
      ],
      "execution_count": 68,
      "outputs": [
        {
          "output_type": "execute_result",
          "data": {
            "text/html": [
              "<div>\n",
              "<style scoped>\n",
              "    .dataframe tbody tr th:only-of-type {\n",
              "        vertical-align: middle;\n",
              "    }\n",
              "\n",
              "    .dataframe tbody tr th {\n",
              "        vertical-align: top;\n",
              "    }\n",
              "\n",
              "    .dataframe thead th {\n",
              "        text-align: right;\n",
              "    }\n",
              "</style>\n",
              "<table border=\"1\" class=\"dataframe\">\n",
              "  <thead>\n",
              "    <tr style=\"text-align: right;\">\n",
              "      <th></th>\n",
              "      <th>A</th>\n",
              "      <th>B</th>\n",
              "      <th>C</th>\n",
              "    </tr>\n",
              "  </thead>\n",
              "  <tbody>\n",
              "    <tr>\n",
              "      <th>2021-05-08</th>\n",
              "      <td>-0.487593</td>\n",
              "      <td>-0.716951</td>\n",
              "      <td>1.104461</td>\n",
              "    </tr>\n",
              "    <tr>\n",
              "      <th>2021-05-09</th>\n",
              "      <td>0.503181</td>\n",
              "      <td>1.084105</td>\n",
              "      <td>-0.406289</td>\n",
              "    </tr>\n",
              "  </tbody>\n",
              "</table>\n",
              "</div>"
            ],
            "text/plain": [
              "                   A         B         C\n",
              "2021-05-08 -0.487593 -0.716951  1.104461\n",
              "2021-05-09  0.503181  1.084105 -0.406289"
            ]
          },
          "metadata": {
            "tags": []
          },
          "execution_count": 68
        }
      ]
    },
    {
      "cell_type": "code",
      "metadata": {
        "colab": {
          "base_uri": "https://localhost:8080/"
        },
        "id": "TpPj4N6NVqmZ",
        "outputId": "90958a74-a343-40f8-c9de-72cebd888292"
      },
      "source": [
        "df.iloc[0,3],[1,3]"
      ],
      "execution_count": 73,
      "outputs": [
        {
          "output_type": "execute_result",
          "data": {
            "text/plain": [
              "(-0.38039734655181673, [1, 3])"
            ]
          },
          "metadata": {
            "tags": []
          },
          "execution_count": 73
        }
      ]
    },
    {
      "cell_type": "code",
      "metadata": {
        "colab": {
          "base_uri": "https://localhost:8080/",
          "height": 228
        },
        "id": "6lhi5u-pWuVd",
        "outputId": "06c75d0b-f5ac-4ea3-af23-c1aad3e5ae4f"
      },
      "source": [
        "df"
      ],
      "execution_count": 74,
      "outputs": [
        {
          "output_type": "execute_result",
          "data": {
            "text/html": [
              "<div>\n",
              "<style scoped>\n",
              "    .dataframe tbody tr th:only-of-type {\n",
              "        vertical-align: middle;\n",
              "    }\n",
              "\n",
              "    .dataframe tbody tr th {\n",
              "        vertical-align: top;\n",
              "    }\n",
              "\n",
              "    .dataframe thead th {\n",
              "        text-align: right;\n",
              "    }\n",
              "</style>\n",
              "<table border=\"1\" class=\"dataframe\">\n",
              "  <thead>\n",
              "    <tr style=\"text-align: right;\">\n",
              "      <th></th>\n",
              "      <th>A</th>\n",
              "      <th>B</th>\n",
              "      <th>C</th>\n",
              "      <th>D</th>\n",
              "    </tr>\n",
              "  </thead>\n",
              "  <tbody>\n",
              "    <tr>\n",
              "      <th>2021-05-07</th>\n",
              "      <td>0.974905</td>\n",
              "      <td>-0.868710</td>\n",
              "      <td>0.278801</td>\n",
              "      <td>-0.380397</td>\n",
              "    </tr>\n",
              "    <tr>\n",
              "      <th>2021-05-08</th>\n",
              "      <td>-0.487593</td>\n",
              "      <td>-0.716951</td>\n",
              "      <td>1.104461</td>\n",
              "      <td>-0.231486</td>\n",
              "    </tr>\n",
              "    <tr>\n",
              "      <th>2021-05-09</th>\n",
              "      <td>0.503181</td>\n",
              "      <td>1.084105</td>\n",
              "      <td>-0.406289</td>\n",
              "      <td>-0.540765</td>\n",
              "    </tr>\n",
              "    <tr>\n",
              "      <th>2021-05-10</th>\n",
              "      <td>-0.677871</td>\n",
              "      <td>-1.219304</td>\n",
              "      <td>0.744622</td>\n",
              "      <td>-0.051277</td>\n",
              "    </tr>\n",
              "    <tr>\n",
              "      <th>2021-05-11</th>\n",
              "      <td>-0.059962</td>\n",
              "      <td>-0.609168</td>\n",
              "      <td>0.416889</td>\n",
              "      <td>0.243589</td>\n",
              "    </tr>\n",
              "    <tr>\n",
              "      <th>2021-05-12</th>\n",
              "      <td>1.175882</td>\n",
              "      <td>-0.652112</td>\n",
              "      <td>-0.784628</td>\n",
              "      <td>-0.113109</td>\n",
              "    </tr>\n",
              "  </tbody>\n",
              "</table>\n",
              "</div>"
            ],
            "text/plain": [
              "                   A         B         C         D\n",
              "2021-05-07  0.974905 -0.868710  0.278801 -0.380397\n",
              "2021-05-08 -0.487593 -0.716951  1.104461 -0.231486\n",
              "2021-05-09  0.503181  1.084105 -0.406289 -0.540765\n",
              "2021-05-10 -0.677871 -1.219304  0.744622 -0.051277\n",
              "2021-05-11 -0.059962 -0.609168  0.416889  0.243589\n",
              "2021-05-12  1.175882 -0.652112 -0.784628 -0.113109"
            ]
          },
          "metadata": {
            "tags": []
          },
          "execution_count": 74
        }
      ]
    },
    {
      "cell_type": "code",
      "metadata": {
        "colab": {
          "base_uri": "https://localhost:8080/"
        },
        "id": "FxLdjJCwXAhZ",
        "outputId": "9f2a0f34-37fe-43c0-a2db-1645284fa993"
      },
      "source": [
        "df.iloc[0,0]"
      ],
      "execution_count": 75,
      "outputs": [
        {
          "output_type": "execute_result",
          "data": {
            "text/plain": [
              "0.9749051781547813"
            ]
          },
          "metadata": {
            "tags": []
          },
          "execution_count": 75
        }
      ]
    },
    {
      "cell_type": "code",
      "metadata": {
        "colab": {
          "base_uri": "https://localhost:8080/"
        },
        "id": "7VJgkwmdXDa5",
        "outputId": "69b61e32-8686-40a0-f28d-5cd3967b64c2"
      },
      "source": [
        "df.iloc[3,2]"
      ],
      "execution_count": 76,
      "outputs": [
        {
          "output_type": "execute_result",
          "data": {
            "text/plain": [
              "0.7446221682839635"
            ]
          },
          "metadata": {
            "tags": []
          },
          "execution_count": 76
        }
      ]
    },
    {
      "cell_type": "code",
      "metadata": {
        "colab": {
          "base_uri": "https://localhost:8080/",
          "height": 108
        },
        "id": "VzH0yegDXIEo",
        "outputId": "690e82eb-a759-45ab-f91e-e3d9968a93f0"
      },
      "source": [
        "df.iloc[[1, 3],[1, 3]]"
      ],
      "execution_count": 77,
      "outputs": [
        {
          "output_type": "execute_result",
          "data": {
            "text/html": [
              "<div>\n",
              "<style scoped>\n",
              "    .dataframe tbody tr th:only-of-type {\n",
              "        vertical-align: middle;\n",
              "    }\n",
              "\n",
              "    .dataframe tbody tr th {\n",
              "        vertical-align: top;\n",
              "    }\n",
              "\n",
              "    .dataframe thead th {\n",
              "        text-align: right;\n",
              "    }\n",
              "</style>\n",
              "<table border=\"1\" class=\"dataframe\">\n",
              "  <thead>\n",
              "    <tr style=\"text-align: right;\">\n",
              "      <th></th>\n",
              "      <th>B</th>\n",
              "      <th>D</th>\n",
              "    </tr>\n",
              "  </thead>\n",
              "  <tbody>\n",
              "    <tr>\n",
              "      <th>2021-05-08</th>\n",
              "      <td>-0.716951</td>\n",
              "      <td>-0.231486</td>\n",
              "    </tr>\n",
              "    <tr>\n",
              "      <th>2021-05-10</th>\n",
              "      <td>-1.219304</td>\n",
              "      <td>-0.051277</td>\n",
              "    </tr>\n",
              "  </tbody>\n",
              "</table>\n",
              "</div>"
            ],
            "text/plain": [
              "                   B         D\n",
              "2021-05-08 -0.716951 -0.231486\n",
              "2021-05-10 -1.219304 -0.051277"
            ]
          },
          "metadata": {
            "tags": []
          },
          "execution_count": 77
        }
      ]
    },
    {
      "cell_type": "code",
      "metadata": {
        "colab": {
          "base_uri": "https://localhost:8080/",
          "height": 228
        },
        "id": "M1ClBzF_X0EJ",
        "outputId": "636112ce-35cf-444a-c77d-8928842a1dbb"
      },
      "source": [
        "df"
      ],
      "execution_count": 78,
      "outputs": [
        {
          "output_type": "execute_result",
          "data": {
            "text/html": [
              "<div>\n",
              "<style scoped>\n",
              "    .dataframe tbody tr th:only-of-type {\n",
              "        vertical-align: middle;\n",
              "    }\n",
              "\n",
              "    .dataframe tbody tr th {\n",
              "        vertical-align: top;\n",
              "    }\n",
              "\n",
              "    .dataframe thead th {\n",
              "        text-align: right;\n",
              "    }\n",
              "</style>\n",
              "<table border=\"1\" class=\"dataframe\">\n",
              "  <thead>\n",
              "    <tr style=\"text-align: right;\">\n",
              "      <th></th>\n",
              "      <th>A</th>\n",
              "      <th>B</th>\n",
              "      <th>C</th>\n",
              "      <th>D</th>\n",
              "    </tr>\n",
              "  </thead>\n",
              "  <tbody>\n",
              "    <tr>\n",
              "      <th>2021-05-07</th>\n",
              "      <td>0.974905</td>\n",
              "      <td>-0.868710</td>\n",
              "      <td>0.278801</td>\n",
              "      <td>-0.380397</td>\n",
              "    </tr>\n",
              "    <tr>\n",
              "      <th>2021-05-08</th>\n",
              "      <td>-0.487593</td>\n",
              "      <td>-0.716951</td>\n",
              "      <td>1.104461</td>\n",
              "      <td>-0.231486</td>\n",
              "    </tr>\n",
              "    <tr>\n",
              "      <th>2021-05-09</th>\n",
              "      <td>0.503181</td>\n",
              "      <td>1.084105</td>\n",
              "      <td>-0.406289</td>\n",
              "      <td>-0.540765</td>\n",
              "    </tr>\n",
              "    <tr>\n",
              "      <th>2021-05-10</th>\n",
              "      <td>-0.677871</td>\n",
              "      <td>-1.219304</td>\n",
              "      <td>0.744622</td>\n",
              "      <td>-0.051277</td>\n",
              "    </tr>\n",
              "    <tr>\n",
              "      <th>2021-05-11</th>\n",
              "      <td>-0.059962</td>\n",
              "      <td>-0.609168</td>\n",
              "      <td>0.416889</td>\n",
              "      <td>0.243589</td>\n",
              "    </tr>\n",
              "    <tr>\n",
              "      <th>2021-05-12</th>\n",
              "      <td>1.175882</td>\n",
              "      <td>-0.652112</td>\n",
              "      <td>-0.784628</td>\n",
              "      <td>-0.113109</td>\n",
              "    </tr>\n",
              "  </tbody>\n",
              "</table>\n",
              "</div>"
            ],
            "text/plain": [
              "                   A         B         C         D\n",
              "2021-05-07  0.974905 -0.868710  0.278801 -0.380397\n",
              "2021-05-08 -0.487593 -0.716951  1.104461 -0.231486\n",
              "2021-05-09  0.503181  1.084105 -0.406289 -0.540765\n",
              "2021-05-10 -0.677871 -1.219304  0.744622 -0.051277\n",
              "2021-05-11 -0.059962 -0.609168  0.416889  0.243589\n",
              "2021-05-12  1.175882 -0.652112 -0.784628 -0.113109"
            ]
          },
          "metadata": {
            "tags": []
          },
          "execution_count": 78
        }
      ]
    },
    {
      "cell_type": "code",
      "metadata": {
        "colab": {
          "base_uri": "https://localhost:8080/"
        },
        "id": "O5gIiew2YSq5",
        "outputId": "381d56c1-5752-4d8a-a79b-05dc1196bc8e"
      },
      "source": [
        "df.A > 0.5"
      ],
      "execution_count": 82,
      "outputs": [
        {
          "output_type": "execute_result",
          "data": {
            "text/plain": [
              "2021-05-07     True\n",
              "2021-05-08    False\n",
              "2021-05-09     True\n",
              "2021-05-10    False\n",
              "2021-05-11    False\n",
              "2021-05-12     True\n",
              "Freq: D, Name: A, dtype: bool"
            ]
          },
          "metadata": {
            "tags": []
          },
          "execution_count": 82
        }
      ]
    },
    {
      "cell_type": "code",
      "metadata": {
        "colab": {
          "base_uri": "https://localhost:8080/",
          "height": 138
        },
        "id": "oMZdduK5YWWJ",
        "outputId": "46ce8e1c-a79c-4290-a4f8-80aa580726bd"
      },
      "source": [
        "df[df.A > 0.5]"
      ],
      "execution_count": 83,
      "outputs": [
        {
          "output_type": "execute_result",
          "data": {
            "text/html": [
              "<div>\n",
              "<style scoped>\n",
              "    .dataframe tbody tr th:only-of-type {\n",
              "        vertical-align: middle;\n",
              "    }\n",
              "\n",
              "    .dataframe tbody tr th {\n",
              "        vertical-align: top;\n",
              "    }\n",
              "\n",
              "    .dataframe thead th {\n",
              "        text-align: right;\n",
              "    }\n",
              "</style>\n",
              "<table border=\"1\" class=\"dataframe\">\n",
              "  <thead>\n",
              "    <tr style=\"text-align: right;\">\n",
              "      <th></th>\n",
              "      <th>A</th>\n",
              "      <th>B</th>\n",
              "      <th>C</th>\n",
              "      <th>D</th>\n",
              "    </tr>\n",
              "  </thead>\n",
              "  <tbody>\n",
              "    <tr>\n",
              "      <th>2021-05-07</th>\n",
              "      <td>0.974905</td>\n",
              "      <td>-0.868710</td>\n",
              "      <td>0.278801</td>\n",
              "      <td>-0.380397</td>\n",
              "    </tr>\n",
              "    <tr>\n",
              "      <th>2021-05-09</th>\n",
              "      <td>0.503181</td>\n",
              "      <td>1.084105</td>\n",
              "      <td>-0.406289</td>\n",
              "      <td>-0.540765</td>\n",
              "    </tr>\n",
              "    <tr>\n",
              "      <th>2021-05-12</th>\n",
              "      <td>1.175882</td>\n",
              "      <td>-0.652112</td>\n",
              "      <td>-0.784628</td>\n",
              "      <td>-0.113109</td>\n",
              "    </tr>\n",
              "  </tbody>\n",
              "</table>\n",
              "</div>"
            ],
            "text/plain": [
              "                   A         B         C         D\n",
              "2021-05-07  0.974905 -0.868710  0.278801 -0.380397\n",
              "2021-05-09  0.503181  1.084105 -0.406289 -0.540765\n",
              "2021-05-12  1.175882 -0.652112 -0.784628 -0.113109"
            ]
          },
          "metadata": {
            "tags": []
          },
          "execution_count": 83
        }
      ]
    },
    {
      "cell_type": "code",
      "metadata": {
        "colab": {
          "base_uri": "https://localhost:8080/",
          "height": 228
        },
        "id": "kAwSvkK1YrDX",
        "outputId": "fcb9c560-18be-49a7-f24b-8bd8fb5fddba"
      },
      "source": [
        "df > 0"
      ],
      "execution_count": 84,
      "outputs": [
        {
          "output_type": "execute_result",
          "data": {
            "text/html": [
              "<div>\n",
              "<style scoped>\n",
              "    .dataframe tbody tr th:only-of-type {\n",
              "        vertical-align: middle;\n",
              "    }\n",
              "\n",
              "    .dataframe tbody tr th {\n",
              "        vertical-align: top;\n",
              "    }\n",
              "\n",
              "    .dataframe thead th {\n",
              "        text-align: right;\n",
              "    }\n",
              "</style>\n",
              "<table border=\"1\" class=\"dataframe\">\n",
              "  <thead>\n",
              "    <tr style=\"text-align: right;\">\n",
              "      <th></th>\n",
              "      <th>A</th>\n",
              "      <th>B</th>\n",
              "      <th>C</th>\n",
              "      <th>D</th>\n",
              "    </tr>\n",
              "  </thead>\n",
              "  <tbody>\n",
              "    <tr>\n",
              "      <th>2021-05-07</th>\n",
              "      <td>True</td>\n",
              "      <td>False</td>\n",
              "      <td>True</td>\n",
              "      <td>False</td>\n",
              "    </tr>\n",
              "    <tr>\n",
              "      <th>2021-05-08</th>\n",
              "      <td>False</td>\n",
              "      <td>False</td>\n",
              "      <td>True</td>\n",
              "      <td>False</td>\n",
              "    </tr>\n",
              "    <tr>\n",
              "      <th>2021-05-09</th>\n",
              "      <td>True</td>\n",
              "      <td>True</td>\n",
              "      <td>False</td>\n",
              "      <td>False</td>\n",
              "    </tr>\n",
              "    <tr>\n",
              "      <th>2021-05-10</th>\n",
              "      <td>False</td>\n",
              "      <td>False</td>\n",
              "      <td>True</td>\n",
              "      <td>False</td>\n",
              "    </tr>\n",
              "    <tr>\n",
              "      <th>2021-05-11</th>\n",
              "      <td>False</td>\n",
              "      <td>False</td>\n",
              "      <td>True</td>\n",
              "      <td>True</td>\n",
              "    </tr>\n",
              "    <tr>\n",
              "      <th>2021-05-12</th>\n",
              "      <td>True</td>\n",
              "      <td>False</td>\n",
              "      <td>False</td>\n",
              "      <td>False</td>\n",
              "    </tr>\n",
              "  </tbody>\n",
              "</table>\n",
              "</div>"
            ],
            "text/plain": [
              "                A      B      C      D\n",
              "2021-05-07   True  False   True  False\n",
              "2021-05-08  False  False   True  False\n",
              "2021-05-09   True   True  False  False\n",
              "2021-05-10  False  False   True  False\n",
              "2021-05-11  False  False   True   True\n",
              "2021-05-12   True  False  False  False"
            ]
          },
          "metadata": {
            "tags": []
          },
          "execution_count": 84
        }
      ]
    },
    {
      "cell_type": "code",
      "metadata": {
        "colab": {
          "base_uri": "https://localhost:8080/",
          "height": 228
        },
        "id": "TxjTNJRbY_g4",
        "outputId": "64426c0b-d937-499d-fc94-d007e0ddfdd4"
      },
      "source": [
        "df[df>0]"
      ],
      "execution_count": 85,
      "outputs": [
        {
          "output_type": "execute_result",
          "data": {
            "text/html": [
              "<div>\n",
              "<style scoped>\n",
              "    .dataframe tbody tr th:only-of-type {\n",
              "        vertical-align: middle;\n",
              "    }\n",
              "\n",
              "    .dataframe tbody tr th {\n",
              "        vertical-align: top;\n",
              "    }\n",
              "\n",
              "    .dataframe thead th {\n",
              "        text-align: right;\n",
              "    }\n",
              "</style>\n",
              "<table border=\"1\" class=\"dataframe\">\n",
              "  <thead>\n",
              "    <tr style=\"text-align: right;\">\n",
              "      <th></th>\n",
              "      <th>A</th>\n",
              "      <th>B</th>\n",
              "      <th>C</th>\n",
              "      <th>D</th>\n",
              "    </tr>\n",
              "  </thead>\n",
              "  <tbody>\n",
              "    <tr>\n",
              "      <th>2021-05-07</th>\n",
              "      <td>0.974905</td>\n",
              "      <td>NaN</td>\n",
              "      <td>0.278801</td>\n",
              "      <td>NaN</td>\n",
              "    </tr>\n",
              "    <tr>\n",
              "      <th>2021-05-08</th>\n",
              "      <td>NaN</td>\n",
              "      <td>NaN</td>\n",
              "      <td>1.104461</td>\n",
              "      <td>NaN</td>\n",
              "    </tr>\n",
              "    <tr>\n",
              "      <th>2021-05-09</th>\n",
              "      <td>0.503181</td>\n",
              "      <td>1.084105</td>\n",
              "      <td>NaN</td>\n",
              "      <td>NaN</td>\n",
              "    </tr>\n",
              "    <tr>\n",
              "      <th>2021-05-10</th>\n",
              "      <td>NaN</td>\n",
              "      <td>NaN</td>\n",
              "      <td>0.744622</td>\n",
              "      <td>NaN</td>\n",
              "    </tr>\n",
              "    <tr>\n",
              "      <th>2021-05-11</th>\n",
              "      <td>NaN</td>\n",
              "      <td>NaN</td>\n",
              "      <td>0.416889</td>\n",
              "      <td>0.243589</td>\n",
              "    </tr>\n",
              "    <tr>\n",
              "      <th>2021-05-12</th>\n",
              "      <td>1.175882</td>\n",
              "      <td>NaN</td>\n",
              "      <td>NaN</td>\n",
              "      <td>NaN</td>\n",
              "    </tr>\n",
              "  </tbody>\n",
              "</table>\n",
              "</div>"
            ],
            "text/plain": [
              "                   A         B         C         D\n",
              "2021-05-07  0.974905       NaN  0.278801       NaN\n",
              "2021-05-08       NaN       NaN  1.104461       NaN\n",
              "2021-05-09  0.503181  1.084105       NaN       NaN\n",
              "2021-05-10       NaN       NaN  0.744622       NaN\n",
              "2021-05-11       NaN       NaN  0.416889  0.243589\n",
              "2021-05-12  1.175882       NaN       NaN       NaN"
            ]
          },
          "metadata": {
            "tags": []
          },
          "execution_count": 85
        }
      ]
    },
    {
      "cell_type": "code",
      "metadata": {
        "id": "e4GAjBFXZBm5"
      },
      "source": [
        "df2 = df.copy()"
      ],
      "execution_count": 86,
      "outputs": []
    },
    {
      "cell_type": "code",
      "metadata": {
        "id": "Co466FzMZX95"
      },
      "source": [
        "df2['E'] = ['one', 'one', 'two', 'three', 'four', 'three']"
      ],
      "execution_count": 90,
      "outputs": []
    },
    {
      "cell_type": "code",
      "metadata": {
        "colab": {
          "base_uri": "https://localhost:8080/",
          "height": 228
        },
        "id": "eR1tKohqZujY",
        "outputId": "9dd6c956-dd4e-4e56-9dbe-a95249afb934"
      },
      "source": [
        "df2"
      ],
      "execution_count": 91,
      "outputs": [
        {
          "output_type": "execute_result",
          "data": {
            "text/html": [
              "<div>\n",
              "<style scoped>\n",
              "    .dataframe tbody tr th:only-of-type {\n",
              "        vertical-align: middle;\n",
              "    }\n",
              "\n",
              "    .dataframe tbody tr th {\n",
              "        vertical-align: top;\n",
              "    }\n",
              "\n",
              "    .dataframe thead th {\n",
              "        text-align: right;\n",
              "    }\n",
              "</style>\n",
              "<table border=\"1\" class=\"dataframe\">\n",
              "  <thead>\n",
              "    <tr style=\"text-align: right;\">\n",
              "      <th></th>\n",
              "      <th>A</th>\n",
              "      <th>B</th>\n",
              "      <th>C</th>\n",
              "      <th>D</th>\n",
              "      <th>E</th>\n",
              "    </tr>\n",
              "  </thead>\n",
              "  <tbody>\n",
              "    <tr>\n",
              "      <th>2021-05-07</th>\n",
              "      <td>0.974905</td>\n",
              "      <td>-0.868710</td>\n",
              "      <td>0.278801</td>\n",
              "      <td>-0.380397</td>\n",
              "      <td>one</td>\n",
              "    </tr>\n",
              "    <tr>\n",
              "      <th>2021-05-08</th>\n",
              "      <td>-0.487593</td>\n",
              "      <td>-0.716951</td>\n",
              "      <td>1.104461</td>\n",
              "      <td>-0.231486</td>\n",
              "      <td>one</td>\n",
              "    </tr>\n",
              "    <tr>\n",
              "      <th>2021-05-09</th>\n",
              "      <td>0.503181</td>\n",
              "      <td>1.084105</td>\n",
              "      <td>-0.406289</td>\n",
              "      <td>-0.540765</td>\n",
              "      <td>two</td>\n",
              "    </tr>\n",
              "    <tr>\n",
              "      <th>2021-05-10</th>\n",
              "      <td>-0.677871</td>\n",
              "      <td>-1.219304</td>\n",
              "      <td>0.744622</td>\n",
              "      <td>-0.051277</td>\n",
              "      <td>three</td>\n",
              "    </tr>\n",
              "    <tr>\n",
              "      <th>2021-05-11</th>\n",
              "      <td>-0.059962</td>\n",
              "      <td>-0.609168</td>\n",
              "      <td>0.416889</td>\n",
              "      <td>0.243589</td>\n",
              "      <td>four</td>\n",
              "    </tr>\n",
              "    <tr>\n",
              "      <th>2021-05-12</th>\n",
              "      <td>1.175882</td>\n",
              "      <td>-0.652112</td>\n",
              "      <td>-0.784628</td>\n",
              "      <td>-0.113109</td>\n",
              "      <td>three</td>\n",
              "    </tr>\n",
              "  </tbody>\n",
              "</table>\n",
              "</div>"
            ],
            "text/plain": [
              "                   A         B         C         D      E\n",
              "2021-05-07  0.974905 -0.868710  0.278801 -0.380397    one\n",
              "2021-05-08 -0.487593 -0.716951  1.104461 -0.231486    one\n",
              "2021-05-09  0.503181  1.084105 -0.406289 -0.540765    two\n",
              "2021-05-10 -0.677871 -1.219304  0.744622 -0.051277  three\n",
              "2021-05-11 -0.059962 -0.609168  0.416889  0.243589   four\n",
              "2021-05-12  1.175882 -0.652112 -0.784628 -0.113109  three"
            ]
          },
          "metadata": {
            "tags": []
          },
          "execution_count": 91
        }
      ]
    },
    {
      "cell_type": "code",
      "metadata": {
        "colab": {
          "base_uri": "https://localhost:8080/",
          "height": 108
        },
        "id": "QeVQgdYPZvFY",
        "outputId": "c95e559f-5ba4-4bda-8d4e-9b926ca270ad"
      },
      "source": [
        "df2[df2['E'].isin(['two','four'])]"
      ],
      "execution_count": 93,
      "outputs": [
        {
          "output_type": "execute_result",
          "data": {
            "text/html": [
              "<div>\n",
              "<style scoped>\n",
              "    .dataframe tbody tr th:only-of-type {\n",
              "        vertical-align: middle;\n",
              "    }\n",
              "\n",
              "    .dataframe tbody tr th {\n",
              "        vertical-align: top;\n",
              "    }\n",
              "\n",
              "    .dataframe thead th {\n",
              "        text-align: right;\n",
              "    }\n",
              "</style>\n",
              "<table border=\"1\" class=\"dataframe\">\n",
              "  <thead>\n",
              "    <tr style=\"text-align: right;\">\n",
              "      <th></th>\n",
              "      <th>A</th>\n",
              "      <th>B</th>\n",
              "      <th>C</th>\n",
              "      <th>D</th>\n",
              "      <th>E</th>\n",
              "    </tr>\n",
              "  </thead>\n",
              "  <tbody>\n",
              "    <tr>\n",
              "      <th>2021-05-09</th>\n",
              "      <td>0.503181</td>\n",
              "      <td>1.084105</td>\n",
              "      <td>-0.406289</td>\n",
              "      <td>-0.540765</td>\n",
              "      <td>two</td>\n",
              "    </tr>\n",
              "    <tr>\n",
              "      <th>2021-05-11</th>\n",
              "      <td>-0.059962</td>\n",
              "      <td>-0.609168</td>\n",
              "      <td>0.416889</td>\n",
              "      <td>0.243589</td>\n",
              "      <td>four</td>\n",
              "    </tr>\n",
              "  </tbody>\n",
              "</table>\n",
              "</div>"
            ],
            "text/plain": [
              "                   A         B         C         D     E\n",
              "2021-05-09  0.503181  1.084105 -0.406289 -0.540765   two\n",
              "2021-05-11 -0.059962 -0.609168  0.416889  0.243589  four"
            ]
          },
          "metadata": {
            "tags": []
          },
          "execution_count": 93
        }
      ]
    },
    {
      "cell_type": "code",
      "metadata": {
        "colab": {
          "base_uri": "https://localhost:8080/",
          "height": 228
        },
        "id": "-1_hNLEFabow",
        "outputId": "02ff47d9-a7e5-4c21-85c5-b295e91de2bf"
      },
      "source": [
        "df"
      ],
      "execution_count": 94,
      "outputs": [
        {
          "output_type": "execute_result",
          "data": {
            "text/html": [
              "<div>\n",
              "<style scoped>\n",
              "    .dataframe tbody tr th:only-of-type {\n",
              "        vertical-align: middle;\n",
              "    }\n",
              "\n",
              "    .dataframe tbody tr th {\n",
              "        vertical-align: top;\n",
              "    }\n",
              "\n",
              "    .dataframe thead th {\n",
              "        text-align: right;\n",
              "    }\n",
              "</style>\n",
              "<table border=\"1\" class=\"dataframe\">\n",
              "  <thead>\n",
              "    <tr style=\"text-align: right;\">\n",
              "      <th></th>\n",
              "      <th>A</th>\n",
              "      <th>B</th>\n",
              "      <th>C</th>\n",
              "      <th>D</th>\n",
              "    </tr>\n",
              "  </thead>\n",
              "  <tbody>\n",
              "    <tr>\n",
              "      <th>2021-05-07</th>\n",
              "      <td>0.974905</td>\n",
              "      <td>-0.868710</td>\n",
              "      <td>0.278801</td>\n",
              "      <td>-0.380397</td>\n",
              "    </tr>\n",
              "    <tr>\n",
              "      <th>2021-05-08</th>\n",
              "      <td>-0.487593</td>\n",
              "      <td>-0.716951</td>\n",
              "      <td>1.104461</td>\n",
              "      <td>-0.231486</td>\n",
              "    </tr>\n",
              "    <tr>\n",
              "      <th>2021-05-09</th>\n",
              "      <td>0.503181</td>\n",
              "      <td>1.084105</td>\n",
              "      <td>-0.406289</td>\n",
              "      <td>-0.540765</td>\n",
              "    </tr>\n",
              "    <tr>\n",
              "      <th>2021-05-10</th>\n",
              "      <td>-0.677871</td>\n",
              "      <td>-1.219304</td>\n",
              "      <td>0.744622</td>\n",
              "      <td>-0.051277</td>\n",
              "    </tr>\n",
              "    <tr>\n",
              "      <th>2021-05-11</th>\n",
              "      <td>-0.059962</td>\n",
              "      <td>-0.609168</td>\n",
              "      <td>0.416889</td>\n",
              "      <td>0.243589</td>\n",
              "    </tr>\n",
              "    <tr>\n",
              "      <th>2021-05-12</th>\n",
              "      <td>1.175882</td>\n",
              "      <td>-0.652112</td>\n",
              "      <td>-0.784628</td>\n",
              "      <td>-0.113109</td>\n",
              "    </tr>\n",
              "  </tbody>\n",
              "</table>\n",
              "</div>"
            ],
            "text/plain": [
              "                   A         B         C         D\n",
              "2021-05-07  0.974905 -0.868710  0.278801 -0.380397\n",
              "2021-05-08 -0.487593 -0.716951  1.104461 -0.231486\n",
              "2021-05-09  0.503181  1.084105 -0.406289 -0.540765\n",
              "2021-05-10 -0.677871 -1.219304  0.744622 -0.051277\n",
              "2021-05-11 -0.059962 -0.609168  0.416889  0.243589\n",
              "2021-05-12  1.175882 -0.652112 -0.784628 -0.113109"
            ]
          },
          "metadata": {
            "tags": []
          },
          "execution_count": 94
        }
      ]
    },
    {
      "cell_type": "code",
      "metadata": {
        "id": "CpkPDjsaacKZ"
      },
      "source": [
        "s1 = pd.Series([1, 2, 3, 4, 5, 6], index=pd.date_range('20210507', periods=6))"
      ],
      "execution_count": 95,
      "outputs": []
    },
    {
      "cell_type": "code",
      "metadata": {
        "id": "ash3TX5papO5"
      },
      "source": [
        "df['F']=s1"
      ],
      "execution_count": 97,
      "outputs": []
    },
    {
      "cell_type": "code",
      "metadata": {
        "colab": {
          "base_uri": "https://localhost:8080/",
          "height": 228
        },
        "id": "e9Do5aTDau8J",
        "outputId": "a70eb1df-87a6-4d88-c19f-a466f0275d3a"
      },
      "source": [
        "df"
      ],
      "execution_count": 99,
      "outputs": [
        {
          "output_type": "execute_result",
          "data": {
            "text/html": [
              "<div>\n",
              "<style scoped>\n",
              "    .dataframe tbody tr th:only-of-type {\n",
              "        vertical-align: middle;\n",
              "    }\n",
              "\n",
              "    .dataframe tbody tr th {\n",
              "        vertical-align: top;\n",
              "    }\n",
              "\n",
              "    .dataframe thead th {\n",
              "        text-align: right;\n",
              "    }\n",
              "</style>\n",
              "<table border=\"1\" class=\"dataframe\">\n",
              "  <thead>\n",
              "    <tr style=\"text-align: right;\">\n",
              "      <th></th>\n",
              "      <th>A</th>\n",
              "      <th>B</th>\n",
              "      <th>C</th>\n",
              "      <th>D</th>\n",
              "      <th>F</th>\n",
              "    </tr>\n",
              "  </thead>\n",
              "  <tbody>\n",
              "    <tr>\n",
              "      <th>2021-05-07</th>\n",
              "      <td>0.974905</td>\n",
              "      <td>-0.868710</td>\n",
              "      <td>0.278801</td>\n",
              "      <td>-0.380397</td>\n",
              "      <td>1</td>\n",
              "    </tr>\n",
              "    <tr>\n",
              "      <th>2021-05-08</th>\n",
              "      <td>-0.487593</td>\n",
              "      <td>-0.716951</td>\n",
              "      <td>1.104461</td>\n",
              "      <td>-0.231486</td>\n",
              "      <td>2</td>\n",
              "    </tr>\n",
              "    <tr>\n",
              "      <th>2021-05-09</th>\n",
              "      <td>0.503181</td>\n",
              "      <td>1.084105</td>\n",
              "      <td>-0.406289</td>\n",
              "      <td>-0.540765</td>\n",
              "      <td>3</td>\n",
              "    </tr>\n",
              "    <tr>\n",
              "      <th>2021-05-10</th>\n",
              "      <td>-0.677871</td>\n",
              "      <td>-1.219304</td>\n",
              "      <td>0.744622</td>\n",
              "      <td>-0.051277</td>\n",
              "      <td>4</td>\n",
              "    </tr>\n",
              "    <tr>\n",
              "      <th>2021-05-11</th>\n",
              "      <td>-0.059962</td>\n",
              "      <td>-0.609168</td>\n",
              "      <td>0.416889</td>\n",
              "      <td>0.243589</td>\n",
              "      <td>5</td>\n",
              "    </tr>\n",
              "    <tr>\n",
              "      <th>2021-05-12</th>\n",
              "      <td>1.175882</td>\n",
              "      <td>-0.652112</td>\n",
              "      <td>-0.784628</td>\n",
              "      <td>-0.113109</td>\n",
              "      <td>6</td>\n",
              "    </tr>\n",
              "  </tbody>\n",
              "</table>\n",
              "</div>"
            ],
            "text/plain": [
              "                   A         B         C         D  F\n",
              "2021-05-07  0.974905 -0.868710  0.278801 -0.380397  1\n",
              "2021-05-08 -0.487593 -0.716951  1.104461 -0.231486  2\n",
              "2021-05-09  0.503181  1.084105 -0.406289 -0.540765  3\n",
              "2021-05-10 -0.677871 -1.219304  0.744622 -0.051277  4\n",
              "2021-05-11 -0.059962 -0.609168  0.416889  0.243589  5\n",
              "2021-05-12  1.175882 -0.652112 -0.784628 -0.113109  6"
            ]
          },
          "metadata": {
            "tags": []
          },
          "execution_count": 99
        }
      ]
    },
    {
      "cell_type": "code",
      "metadata": {
        "id": "p-QvcfTiaw85"
      },
      "source": [
        "df[df>0] = -df"
      ],
      "execution_count": 103,
      "outputs": []
    },
    {
      "cell_type": "code",
      "metadata": {
        "colab": {
          "base_uri": "https://localhost:8080/",
          "height": 228
        },
        "id": "wIX9pRMQa32q",
        "outputId": "8e5c3a09-18b5-48ef-bd16-0d5a1836e740"
      },
      "source": [
        "df"
      ],
      "execution_count": 104,
      "outputs": [
        {
          "output_type": "execute_result",
          "data": {
            "text/html": [
              "<div>\n",
              "<style scoped>\n",
              "    .dataframe tbody tr th:only-of-type {\n",
              "        vertical-align: middle;\n",
              "    }\n",
              "\n",
              "    .dataframe tbody tr th {\n",
              "        vertical-align: top;\n",
              "    }\n",
              "\n",
              "    .dataframe thead th {\n",
              "        text-align: right;\n",
              "    }\n",
              "</style>\n",
              "<table border=\"1\" class=\"dataframe\">\n",
              "  <thead>\n",
              "    <tr style=\"text-align: right;\">\n",
              "      <th></th>\n",
              "      <th>A</th>\n",
              "      <th>B</th>\n",
              "      <th>C</th>\n",
              "      <th>D</th>\n",
              "      <th>F</th>\n",
              "    </tr>\n",
              "  </thead>\n",
              "  <tbody>\n",
              "    <tr>\n",
              "      <th>2021-05-07</th>\n",
              "      <td>-0.974905</td>\n",
              "      <td>-0.868710</td>\n",
              "      <td>-0.278801</td>\n",
              "      <td>-0.380397</td>\n",
              "      <td>-1</td>\n",
              "    </tr>\n",
              "    <tr>\n",
              "      <th>2021-05-08</th>\n",
              "      <td>-0.487593</td>\n",
              "      <td>-0.716951</td>\n",
              "      <td>-1.104461</td>\n",
              "      <td>-0.231486</td>\n",
              "      <td>-2</td>\n",
              "    </tr>\n",
              "    <tr>\n",
              "      <th>2021-05-09</th>\n",
              "      <td>-0.503181</td>\n",
              "      <td>-1.084105</td>\n",
              "      <td>-0.406289</td>\n",
              "      <td>-0.540765</td>\n",
              "      <td>-3</td>\n",
              "    </tr>\n",
              "    <tr>\n",
              "      <th>2021-05-10</th>\n",
              "      <td>-0.677871</td>\n",
              "      <td>-1.219304</td>\n",
              "      <td>-0.744622</td>\n",
              "      <td>-0.051277</td>\n",
              "      <td>-4</td>\n",
              "    </tr>\n",
              "    <tr>\n",
              "      <th>2021-05-11</th>\n",
              "      <td>-0.059962</td>\n",
              "      <td>-0.609168</td>\n",
              "      <td>-0.416889</td>\n",
              "      <td>-0.243589</td>\n",
              "      <td>-5</td>\n",
              "    </tr>\n",
              "    <tr>\n",
              "      <th>2021-05-12</th>\n",
              "      <td>-1.175882</td>\n",
              "      <td>-0.652112</td>\n",
              "      <td>-0.784628</td>\n",
              "      <td>-0.113109</td>\n",
              "      <td>-6</td>\n",
              "    </tr>\n",
              "  </tbody>\n",
              "</table>\n",
              "</div>"
            ],
            "text/plain": [
              "                   A         B         C         D  F\n",
              "2021-05-07 -0.974905 -0.868710 -0.278801 -0.380397 -1\n",
              "2021-05-08 -0.487593 -0.716951 -1.104461 -0.231486 -2\n",
              "2021-05-09 -0.503181 -1.084105 -0.406289 -0.540765 -3\n",
              "2021-05-10 -0.677871 -1.219304 -0.744622 -0.051277 -4\n",
              "2021-05-11 -0.059962 -0.609168 -0.416889 -0.243589 -5\n",
              "2021-05-12 -1.175882 -0.652112 -0.784628 -0.113109 -6"
            ]
          },
          "metadata": {
            "tags": []
          },
          "execution_count": 104
        }
      ]
    },
    {
      "cell_type": "code",
      "metadata": {
        "id": "BPxzZHI8bE9Z"
      },
      "source": [
        ""
      ],
      "execution_count": null,
      "outputs": []
    }
  ]
}